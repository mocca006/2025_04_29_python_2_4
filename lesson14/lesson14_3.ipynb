{
 "cells": [
  {
   "cell_type": "code",
   "execution_count": null,
   "id": "8288f130",
   "metadata": {},
   "outputs": [],
   "source": [
    "\n",
    "# https://www.perplexity.ai/search/00e886a4-379f-4394-ba54-88dc43881fa0\n",
    "\n",
    "# scores = np.random.randint(50,101, size=(50, 5)) #分數從50~100,50個學生,有5種學科\n",
    "\n"
   ]
  },
  {
   "cell_type": "code",
   "execution_count": null,
   "id": "32023b2c",
   "metadata": {},
   "outputs": [],
   "source": [
    "import numpy as np\n",
    "import pandas as pd\n",
    "\n",
    "scores = np.random.randint(50, 101, size=(50, 5)) # 分數從50~100,50個學生,有5種學科\n"
   ]
  },
  {
   "cell_type": "code",
   "execution_count": null,
   "id": "65d357e4",
   "metadata": {},
   "outputs": [],
   "source": [
    "df = pd.DataFrame(scores,\n",
    "             columns = [\"國文\",\"英文\",\"地理\",\"人文\",\"氣候\"],\n",
    "             index=[f\"stu{i}\" for i in range(1,51)]\n",
    "             )\n",
    "\n",
    "df"
   ]
  },
  {
   "cell_type": "code",
   "execution_count": null,
   "id": "16c93e24",
   "metadata": {},
   "outputs": [],
   "source": [
    "df = pd.DataFrame(scores,\n",
    "             columns = [\"國文\",\"英文\",\"地理\",\"人文\",\"氣候\"],\n",
    "             index=[f\"stu{i}\" for i in range(1,51)]\n",
    "             )\n",
    "\n",
    "type (df)"
   ]
  },
  {
   "cell_type": "code",
   "execution_count": null,
   "id": "3de623dc",
   "metadata": {},
   "outputs": [],
   "source": [
    "df = pd.DataFrame(scores,\n",
    "             columns = [\"國文\",\"英文\",\"地理\",\"人文\",\"氣候\"],\n",
    "             index=[f\"stu{i}\" for i in range(1,51)]\n",
    "             )\n",
    "\n",
    "df.values"
   ]
  },
  {
   "cell_type": "code",
   "execution_count": null,
   "id": "7ed1cd82",
   "metadata": {},
   "outputs": [],
   "source": [
    "from matplotlib.font_manager import fontManager\n",
    "import matplotlib as mpl\n",
    "\n",
    "fontManager.addfont(\"ChineseFont.ttf\")\n",
    "mpl.rc('font',family='ChineseFont')\n"
   ]
  },
  {
   "cell_type": "code",
   "execution_count": null,
   "id": "79a9247f",
   "metadata": {},
   "outputs": [],
   "source": [
    "import numpy as np\n",
    "import pandas as pd\n",
    "\n",
    "scores = np.random.randint(50, 101, size=(50, 5))\n",
    "df = pd.DataFrame(scores,\n",
    "             columns = [\"國文\",\"英文\",\"地理\",\"人文\",\"氣候\"],\n",
    "             index=[f\"stu{i}\" for i in range(1,51)]\n",
    "             )\n",
    "df.loc['stu1'].name"
   ]
  },
  {
   "cell_type": "code",
   "execution_count": null,
   "id": "81031c50",
   "metadata": {},
   "outputs": [],
   "source": [
    "import matplotlib.pyplot as plt\n",
    "\n",
    "df = pd.DataFrame(scores,\n",
    "             columns = [\"國文\",\"英文\",\"地理\",\"人文\",\"氣候\"],\n",
    "             index=[f\"stu{i}\" for i in range(1,51)]\n",
    "             )\n",
    "name1 = df.loc['stu1'].name\n",
    "name2 = df.loc['stu2'].name       \n",
    "figure = plt.figure(figsize=(8, 5),dpi=150,facecolor='#eeeeee')\n",
    "axes = figure.add_subplot(1,1,1)\n",
    "axes.plot(df.columns,df.loc['stu1'],marker='o',label=name1)\n",
    "axes.plot(df.columns,df.loc['stu2'],marker='o',linestyle='-.',label=name2)\n",
    "axes.set_title(f\"{name1} vs {name2}\")\n",
    "axes.set_xlabel(\"科目\")\n",
    "axes.set_ylabel(\"分數\")\n",
    "axes.legend()\n",
    "xlocations = axes.get_xticks()\n",
    "for index in range(len(xlocations)):\n",
    "    x = xlocations[index]\n",
    "    student1_y = df.loc['stu1'].iloc[index] # \n",
    "    student2_y = df.loc['stu2'].iloc[index]\n",
    "    # print(\"x座標:\",x)\n",
    "    # print(\"s1_y_座標:\",student1_y)\n",
    "    # print(\"s2_y_座標:\",student2_y)\n",
    "    # print(\"==================\")\n",
    "    axes.annotate(str(student1_y),(x-0.05,student1_y+1))\n",
    "    if student2_y == 98:\n",
    "        axes.annotate(str(student2_y),(x,student2_y),xytext=(x+0.3, student2_y+5), arrowprops=dict(facecolor='red', shrink=0.05))\n",
    "    else:\n",
    "        axes.annotate(str(student2_y),(x-0.05,student2_y+1))\n",
    "    axes.set_xlim(-0.5,4.5)\n",
    "    axes.set_ylim(60,105)\n",
    "axes.grid(axis='y',color='blue',alpha=0.1,linestyle=':')\n",
    "plt.show()"
   ]
  }
 ],
 "metadata": {
  "kernelspec": {
   "display_name": "base",
   "language": "python",
   "name": "python3"
  },
  "language_info": {
   "codemirror_mode": {
    "name": "ipython",
    "version": 3
   },
   "file_extension": ".py",
   "mimetype": "text/x-python",
   "name": "python",
   "nbconvert_exporter": "python",
   "pygments_lexer": "ipython3",
   "version": "3.13.2"
  }
 },
 "nbformat": 4,
 "nbformat_minor": 5
}
