{
 "cells": [
  {
   "cell_type": "code",
   "execution_count": null,
   "id": "8288f130",
   "metadata": {},
   "outputs": [],
   "source": [
    "\n",
    "# https://www.perplexity.ai/search/00e886a4-379f-4394-ba54-88dc43881fa0\n",
    "\n",
    "# scores = np.random.randint(50,101, size=(50, 5)) #分數從50~100,50個學生,有5種學科\n",
    "\n"
   ]
  },
  {
   "cell_type": "code",
   "execution_count": null,
   "id": "32023b2c",
   "metadata": {},
   "outputs": [],
   "source": [
    "import numpy as np\n",
    "import pandas as pd\n",
    "\n",
    "scores = np.random.randint(50, 101, size=(50, 5)) # 分數從50~100,50個學生,有5種學科\n"
   ]
  },
  {
   "cell_type": "code",
   "execution_count": null,
   "id": "65d357e4",
   "metadata": {},
   "outputs": [],
   "source": [
    "df = pd.DataFrame(scores,\n",
    "             columns = [\"國文\",\"英文\",\"地理\",\"人文\",\"氣候\"],\n",
    "             index=[f\"stu{i}\" for i in range(1,51)]\n",
    "             )\n",
    "\n",
    "df"
   ]
  },
  {
   "cell_type": "code",
   "execution_count": null,
   "id": "16c93e24",
   "metadata": {},
   "outputs": [],
   "source": [
    "df = pd.DataFrame(scores,\n",
    "             columns = [\"國文\",\"英文\",\"地理\",\"人文\",\"氣候\"],\n",
    "             index=[f\"stu{i}\" for i in range(1,51)]\n",
    "             )\n",
    "\n",
    "type (df)"
   ]
  },
  {
   "cell_type": "code",
   "execution_count": null,
   "id": "3de623dc",
   "metadata": {},
   "outputs": [],
   "source": [
    "df = pd.DataFrame(scores,\n",
    "             columns = [\"國文\",\"英文\",\"地理\",\"人文\",\"氣候\"],\n",
    "             index=[f\"stu{i}\" for i in range(1,51)]\n",
    "             )\n",
    "\n",
    "df.values"
   ]
  }
 ],
 "metadata": {
  "kernelspec": {
   "display_name": "base",
   "language": "python",
   "name": "python3"
  },
  "language_info": {
   "codemirror_mode": {
    "name": "ipython",
    "version": 3
   },
   "file_extension": ".py",
   "mimetype": "text/x-python",
   "name": "python",
   "nbconvert_exporter": "python",
   "pygments_lexer": "ipython3",
   "version": "3.13.2"
  }
 },
 "nbformat": 4,
 "nbformat_minor": 5
}
