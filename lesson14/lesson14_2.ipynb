{
 "cells": [
  {
   "cell_type": "code",
   "execution_count": null,
   "id": "f1700ac2",
   "metadata": {},
   "outputs": [],
   "source": [
    "#ndarry的索引(index),切割(slice)\n",
    "\n",
    "import numpy as np\n",
    "\n",
    "arr = np.arange(10)\n",
    "arr[0]\n",
    "arr[-1]\n",
    "arr[:3]\n",
    "arr[-3:]\n"
   ]
  },
  {
   "cell_type": "code",
   "execution_count": null,
   "id": "bd9578d4",
   "metadata": {},
   "outputs": [],
   "source": [
    "import random\n",
    "random.randint(50,100)"
   ]
  },
  {
   "cell_type": "code",
   "execution_count": null,
   "id": "2c397391",
   "metadata": {},
   "outputs": [],
   "source": [
    "np.random.randint(50, 101, size=5) # 生成一个包含50个随机整数的数组，范围从50到100\n",
    "# 生成一个包含50个随机整数的数组，范围从50到100\n",
    "scores = np.random.randint(50,101, size=(50, 5)) # 生成一个包含50个随机整数的二维数组，范围从50到100\n",
    "scores.size # scores.shape 返回一个元组，表示数组的维度\n",
    "scores.shape # scores.shape[0] 返回数组的行数"
   ]
  },
  {
   "cell_type": "code",
   "execution_count": null,
   "id": "b11725e3",
   "metadata": {},
   "outputs": [],
   "source": [
    "scores[:,0] # 取出所有行的第一列\n",
    "scores[:,0:1] # 取出所有行的第一列，返回二维数组"
   ]
  },
  {
   "cell_type": "code",
   "execution_count": null,
   "id": "98a15426",
   "metadata": {},
   "outputs": [],
   "source": [
    "\n",
    "scores[0,:]\n",
    "scores[0:1,:]"
   ]
  },
  {
   "cell_type": "code",
   "execution_count": null,
   "id": "534e9836",
   "metadata": {},
   "outputs": [],
   "source": [
    "np.sum(scores,axis=1)\n",
    "np.mean(scores, axis=1)"
   ]
  },
  {
   "cell_type": "code",
   "execution_count": null,
   "id": "f0ddb19c",
   "metadata": {},
   "outputs": [],
   "source": [
    "#使用比較運算子\n",
    "arr = np.random.randn(5)\n",
    "arr > 0"
   ]
  },
  {
   "cell_type": "code",
   "execution_count": null,
   "id": "3d3ec09f",
   "metadata": {},
   "outputs": [],
   "source": [
    "\n",
    "np.where(arr > 0, 1, 0)"
   ]
  },
  {
   "cell_type": "code",
   "execution_count": null,
   "id": "c413b4ab",
   "metadata": {},
   "outputs": [],
   "source": [
    "np.where(arr > 0, 1, arr)"
   ]
  }
 ],
 "metadata": {
  "kernelspec": {
   "display_name": "base",
   "language": "python",
   "name": "python3"
  },
  "language_info": {
   "codemirror_mode": {
    "name": "ipython",
    "version": 3
   },
   "file_extension": ".py",
   "mimetype": "text/x-python",
   "name": "python",
   "nbconvert_exporter": "python",
   "pygments_lexer": "ipython3",
   "version": "3.13.2"
  }
 },
 "nbformat": 4,
 "nbformat_minor": 5
}
