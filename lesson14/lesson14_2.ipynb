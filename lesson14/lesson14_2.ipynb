{
 "cells": [
  {
   "cell_type": "code",
   "execution_count": 11,
   "id": "f1700ac2",
   "metadata": {},
   "outputs": [
    {
     "data": {
      "text/plain": [
       "array([7, 8, 9])"
      ]
     },
     "execution_count": 11,
     "metadata": {},
     "output_type": "execute_result"
    }
   ],
   "source": [
    "#ndarry的索引(index),切割(slice)\n",
    "\n",
    "import numpy as np\n",
    "\n",
    "arr = np.arange(10)\n",
    "arr[0]\n",
    "arr[-1]\n",
    "arr[:3]\n",
    "arr[-3:]\n"
   ]
  },
  {
   "cell_type": "code",
   "execution_count": 12,
   "id": "bd9578d4",
   "metadata": {},
   "outputs": [
    {
     "data": {
      "text/plain": [
       "90"
      ]
     },
     "execution_count": 12,
     "metadata": {},
     "output_type": "execute_result"
    }
   ],
   "source": [
    "import random\n",
    "random.randint(50,100)"
   ]
  },
  {
   "cell_type": "code",
   "execution_count": 13,
   "id": "2c397391",
   "metadata": {},
   "outputs": [
    {
     "data": {
      "text/plain": [
       "(50, 5)"
      ]
     },
     "execution_count": 13,
     "metadata": {},
     "output_type": "execute_result"
    }
   ],
   "source": [
    "np.random.randint(50, 101, size=5) # 生成一个包含50个随机整数的数组，范围从50到100\n",
    "# 生成一个包含50个随机整数的数组，范围从50到100\n",
    "scores = np.random.randint(50,101, size=(50, 5)) # 生成一个包含50个随机整数的二维数组，范围从50到100\n",
    "scores.size # scores.shape 返回一个元组，表示数组的维度\n",
    "scores.shape # scores.shape[0] 返回数组的行数"
   ]
  },
  {
   "cell_type": "code",
   "execution_count": 14,
   "id": "b11725e3",
   "metadata": {},
   "outputs": [
    {
     "data": {
      "text/plain": [
       "array([[ 76],\n",
       "       [ 77],\n",
       "       [ 86],\n",
       "       [ 84],\n",
       "       [ 69],\n",
       "       [ 73],\n",
       "       [ 65],\n",
       "       [ 78],\n",
       "       [ 58],\n",
       "       [ 50],\n",
       "       [ 71],\n",
       "       [ 54],\n",
       "       [ 62],\n",
       "       [ 77],\n",
       "       [ 50],\n",
       "       [ 94],\n",
       "       [ 94],\n",
       "       [ 71],\n",
       "       [ 87],\n",
       "       [ 62],\n",
       "       [ 96],\n",
       "       [ 79],\n",
       "       [ 87],\n",
       "       [ 52],\n",
       "       [ 91],\n",
       "       [100],\n",
       "       [ 67],\n",
       "       [ 88],\n",
       "       [ 94],\n",
       "       [ 54],\n",
       "       [ 72],\n",
       "       [ 94],\n",
       "       [ 76],\n",
       "       [ 81],\n",
       "       [ 95],\n",
       "       [ 74],\n",
       "       [ 53],\n",
       "       [ 67],\n",
       "       [ 68],\n",
       "       [ 89],\n",
       "       [ 78],\n",
       "       [ 88],\n",
       "       [ 69],\n",
       "       [ 61],\n",
       "       [ 62],\n",
       "       [ 71],\n",
       "       [ 98],\n",
       "       [ 53],\n",
       "       [ 55],\n",
       "       [ 75]], dtype=int32)"
      ]
     },
     "execution_count": 14,
     "metadata": {},
     "output_type": "execute_result"
    }
   ],
   "source": [
    "scores[:,0] # 取出所有行的第一列\n",
    "scores[:,0:1] # 取出所有行的第一列，返回二维数组"
   ]
  },
  {
   "cell_type": "code",
   "execution_count": 15,
   "id": "98a15426",
   "metadata": {},
   "outputs": [
    {
     "data": {
      "text/plain": [
       "array([[76, 68, 55, 96, 55]], dtype=int32)"
      ]
     },
     "execution_count": 15,
     "metadata": {},
     "output_type": "execute_result"
    }
   ],
   "source": [
    "\n",
    "scores[0,:]\n",
    "scores[0:1,:]"
   ]
  },
  {
   "cell_type": "code",
   "execution_count": 16,
   "id": "534e9836",
   "metadata": {},
   "outputs": [
    {
     "data": {
      "text/plain": [
       "array([70. , 71.6, 83. , 82.2, 81.8, 70.4, 81. , 79. , 70.8, 57.2, 63.2,\n",
       "       69. , 66.8, 76.6, 63.4, 73.6, 70. , 68.4, 70.4, 65.6, 72.6, 69.4,\n",
       "       78.6, 76. , 76.2, 72.2, 72.6, 73.6, 71.6, 64.2, 72.2, 79.8, 71.6,\n",
       "       72.6, 82.4, 83.8, 71.4, 69.8, 76.8, 84. , 67.8, 75.2, 64.8, 66.8,\n",
       "       79.8, 70.6, 90.4, 64.8, 68.8, 76. ])"
      ]
     },
     "execution_count": 16,
     "metadata": {},
     "output_type": "execute_result"
    }
   ],
   "source": [
    "np.sum(scores,axis=1)\n",
    "np.mean(scores, axis=1)"
   ]
  },
  {
   "cell_type": "code",
   "execution_count": null,
   "id": "f0ddb19c",
   "metadata": {},
   "outputs": [
    {
     "data": {
      "text/plain": [
       "array([False,  True,  True, False, False])"
      ]
     },
     "execution_count": 20,
     "metadata": {},
     "output_type": "execute_result"
    }
   ],
   "source": [
    "#使用比較運算子\n",
    "arr = np.random.randn(5) # 生成一个包含5个随机数的数组\n",
    "arr > 0 # 返回一个布尔数组，表示每个元素是否大于0 "
   ]
  },
  {
   "cell_type": "code",
   "execution_count": 18,
   "id": "3d3ec09f",
   "metadata": {},
   "outputs": [
    {
     "data": {
      "text/plain": [
       "array([0, 1, 0, 1, 0])"
      ]
     },
     "execution_count": 18,
     "metadata": {},
     "output_type": "execute_result"
    }
   ],
   "source": [
    "\n",
    "np.where(arr > 0, 1, 0)"
   ]
  },
  {
   "cell_type": "code",
   "execution_count": 19,
   "id": "c413b4ab",
   "metadata": {},
   "outputs": [
    {
     "data": {
      "text/plain": [
       "array([-0.32013813,  1.        , -0.54205078,  1.        , -0.41067975])"
      ]
     },
     "execution_count": 19,
     "metadata": {},
     "output_type": "execute_result"
    }
   ],
   "source": [
    "np.where(arr > 0, 1, arr)"
   ]
  }
 ],
 "metadata": {
  "kernelspec": {
   "display_name": "base",
   "language": "python",
   "name": "python3"
  },
  "language_info": {
   "codemirror_mode": {
    "name": "ipython",
    "version": 3
   },
   "file_extension": ".py",
   "mimetype": "text/x-python",
   "name": "python",
   "nbconvert_exporter": "python",
   "pygments_lexer": "ipython3",
   "version": "3.13.2"
  }
 },
 "nbformat": 4,
 "nbformat_minor": 5
}
