{
 "cells": [
  {
   "cell_type": "code",
   "execution_count": null,
   "id": "fe014196",
   "metadata": {},
   "outputs": [],
   "source": [
    "\n",
    "import numpy as np\n",
    "import pandas as pd\n",
    "\n",
    "scores = np.random.randint(50, 101, size=(50, 5))\n",
    "df = pd.DataFrame(scores,\n",
    "             columns = [\"國文\",\"英文\",\"地理\",\"人文\",\"氣候\"],\n",
    "             index=[f\"stu{i}\" for i in range(1,51)]\n",
    ")\n",
    "df['國文']\n",
    "df['英文']\n",
    "df[['國文','地理']]\n",
    "df"
   ]
  },
  {
   "cell_type": "code",
   "execution_count": null,
   "id": "d522ba2f",
   "metadata": {},
   "outputs": [],
   "source": [
    "\n",
    "df.loc['stu1'] #取得第一筆資料\n",
    "df.loc['stu1':'stu5'] #取得第一到第五筆資料\n",
    "df.loc[['stu1','stu50']] #取得第一筆和第五十筆資料\n",
    "df.iloc[0]  # 取得第一筆資料"
   ]
  },
  {
   "cell_type": "code",
   "execution_count": null,
   "id": "23db9d5e",
   "metadata": {},
   "outputs": [],
   "source": [
    "sum = df['國文'] + df['英文'] + df['地理'] + df['人文'] + df['氣候']\n",
    "df['總分'] = sum\n",
    "mean = sum / 5\n",
    "df['平均'] = mean\n",
    "df"
   ]
  },
  {
   "cell_type": "code",
   "execution_count": 10,
   "id": "6cbb2a61",
   "metadata": {},
   "outputs": [
    {
     "data": {
      "text/html": [
       "<div>\n",
       "<style scoped>\n",
       "    .dataframe tbody tr th:only-of-type {\n",
       "        vertical-align: middle;\n",
       "    }\n",
       "\n",
       "    .dataframe tbody tr th {\n",
       "        vertical-align: top;\n",
       "    }\n",
       "\n",
       "    .dataframe thead th {\n",
       "        text-align: right;\n",
       "    }\n",
       "</style>\n",
       "<table border=\"1\" class=\"dataframe\">\n",
       "  <thead>\n",
       "    <tr style=\"text-align: right;\">\n",
       "      <th></th>\n",
       "      <th>國文</th>\n",
       "      <th>英文</th>\n",
       "      <th>地理</th>\n",
       "      <th>人文</th>\n",
       "      <th>氣候</th>\n",
       "    </tr>\n",
       "  </thead>\n",
       "  <tbody>\n",
       "    <tr>\n",
       "      <th>stu41</th>\n",
       "      <td>95</td>\n",
       "      <td>75</td>\n",
       "      <td>97</td>\n",
       "      <td>100</td>\n",
       "      <td>79</td>\n",
       "    </tr>\n",
       "    <tr>\n",
       "      <th>stu42</th>\n",
       "      <td>74</td>\n",
       "      <td>85</td>\n",
       "      <td>96</td>\n",
       "      <td>90</td>\n",
       "      <td>78</td>\n",
       "    </tr>\n",
       "    <tr>\n",
       "      <th>stu43</th>\n",
       "      <td>65</td>\n",
       "      <td>69</td>\n",
       "      <td>64</td>\n",
       "      <td>95</td>\n",
       "      <td>74</td>\n",
       "    </tr>\n",
       "    <tr>\n",
       "      <th>stu44</th>\n",
       "      <td>72</td>\n",
       "      <td>90</td>\n",
       "      <td>65</td>\n",
       "      <td>100</td>\n",
       "      <td>88</td>\n",
       "    </tr>\n",
       "    <tr>\n",
       "      <th>stu45</th>\n",
       "      <td>91</td>\n",
       "      <td>67</td>\n",
       "      <td>51</td>\n",
       "      <td>73</td>\n",
       "      <td>84</td>\n",
       "    </tr>\n",
       "    <tr>\n",
       "      <th>stu46</th>\n",
       "      <td>78</td>\n",
       "      <td>75</td>\n",
       "      <td>67</td>\n",
       "      <td>84</td>\n",
       "      <td>60</td>\n",
       "    </tr>\n",
       "    <tr>\n",
       "      <th>stu47</th>\n",
       "      <td>70</td>\n",
       "      <td>56</td>\n",
       "      <td>51</td>\n",
       "      <td>73</td>\n",
       "      <td>67</td>\n",
       "    </tr>\n",
       "    <tr>\n",
       "      <th>stu48</th>\n",
       "      <td>93</td>\n",
       "      <td>85</td>\n",
       "      <td>50</td>\n",
       "      <td>76</td>\n",
       "      <td>53</td>\n",
       "    </tr>\n",
       "    <tr>\n",
       "      <th>stu49</th>\n",
       "      <td>83</td>\n",
       "      <td>70</td>\n",
       "      <td>54</td>\n",
       "      <td>52</td>\n",
       "      <td>98</td>\n",
       "    </tr>\n",
       "    <tr>\n",
       "      <th>stu50</th>\n",
       "      <td>82</td>\n",
       "      <td>82</td>\n",
       "      <td>87</td>\n",
       "      <td>95</td>\n",
       "      <td>53</td>\n",
       "    </tr>\n",
       "  </tbody>\n",
       "</table>\n",
       "</div>"
      ],
      "text/plain": [
       "       國文  英文  地理   人文  氣候\n",
       "stu41  95  75  97  100  79\n",
       "stu42  74  85  96   90  78\n",
       "stu43  65  69  64   95  74\n",
       "stu44  72  90  65  100  88\n",
       "stu45  91  67  51   73  84\n",
       "stu46  78  75  67   84  60\n",
       "stu47  70  56  51   73  67\n",
       "stu48  93  85  50   76  53\n",
       "stu49  83  70  54   52  98\n",
       "stu50  82  82  87   95  53"
      ]
     },
     "execution_count": 10,
     "metadata": {},
     "output_type": "execute_result"
    }
   ],
   "source": [
    "\n",
    "df.iloc[-10:,:5] # 取得最後10筆資料的前5個欄位\n"
   ]
  },
  {
   "cell_type": "code",
   "execution_count": 11,
   "id": "2f9c1bc7",
   "metadata": {},
   "outputs": [
    {
     "data": {
      "text/plain": [
       "國文    80.3\n",
       "英文    75.4\n",
       "地理    68.2\n",
       "人文    83.8\n",
       "氣候    73.4\n",
       "dtype: float64"
      ]
     },
     "execution_count": 11,
     "metadata": {},
     "output_type": "execute_result"
    }
   ],
   "source": [
    "df.iloc[-10:,:5].mean() # 取得最後10筆資料的前5個欄位的平均值"
   ]
  }
 ],
 "metadata": {
  "kernelspec": {
   "display_name": "base",
   "language": "python",
   "name": "python3"
  },
  "language_info": {
   "codemirror_mode": {
    "name": "ipython",
    "version": 3
   },
   "file_extension": ".py",
   "mimetype": "text/x-python",
   "name": "python",
   "nbconvert_exporter": "python",
   "pygments_lexer": "ipython3",
   "version": "3.13.2"
  }
 },
 "nbformat": 4,
 "nbformat_minor": 5
}
