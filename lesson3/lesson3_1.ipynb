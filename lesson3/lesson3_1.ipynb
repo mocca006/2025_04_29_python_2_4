{
 "cells": [
  {
   "cell_type": "markdown",
   "id": "55f000b1",
   "metadata": {},
   "source": [
    "### 敘述式"
   ]
  },
  {
   "cell_type": "code",
   "execution_count": 11,
   "id": "d883d174",
   "metadata": {},
   "outputs": [
    {
     "name": "stdout",
     "output_type": "stream",
     "text": [
      "total= 40\n"
     ]
    }
   ],
   "source": [
    "n = 15 #敘述式\n",
    "m = 25 #敘述式\n",
    "total = n + m #敘述式\n",
    "print(\"total=\", total) #敘述式"
   ]
  },
  {
   "cell_type": "code",
   "execution_count": 12,
   "id": "38d73db7",
   "metadata": {},
   "outputs": [
    {
     "name": "stdout",
     "output_type": "stream",
     "text": [
      "15 25\n"
     ]
    }
   ],
   "source": [
    "x = 5+10\n",
    "y = 20+5\n",
    "print(x,y)"
   ]
  },
  {
   "cell_type": "markdown",
   "id": "513d6b13",
   "metadata": {},
   "source": [
    "### 輸入\n",
    "- input\n",
    "\n",
    "### 輸出\n",
    "- print\n"
   ]
  },
  {
   "cell_type": "code",
   "execution_count": 13,
   "id": "ba1f8c96",
   "metadata": {},
   "outputs": [
    {
     "name": "stdout",
     "output_type": "stream",
     "text": [
      "輸入的是整數: 20\n"
     ]
    }
   ],
   "source": [
    "value_str = input(\"請輸入整數:\")\n",
    "value = int(value_str)\n",
    "print(\"輸入的是整數:\", value)"
   ]
  }
 ],
 "metadata": {
  "kernelspec": {
   "display_name": "base",
   "language": "python",
   "name": "python3"
  },
  "language_info": {
   "codemirror_mode": {
    "name": "ipython",
    "version": 3
   },
   "file_extension": ".py",
   "mimetype": "text/x-python",
   "name": "python",
   "nbconvert_exporter": "python",
   "pygments_lexer": "ipython3",
   "version": "3.12.9"
  }
 },
 "nbformat": 4,
 "nbformat_minor": 5
}
