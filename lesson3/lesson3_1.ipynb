{
 "cells": [
  {
   "cell_type": "markdown",
   "id": "55f000b1",
   "metadata": {},
   "source": [
    "### 敘述式"
   ]
  },
  {
   "cell_type": "code",
   "execution_count": 11,
   "id": "d883d174",
   "metadata": {},
   "outputs": [
    {
     "name": "stdout",
     "output_type": "stream",
     "text": [
      "total= 40\n"
     ]
    }
   ],
   "source": [
    "n = 15 #敘述式\n",
    "m = 25 #敘述式\n",
    "total = n + m #敘述式\n",
    "print(\"total=\", total) #敘述式"
   ]
  },
  {
   "cell_type": "code",
   "execution_count": 12,
   "id": "38d73db7",
   "metadata": {},
   "outputs": [
    {
     "name": "stdout",
     "output_type": "stream",
     "text": [
      "15 25\n"
     ]
    }
   ],
   "source": [
    "x = 5+10\n",
    "y = 20+5\n",
    "print(x,y)"
   ]
  },
  {
   "cell_type": "markdown",
   "id": "513d6b13",
   "metadata": {},
   "source": [
    "### 輸入\n",
    "- input\n",
    "\n",
    "### 輸出\n",
    "- print\n"
   ]
  },
  {
   "cell_type": "code",
   "execution_count": 13,
   "id": "ba1f8c96",
   "metadata": {},
   "outputs": [
    {
     "name": "stdout",
     "output_type": "stream",
     "text": [
      "輸入的是整數: 20\n"
     ]
    }
   ],
   "source": [
    "value_str = input(\"請輸入整數:\")\n",
    "value = int(value_str)\n",
    "print(\"輸入的是整數:\", value)"
   ]
  },
  {
   "cell_type": "code",
   "execution_count": 14,
   "id": "cc3bba65",
   "metadata": {},
   "outputs": [
    {
     "name": "stdout",
     "output_type": "stream",
     "text": [
      "輸入的是整數: 20\n"
     ]
    }
   ],
   "source": [
    "value = int(input(\"請輸入整數:\"))\n",
    "\n",
    "print(\"輸入的是整數:\", value)"
   ]
  },
  {
   "cell_type": "code",
   "execution_count": 21,
   "id": "55bd9951",
   "metadata": {},
   "outputs": [
    {
     "name": "stdout",
     "output_type": "stream",
     "text": [
      "輸入的總和: 30\n"
     ]
    }
   ],
   "source": [
    "value1 = int(input(\"請輸入第一個整數:\"))\n",
    "value2 = int(input(\"請輸入第2個整數:\"))\n",
    "total = value1 + value2\n",
    "print(\"輸入的總和:\", total)"
   ]
  },
  {
   "cell_type": "code",
   "execution_count": null,
   "id": "9e06c39e",
   "metadata": {},
   "outputs": [
    {
     "name": "stdout",
     "output_type": "stream",
     "text": [
      "寬: 10\n",
      "高: 10\n",
      "面積: 100\n"
     ]
    }
   ],
   "source": [
    "width = eval (input(\"輸入矩形寬度\")) # eval 去掉字串,取出純值,整數或是浮點數都可以\n",
    "height = eval (input(\"輸入矩形高度\"))\n",
    "area = width * height\n",
    "print(\"寬:\",width)\n",
    "print(\"高:\",height)\n",
    "print(\"面積:\",area)"
   ]
  },
  {
   "cell_type": "markdown",
   "id": "d25e6460",
   "metadata": {},
   "source": [
    "更新"
   ]
  }
 ],
 "metadata": {
  "kernelspec": {
   "display_name": "base",
   "language": "python",
   "name": "python3"
  },
  "language_info": {
   "codemirror_mode": {
    "name": "ipython",
    "version": 3
   },
   "file_extension": ".py",
   "mimetype": "text/x-python",
   "name": "python",
   "nbconvert_exporter": "python",
   "pygments_lexer": "ipython3",
   "version": "3.12.9"
  }
 },
 "nbformat": 4,
 "nbformat_minor": 5
}
