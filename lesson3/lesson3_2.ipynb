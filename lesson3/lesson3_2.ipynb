{
 "cells": [
  {
   "cell_type": "markdown",
   "id": "ddab33eb",
   "metadata": {},
   "source": [
    "# 複合指定運算子\n",
    "- \\+=\n",
    "- \\-=\n",
    "- \\*=\n",
    "- \\/=\n",
    "- \\//=\n",
    "- \\**=\n"
   ]
  },
  {
   "cell_type": "code",
   "execution_count": 2,
   "id": "3073ce2a",
   "metadata": {},
   "outputs": [
    {
     "name": "stdout",
     "output_type": "stream",
     "text": [
      "15\n"
     ]
    }
   ],
   "source": [
    "n = 5\n",
    "n += 10 #複合指定運算子\n",
    "print(n)"
   ]
  },
  {
   "cell_type": "markdown",
   "id": "5f556f7c",
   "metadata": {},
   "source": []
  },
  {
   "cell_type": "code",
   "execution_count": null,
   "id": "5b4311c3",
   "metadata": {},
   "outputs": [
    {
     "name": "stdout",
     "output_type": "stream",
     "text": [
      "鄰邊 3\n",
      "對邊 4\n",
      "結果 5.0\n"
     ]
    }
   ],
   "source": [
    "#國中數學\n",
    "import math #導入函式庫\n",
    "side = eval(input(\"鄰邊\"))\n",
    "other_side = eval(input(\"對邊\"))\n",
    "result = math.sqrt(side ** 2 + other_side ** 2) #sqrt 是開根方\n",
    "print (\"鄰邊\", side)\n",
    "print (\"對邊\", other_side)\n",
    "print (\"斜邊\", result)"
   ]
  },
  {
   "cell_type": "code",
   "execution_count": null,
   "id": "9461bcca",
   "metadata": {},
   "outputs": [
    {
     "name": "stdout",
     "output_type": "stream",
     "text": [
      "鄰邊 2.5\n",
      "斜邊 5\n",
      "角度 30.000000000000004\n"
     ]
    }
   ],
   "source": [
    "#高中數學\n",
    "import math #導入函式庫\n",
    "side = eval(input(\"對邊\"))\n",
    "other_side = eval(input(\"斜邊\"))\n",
    "radian = math.asin(side / other_side) #弳度\n",
    "degree = math.degrees(radian) #角度\n",
    "print (\"對邊\", side)\n",
    "print (\"斜邊\", other_side)\n",
    "print (\"角度\", degree)"
   ]
  },
  {
   "cell_type": "code",
   "execution_count": 16,
   "id": "55cbe4b0",
   "metadata": {},
   "outputs": [
    {
     "name": "stdout",
     "output_type": "stream",
     "text": [
      "對邊3\n",
      "斜邊4\n",
      "角度 48.59\n"
     ]
    }
   ],
   "source": [
    "#高中數學\n",
    "import math #導入函式庫\n",
    "side = eval(input(\"對邊\"))\n",
    "other_side = eval(input(\"斜邊\"))\n",
    "radian = math.asin(side / other_side) #弳度\n",
    "degree = math.degrees(radian) #角度\n",
    "print (f\"對邊{side}\")\n",
    "print (f\"斜邊{other_side}\")\n",
    "#print(f'角度是:{degree:.2f}')\n",
    "print (f'角度{degree: .2f}')"
   ]
  },
  {
   "cell_type": "code",
   "execution_count": 7,
   "id": "b35fcbfa",
   "metadata": {},
   "outputs": [
    {
     "name": "stdout",
     "output_type": "stream",
     "text": [
      "國文92,數學100\n"
     ]
    }
   ],
   "source": [
    "#字串插補 (字串的格式化)\n",
    "chinese = 92\n",
    "math = 100\n",
    "print (\"國文\" + str(chinese) + \",數學\" + str(math))"
   ]
  },
  {
   "cell_type": "code",
   "execution_count": 12,
   "id": "bcb3a4e7",
   "metadata": {},
   "outputs": [
    {
     "name": "stdout",
     "output_type": "stream",
     "text": [
      "國文 92.28,數學 100\n"
     ]
    }
   ],
   "source": [
    "#字串和變數整合,成新的字串\n",
    "#字串插補 \n",
    "chinese = 92.28\n",
    "math = 100\n",
    "print (f\"國文 {chinese:.2f},數學 {math}\") #f 是取代上面+ #.2f 是顯示小數點位數 #大括號"
   ]
  },
  {
   "cell_type": "code",
   "execution_count": 13,
   "id": "3935176c",
   "metadata": {},
   "outputs": [
    {
     "name": "stdout",
     "output_type": "stream",
     "text": [
      "身高(公分): 152\n",
      "體重(公斤): 42\n",
      "BMI數值: 18.18\n"
     ]
    }
   ],
   "source": [
    "#計算BMI數值\n",
    "\n",
    "import math\n",
    "\n",
    "height = eval(input('請輸入身高(公分):'))\n",
    "weight = eval(input('請輸入體重(公斤):'))\n",
    "bmi = weight / (height/100)**2  \n",
    "\n",
    "print (f'身高(公分): {height}')\n",
    "print (f'體重(公斤): {weight}')\n",
    "print (f'BMI數值:{bmi: .2f}')"
   ]
  },
  {
   "cell_type": "markdown",
   "id": "72bfc4fe",
   "metadata": {},
   "source": [
    "# 測試"
   ]
  }
 ],
 "metadata": {
  "kernelspec": {
   "display_name": "base",
   "language": "python",
   "name": "python3"
  },
  "language_info": {
   "codemirror_mode": {
    "name": "ipython",
    "version": 3
   },
   "file_extension": ".py",
   "mimetype": "text/x-python",
   "name": "python",
   "nbconvert_exporter": "python",
   "pygments_lexer": "ipython3",
   "version": "3.12.9"
  }
 },
 "nbformat": 4,
 "nbformat_minor": 5
}
