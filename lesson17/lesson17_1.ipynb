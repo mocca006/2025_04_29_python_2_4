{
 "cells": [
  {
   "cell_type": "markdown",
   "id": "31d445ce",
   "metadata": {},
   "source": [
    "https://www.perplexity.ai/search/541099c9-ea3f-4aaa-98b2-53af4156f3cc"
   ]
  },
  {
   "cell_type": "code",
   "execution_count": null,
   "id": "3711dba0",
   "metadata": {},
   "outputs": [],
   "source": [
    "\n",
    "#Style.format()\n",
    "#Style.format_index()\n",
    "#Style.relabel_index()\n",
    "\n",
    "import pandas as pd\n",
    "import numpy as np \n",
    "\n",
    "df = pd.DataFrame({\n",
    "    \"strings\": [\"Adam\", \"Mike\"],\n",
    "    \"ints\": [1, 3],\n",
    "    \"floats\": [1.123, 1000.23]\n",
    "})\n",
    "type(df.style)\n",
    "\n",
    "display(df) #display(df.style)\n",
    "\n",
    "df.style\\\n",
    ".format(precision=3, thousands=\",\", decimal='.')\\\n",
    ".format_index(str.upper,axis=1)\\\n",
    ".relabel_index([\"列1\",\"列2\"])\n",
    "\n"
   ]
  },
  {
   "cell_type": "code",
   "execution_count": null,
   "id": "1e2ee425",
   "metadata": {},
   "outputs": [],
   "source": [
    "\n",
    "#Styler.format()\n",
    "#Style.format_index()\n",
    "#Style.relabel_index()\n",
    "\n",
    "import pandas as pd\n",
    "import numpy as np \n",
    "\n",
    "df = pd.DataFrame({\n",
    "    \"strings\": [\"Adam\", \"Mike\"],\n",
    "    \"ints\": [1, 3],\n",
    "    \"floats\": [1.123, 1000.23]\n",
    "})\n",
    "type(df.style)\n",
    "\n",
    "display(df)\n",
    "s = df.style\\\n",
    ".format(precision=3, thousands=\",\", decimal='.')\\\n",
    ".format_index(str.upper,axis=1)\\\n",
    ".relabel_index([\"列1\",\"列2\"])\n",
    "\n",
    "s"
   ]
  },
  {
   "cell_type": "code",
   "execution_count": null,
   "id": "60477505",
   "metadata": {},
   "outputs": [],
   "source": [
    "weather_df = pd.DataFrame(np.random.rand(600,2)*5,\n",
    "                          index=pd.date_range(start=\"2024-01-01\", periods=600),\n",
    "                          columns=[\"東京\",\"台北\"]\n",
    "                          )\n",
    "weather_df.info() # pandas.io.formats.info.DataFrameInfo\n",
    "display(weather_df)\n"
   ]
  },
  {
   "cell_type": "code",
   "execution_count": null,
   "id": "02f5c3d4",
   "metadata": {},
   "outputs": [],
   "source": [
    "weather_df = pd.DataFrame(np.random.rand(50,2)*5,\n",
    "                          index=pd.date_range(start=\"2024-01-01\", periods=50),\n",
    "                          columns=[\"Tokyo\",\"Taipei\"]\n",
    "                          )\n",
    "weather_df.info()"
   ]
  },
  {
   "cell_type": "code",
   "execution_count": null,
   "id": "4d5d5251",
   "metadata": {},
   "outputs": [],
   "source": [
    "#因為索引是datetime的資料\n",
    "weather_df.loc['2024-01-10':'2024-01-30']\n",
    "weather_df.loc['2024-01']\n",
    "weather_df.loc['2024']"
   ]
  },
  {
   "cell_type": "code",
   "execution_count": null,
   "id": "a45a7710",
   "metadata": {},
   "outputs": [
    {
     "data": {
      "image/png": "[encoded data removed]",
      "text/plain": [
       "<Figure size 1000x600 with 1 Axes>"
      ]
     },
     "metadata": {},
     "output_type": "display_data"
    }
   ],
   "source": [
    "# lesson14 有繪圖說明\n",
    "import matplotlib.pyplot as plt\n",
    "\n",
    "figure = plt.figure(figsize=(10,6))\n",
    "axes = figure.add_subplot(1,1,1)\n",
    "axes.plot(weather_df.index,weather_df['Tokyo'],label='Tokyo',linestyle='',marker='.')\n",
    "axes.plot(weather_df.index,weather_df['Taipei'],label='Taiepi',linestyle='',marker='.')\n",
    "plt.show()\n",
    "plt.close()"
   ]
  },
  {
   "cell_type": "code",
   "execution_count": null,
   "id": "106ed41c",
   "metadata": {},
   "outputs": [],
   "source": [
    "#因為索引是datetime的資料\n",
    "#上面程式可以用下面方式\n",
    "\n",
    "figure = plt.figure(figsize=(10,6))\n",
    "axes = figure.add_subplot(1,1,1)\n",
    "weather_df.plot(ax=axes,linestyle='',marker='.')\n",
    "plt.show()\n",
    "plt.close()"
   ]
  },
  {
   "cell_type": "code",
   "execution_count": null,
   "id": "d09b4830",
   "metadata": {},
   "outputs": [],
   "source": [
    "#lesson14_3.ipynb\n",
    "#安裝中文字型\n",
    "\n",
    "from matplotlib.font_manager import fontManager\n",
    "import matplotlib as mpl\n",
    "\n",
    "fontManager.addfont(\"ChineseFont.ttf\")\n",
    "mpl.rc('font',family='ChineseFont')\n"
   ]
  }
 ],
 "metadata": {
  "kernelspec": {
   "display_name": "base",
   "language": "python",
   "name": "python3"
  },
  "language_info": {
   "codemirror_mode": {
    "name": "ipython",
    "version": 3
   },
   "file_extension": ".py",
   "mimetype": "text/x-python",
   "name": "python",
   "nbconvert_exporter": "python",
   "pygments_lexer": "ipython3",
   "version": "3.13.2"
  }
 },
 "nbformat": 4,
 "nbformat_minor": 5
}
