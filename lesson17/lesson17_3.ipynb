{
 "cells": [
  {
   "cell_type": "markdown",
   "id": "1f4fcc4c",
   "metadata": {},
   "source": [
    "https://www.perplexity.ai/search/04cf1a79-12d5-443d-b7cf-c11cdb8292f4"
   ]
  },
  {
   "cell_type": "code",
   "execution_count": null,
   "id": "5545a8b7",
   "metadata": {},
   "outputs": [],
   "source": [
    "import numpy as np\n",
    "import pandas as pd\n",
    "\n",
    "np.random.seed(0)\n",
    "df = pd.DataFrame(np.random.randn(10,4), columns=['A', 'B', 'C', 'D'])\n",
    "df"
   ]
  },
  {
   "cell_type": "code",
   "execution_count": null,
   "id": "fbf8c034",
   "metadata": {},
   "outputs": [],
   "source": [
    "df.iloc[0,2] = np.nan # Introduce a NaN value\n",
    "df.iloc[4, 3] = np.nan\n",
    "df"
   ]
  },
  {
   "cell_type": "code",
   "execution_count": null,
   "id": "3b63fa8d",
   "metadata": {},
   "outputs": [],
   "source": [
    "df.style.highlight_null(color='red') # This will highlight NaN values in the DataFrame with red color"
   ]
  },
  {
   "cell_type": "code",
   "execution_count": null,
   "id": "170f65f4",
   "metadata": {},
   "outputs": [],
   "source": [
    "# Highlight the maximum value in each row with a specific style\n",
    "df.loc[:4].style.highlight_max(axis=1,props=\"color:white; font-weight:bold; background-color:darkblue\")"
   ]
  },
  {
   "cell_type": "code",
   "execution_count": null,
   "id": "3f43fe1d",
   "metadata": {},
   "outputs": [],
   "source": [
    "# Highlight the maximum value in each column with a specific style\n",
    "df.loc[:4].style.highlight_max(axis=0,props=\"color:white; font-weight:bold; background-color:darkblue\")"
   ]
  },
  {
   "cell_type": "code",
   "execution_count": null,
   "id": "76348969",
   "metadata": {},
   "outputs": [],
   "source": [
    "df.loc[:4].style.highlight_max(axis=None,props=\"color:white; font-weight:bold; background-color:darkblue\")"
   ]
  },
  {
   "cell_type": "code",
   "execution_count": null,
   "id": "75d99393",
   "metadata": {},
   "outputs": [
    {
     "data": {
      "text/html": [
       "<style type=\"text/css\">\n",
       "#T_91168_row0_col1, #T_91168_row1_col1, #T_91168_row2_col1 {\n",
       "  color: white;\n",
       "  font-weight: bold;\n",
       "  background-color: darkblue;\n",
       "}\n",
       "</style>\n",
       "<table id=\"T_91168\">\n",
       "  <thead>\n",
       "    <tr>\n",
       "      <th class=\"blank level0\" >&nbsp;</th>\n",
       "      <th id=\"T_91168_level0_col0\" class=\"col_heading level0 col0\" >One</th>\n",
       "      <th id=\"T_91168_level0_col1\" class=\"col_heading level0 col1\" >Two</th>\n",
       "      <th id=\"T_91168_level0_col2\" class=\"col_heading level0 col2\" >Three</th>\n",
       "    </tr>\n",
       "  </thead>\n",
       "  <tbody>\n",
       "    <tr>\n",
       "      <th id=\"T_91168_level0_row0\" class=\"row_heading level0 row0\" >0</th>\n",
       "      <td id=\"T_91168_row0_col0\" class=\"data row0 col0\" >1.200000</td>\n",
       "      <td id=\"T_91168_row0_col1\" class=\"data row0 col1\" >2.900000</td>\n",
       "      <td id=\"T_91168_row0_col2\" class=\"data row0 col2\" >3.100000</td>\n",
       "    </tr>\n",
       "    <tr>\n",
       "      <th id=\"T_91168_level0_row1\" class=\"row_heading level0 row1\" >1</th>\n",
       "      <td id=\"T_91168_row1_col0\" class=\"data row1 col0\" >1.600000</td>\n",
       "      <td id=\"T_91168_row1_col1\" class=\"data row1 col1\" >2.100000</td>\n",
       "      <td id=\"T_91168_row1_col2\" class=\"data row1 col2\" >3.200000</td>\n",
       "    </tr>\n",
       "    <tr>\n",
       "      <th id=\"T_91168_level0_row2\" class=\"row_heading level0 row2\" >2</th>\n",
       "      <td id=\"T_91168_row2_col0\" class=\"data row2 col0\" >1.500000</td>\n",
       "      <td id=\"T_91168_row2_col1\" class=\"data row2 col1\" >2.500000</td>\n",
       "      <td id=\"T_91168_row2_col2\" class=\"data row2 col2\" >3.800000</td>\n",
       "    </tr>\n",
       "  </tbody>\n",
       "</table>\n"
      ],
      "text/plain": [
       "<pandas.io.formats.style.Styler at 0x24aa7267110>"
      ]
     },
     "execution_count": 7,
     "metadata": {},
     "output_type": "execute_result"
    }
   ],
   "source": [
    "df = pd.DataFrame({\n",
    "    'One': [1.2, 1.6, 1.5],\n",
    "    'Two': [2.9, 2.1, 2.5],\n",
    "    'Three': [3.1, 3.2, 3.8],\n",
    "})\n",
    "# Highlight values between 2.1 and 2.9 in the 'Two' column\n",
    "df.style.highlight_between(left=2.1, right=2.9, props=\"color:white; font-weight:bold; background-color:darkblue\")"
   ]
  },
  {
   "cell_type": "code",
   "execution_count": null,
   "id": "83ad6a01",
   "metadata": {},
   "outputs": [
    {
     "data": {
      "text/html": [
       "<style type=\"text/css\">\n",
       "#T_58558_row1_col0, #T_58558_row2_col0, #T_58558_row2_col1 {\n",
       "  color: white;\n",
       "  font-weight: bold;\n",
       "  background-color: darkblue;\n",
       "}\n",
       "</style>\n",
       "<table id=\"T_58558\">\n",
       "  <thead>\n",
       "    <tr>\n",
       "      <th class=\"blank level0\" >&nbsp;</th>\n",
       "      <th id=\"T_58558_level0_col0\" class=\"col_heading level0 col0\" >One</th>\n",
       "      <th id=\"T_58558_level0_col1\" class=\"col_heading level0 col1\" >Two</th>\n",
       "      <th id=\"T_58558_level0_col2\" class=\"col_heading level0 col2\" >Three</th>\n",
       "    </tr>\n",
       "  </thead>\n",
       "  <tbody>\n",
       "    <tr>\n",
       "      <th id=\"T_58558_level0_row0\" class=\"row_heading level0 row0\" >0</th>\n",
       "      <td id=\"T_58558_row0_col0\" class=\"data row0 col0\" >1.200000</td>\n",
       "      <td id=\"T_58558_row0_col1\" class=\"data row0 col1\" >2.900000</td>\n",
       "      <td id=\"T_58558_row0_col2\" class=\"data row0 col2\" >3.100000</td>\n",
       "    </tr>\n",
       "    <tr>\n",
       "      <th id=\"T_58558_level0_row1\" class=\"row_heading level0 row1\" >1</th>\n",
       "      <td id=\"T_58558_row1_col0\" class=\"data row1 col0\" >1.600000</td>\n",
       "      <td id=\"T_58558_row1_col1\" class=\"data row1 col1\" >2.100000</td>\n",
       "      <td id=\"T_58558_row1_col2\" class=\"data row1 col2\" >3.200000</td>\n",
       "    </tr>\n",
       "    <tr>\n",
       "      <th id=\"T_58558_level0_row2\" class=\"row_heading level0 row2\" >2</th>\n",
       "      <td id=\"T_58558_row2_col0\" class=\"data row2 col0\" >1.500000</td>\n",
       "      <td id=\"T_58558_row2_col1\" class=\"data row2 col1\" >2.500000</td>\n",
       "      <td id=\"T_58558_row2_col2\" class=\"data row2 col2\" >3.800000</td>\n",
       "    </tr>\n",
       "  </tbody>\n",
       "</table>\n"
      ],
      "text/plain": [
       "<pandas.io.formats.style.Styler at 0x24aa7267390>"
      ]
     },
     "execution_count": 8,
     "metadata": {},
     "output_type": "execute_result"
    }
   ],
   "source": [
    "# Highlight values between multiple ranges in the DataFrame\n",
    "df.style.highlight_between(left=[1.4, 2.4, 3.4], right=[1.6, 2.6, 3.6], axis=1, props=\"color:white; font-weight:bold; background-color:darkblue\")"
   ]
  }
 ],
 "metadata": {
  "kernelspec": {
   "display_name": "base",
   "language": "python",
   "name": "python3"
  },
  "language_info": {
   "codemirror_mode": {
    "name": "ipython",
    "version": 3
   },
   "file_extension": ".py",
   "mimetype": "text/x-python",
   "name": "python",
   "nbconvert_exporter": "python",
   "pygments_lexer": "ipython3",
   "version": "3.13.2"
  }
 },
 "nbformat": 4,
 "nbformat_minor": 5
}
