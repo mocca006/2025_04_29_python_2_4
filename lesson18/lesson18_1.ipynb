{
 "cells": [
  {
   "cell_type": "markdown",
   "id": "4998ea51",
   "metadata": {},
   "source": [
    "https://www.perplexity.ai/search/81642e0f-4214-4e4f-ba5a-a483c3484685"
   ]
  },
  {
   "cell_type": "code",
   "execution_count": null,
   "id": "2f0b9a33",
   "metadata": {},
   "outputs": [],
   "source": [
    "import pandas as pd\n",
    "\n",
    "df = pd.read_csv(\"各鄉鎮市區人口密度.csv\")\n",
    "df\n"
   ]
  },
  {
   "cell_type": "code",
   "execution_count": null,
   "id": "ed7d1e04",
   "metadata": {},
   "outputs": [],
   "source": [
    "df1 = df.rename(columns={\"statistic_yyy\":\"統計年\",\n",
    "                   \"site_id\":\"區域別\",\n",
    "                   \"people_total\":\"年底人口數\",\n",
    "                   \"area\":\"土地面積\",\n",
    "                   \"population_density\":\"人口密度\"\n",
    "                   })\n",
    "df1"
   ]
  },
  {
   "cell_type": "code",
   "execution_count": null,
   "id": "14eb2ccb",
   "metadata": {},
   "outputs": [],
   "source": [
    "df.columns = [\"統計年\",\"區域別\",\"年底人口數\",\"土地面積\",\"人口密度\"]\n",
    "df"
   ]
  },
  {
   "cell_type": "code",
   "execution_count": null,
   "id": "08a1755f",
   "metadata": {},
   "outputs": [],
   "source": [
    "# Drop the \"統計年\" column\n",
    "df2 = df.drop([\"統計年\"],axis=1)\n",
    "df2"
   ]
  },
  {
   "cell_type": "code",
   "execution_count": null,
   "id": "b69df4e1",
   "metadata": {},
   "outputs": [],
   "source": [
    "# Drop rows with any NaN values\n",
    "# This will remove any row that has at least one NaN value in any column\n",
    "df3 = df2.dropna(axis=0)\n",
    "df3"
   ]
  },
  {
   "cell_type": "code",
   "execution_count": null,
   "id": "bc6c3de6",
   "metadata": {},
   "outputs": [],
   "source": [
    "# Drop the first row (index 0)\n",
    "# This will remove the first row of the DataFrame\n",
    "df4 = df3.drop(index=0)\n",
    "df4"
   ]
  },
  {
   "cell_type": "code",
   "execution_count": null,
   "id": "b1d636e6",
   "metadata": {},
   "outputs": [],
   "source": [
    "df4.info()"
   ]
  },
  {
   "cell_type": "code",
   "execution_count": null,
   "id": "6688cce0",
   "metadata": {},
   "outputs": [],
   "source": [
    "\n",
    "def string_to_int(value:str):\n",
    "    try:\n",
    "        v = int(value)\n",
    "        return v\n",
    "    except Exception:\n",
    "        return 0\n",
    "\n",
    "# Convert the \"年底人口數\" and \"人口密度\" columns to integers (int整數)\n",
    "\n",
    "# map 或是 apply 都可以\n",
    "\n",
    "df4[\"年底人口數\"] = df4[\"年底人口數\"].map(string_to_int)\n",
    "df4[\"人口密度\"] = df4[\"人口密度\"].apply(string_to_int)\n",
    "\n",
    "df4.info()"
   ]
  },
  {
   "cell_type": "code",
   "execution_count": null,
   "id": "7347c72d",
   "metadata": {},
   "outputs": [],
   "source": [
    "df4['土地面積'] = df4['土地面積'].astype(float) # 將土地面積轉換為浮點數    \n",
    "\n",
    "df4.info()\n",
    "\n",
    "df4\n",
    "# df4.to_csv(\"各鄉鎮市區人口密度_cleaned.csv\", index=False, encoding=\"utf-8-sig\")\n"
   ]
  },
  {
   "cell_type": "code",
   "execution_count": null,
   "id": "b96cc19d",
   "metadata": {},
   "outputs": [],
   "source": [
    "# 要確認方法\n",
    "\n",
    "df4.loc[:2] # Accessing the third row (index 2) of the DataFrame\n",
    "df4\n",
    "\n",
    "df4.iloc[2] # Accessing the third row (index 2) of the DataFrame using iloc\n",
    "df4"
   ]
  },
  {
   "cell_type": "code",
   "execution_count": null,
   "id": "c7654419",
   "metadata": {},
   "outputs": [],
   "source": [
    "def split_words(v:str):\n",
    "    if len(v) == 6:\n",
    "        return v[:3]\n",
    "    else:\n",
    "        return v\n",
    "\n",
    "df4[\"縣市\"] = df4['區域別'].map(split_words)\n",
    "\n",
    "df4"
   ]
  },
  {
   "cell_type": "code",
   "execution_count": null,
   "id": "fd2158c9",
   "metadata": {},
   "outputs": [],
   "source": [
    "def split_area(v:str):\n",
    "    if len(v) == 6:\n",
    "        return v[-3:]\n",
    "    else:\n",
    "        return v\n",
    "df4['區域別'] = df4['區域別'].map(split_area)\n",
    "\n",
    "df4\n"
   ]
  },
  {
   "cell_type": "code",
   "execution_count": null,
   "id": "a7a6b589",
   "metadata": {},
   "outputs": [],
   "source": [
    "df5 = df4.reindex(columns=[\"區域別\",\"縣市\",\"年底人口數\",\"土地面積\",\"人口密度\"])\n",
    "df6 = df5.set_index('區域別')"
   ]
  },
  {
   "cell_type": "code",
   "execution_count": null,
   "id": "0078c72c",
   "metadata": {},
   "outputs": [],
   "source": [
    "df6.to_excel('各鄉鎮市區人口密度.xlsx',index=True)"
   ]
  }
 ],
 "metadata": {
  "kernelspec": {
   "display_name": "base",
   "language": "python",
   "name": "python3"
  },
  "language_info": {
   "codemirror_mode": {
    "name": "ipython",
    "version": 3
   },
   "file_extension": ".py",
   "mimetype": "text/x-python",
   "name": "python",
   "nbconvert_exporter": "python",
   "pygments_lexer": "ipython3",
   "version": "3.13.2"
  }
 },
 "nbformat": 4,
 "nbformat_minor": 5
}
