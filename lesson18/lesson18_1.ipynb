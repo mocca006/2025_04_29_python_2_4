{
 "cells": [
  {
   "cell_type": "markdown",
   "id": "4998ea51",
   "metadata": {},
   "source": [
    "https://www.perplexity.ai/search/81642e0f-4214-4e4f-ba5a-a483c3484685"
   ]
  },
  {
   "cell_type": "code",
   "execution_count": null,
   "id": "2f0b9a33",
   "metadata": {},
   "outputs": [],
   "source": [
    "import pandas as pd\n",
    "\n",
    "df = pd.read_csv(\"各鄉鎮市區人口密度.csv\")\n",
    "df\n"
   ]
  },
  {
   "cell_type": "code",
   "execution_count": null,
   "id": "ed7d1e04",
   "metadata": {},
   "outputs": [],
   "source": [
    "df1 = df.rename(columns={\"statistic_yyy\":\"統計年\",\n",
    "                   \"site_id\":\"區域別\",\n",
    "                   \"people_total\":\"年底人口數\",\n",
    "                   \"area\":\"土地面積\",\n",
    "                   \"population_density\":\"人口密度\"\n",
    "                   })\n",
    "df1"
   ]
  },
  {
   "cell_type": "code",
   "execution_count": null,
   "id": "14eb2ccb",
   "metadata": {},
   "outputs": [],
   "source": [
    "df.columns = [\"統計年\",\"區域別\",\"年底人口數\",\"土地面積\",\"人口密度\"]\n",
    "df"
   ]
  },
  {
   "cell_type": "code",
   "execution_count": null,
   "id": "08a1755f",
   "metadata": {},
   "outputs": [],
   "source": [
    "# Drop the \"統計年\" column\n",
    "df2 = df.drop([\"統計年\"],axis=1)\n",
    "df2"
   ]
  },
  {
   "cell_type": "code",
   "execution_count": null,
   "id": "b69df4e1",
   "metadata": {},
   "outputs": [],
   "source": [
    "# Drop rows with any NaN values\n",
    "# This will remove any row that has at least one NaN value in any column\n",
    "df3 = df2.dropna(axis=0)\n",
    "df3"
   ]
  },
  {
   "cell_type": "code",
   "execution_count": null,
   "id": "bc6c3de6",
   "metadata": {},
   "outputs": [],
   "source": [
    "# Drop the first row (index 0)\n",
    "# This will remove the first row of the DataFrame\n",
    "df4 = df3.drop(index=0)\n",
    "df4"
   ]
  }
 ],
 "metadata": {
  "kernelspec": {
   "display_name": "base",
   "language": "python",
   "name": "python3"
  },
  "language_info": {
   "codemirror_mode": {
    "name": "ipython",
    "version": 3
   },
   "file_extension": ".py",
   "mimetype": "text/x-python",
   "name": "python",
   "nbconvert_exporter": "python",
   "pygments_lexer": "ipython3",
   "version": "3.13.2"
  }
 },
 "nbformat": 4,
 "nbformat_minor": 5
}
