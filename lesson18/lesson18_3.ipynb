{
 "cells": [
  {
   "cell_type": "markdown",
   "id": "4269360d",
   "metadata": {},
   "source": [
    "### \n",
    "相關係數(correlation)"
   ]
  },
  {
   "cell_type": "code",
   "execution_count": null,
   "id": "093a2990",
   "metadata": {},
   "outputs": [],
   "source": [
    "import numpy as np\n",
    "import pandas as pd\n",
    "\n",
    "data = {'年廣告費投入':[12.5, 15.3, 23.2, 26.4, 33.5, 34.4, 39.4, 45.2, 55.4, 60.9],\n",
    "            '月均銷售額':[21.2, 23.9, 32.9, 34.1, 42.5, 43.2, 49.0, 52.8, 59.4, 63.5]}\n",
    "dataFrame = pd.DataFrame(data, index=[2011,2012,2013,2014,2015,2016,2017,2018,2019,2020])\n",
    "corration = dataFrame['年廣告費投入'].corr(dataFrame['月均銷售額'])\n",
    "corration"
   ]
  },
  {
   "cell_type": "code",
   "execution_count": null,
   "id": "cfda32d4",
   "metadata": {},
   "outputs": [],
   "source": [
    "import matplotlib.pyplot as plt\n",
    "figure = plt.figure(figsize=(8,5)) # Create a figure with specified size\n",
    "# 要先安裝中文字形\n",
    "# figure.suptitle('年廣告費投入與月均銷售額的關係', fontsize=16) # Set the title of the figure\n",
    "\n",
    "figure.set_tight_layout(True) # Adjust layout to prevent overlap\n",
    "\n",
    "axes = figure.add_subplot()\n",
    "axes.plot(dataFrame.index,dataFrame['年廣告費投入'],marker='.') # Plot the annual advertising investment\n",
    "axes.set_xlabel('年份') # Set x-axis label\n",
    "axes.plot(dataFrame.index,dataFrame['月均銷售額'],marker='.') # Plot the average monthly sales\n",
    "axes.set_ylabel('金額(萬元)') # Set y-axis label\n",
    "plt.show()"
   ]
  },
  {
   "cell_type": "code",
   "execution_count": null,
   "id": "ea3c6050",
   "metadata": {},
   "outputs": [],
   "source": [
    "# yfinance 是一個Python 套件，\n",
    "# 它提供了一種簡單的方法來從Yahoo 財經獲取金融數據。\n",
    "# 這個套件非常適合那些需要進行股票市場分析、財務數據探索或建立投資策略的程式開發人員 ...\n",
    "# 安裝 yfinance 套件\n",
    "# pip install yfinance\n",
    "# 使用 yfinance 下載台積電的股價數據\n",
    "# 這裡的 '2330.TW' 是台積電在Yahoo 財經的股票代碼，\n",
    "# start 和 end 參數指定了下載數據的時間範圍。\n",
    "\n",
    "import yfinance as yf\n",
    "yf.download('2330.TW',start='2024-01-01',end='2024-06-01',auto_adjust=True)"
   ]
  },
  {
   "cell_type": "code",
   "execution_count": null,
   "id": "6fd4d753",
   "metadata": {},
   "outputs": [],
   "source": [
    "import yfinance as yf\n",
    "tw2330 = yf.download('2330.TW',start='2024-01-01',end='2024-06-01',auto_adjust=True)\n",
    "tw2330['Close'].plot(title='台積電股價', figsize=(10, 6))  # Plot the closing price of TSMC\n",
    "plt.xlabel('日期')  # Set x-axis label"
   ]
  },
  {
   "cell_type": "code",
   "execution_count": 10,
   "id": "c8fc72ae",
   "metadata": {},
   "outputs": [
    {
     "name": "stderr",
     "output_type": "stream",
     "text": [
      "[*********************100%***********************]  1 of 1 completed\n"
     ]
    },
    {
     "data": {
      "text/plain": [
       "Date\n",
       "2024-01-02    593.0\n",
       "2024-01-03    578.0\n",
       "2024-01-04    580.0\n",
       "2024-01-05    576.0\n",
       "2024-01-08    583.0\n",
       "              ...  \n",
       "2024-05-27    869.0\n",
       "2024-05-28    865.0\n",
       "2024-05-29    857.0\n",
       "2024-05-30    838.0\n",
       "2024-05-31    821.0\n",
       "Name: 2330.TW, Length: 98, dtype: float64"
      ]
     },
     "execution_count": 10,
     "metadata": {},
     "output_type": "execute_result"
    }
   ],
   "source": [
    "import yfinance as yf\n",
    "tw2330 = yf.download('2330.TW',start='2024-01-01',end='2024-06-01',auto_adjust=True)\n",
    "tw2330['Close']['2330.TW']"
   ]
  },
  {
   "cell_type": "code",
   "execution_count": 11,
   "id": "0565a160",
   "metadata": {},
   "outputs": [
    {
     "name": "stderr",
     "output_type": "stream",
     "text": [
      "[*********************100%***********************]  1 of 1 completed\n",
      "[*********************100%***********************]  1 of 1 completed\n",
      "[*********************100%***********************]  1 of 1 completed\n",
      "[*********************100%***********************]  1 of 1 completed\n"
     ]
    }
   ],
   "source": [
    "\n",
    "import yfinance as yf\n",
    "tw2330 = yf.download('2330.TW',start='2024-01-01',end='2024-06-01',auto_adjust=True)\n",
    "tw2303 = yf.download('2303.TW',start='2024-01-01',end='2024-06-01',auto_adjust=True)\n",
    "tw2454 = yf.download('2454.TW',start='2024-01-01',end='2024-06-01',auto_adjust=True)\n",
    "tw2317 = yf.download('2317.TW',start='2024-01-01',end='2024-06-01',auto_adjust=True)"
   ]
  },
  {
   "cell_type": "code",
   "execution_count": 12,
   "id": "b7961bce",
   "metadata": {},
   "outputs": [
    {
     "data": {
      "text/html": [
       "<div>\n",
       "<style scoped>\n",
       "    .dataframe tbody tr th:only-of-type {\n",
       "        vertical-align: middle;\n",
       "    }\n",
       "\n",
       "    .dataframe tbody tr th {\n",
       "        vertical-align: top;\n",
       "    }\n",
       "\n",
       "    .dataframe thead th {\n",
       "        text-align: right;\n",
       "    }\n",
       "</style>\n",
       "<table border=\"1\" class=\"dataframe\">\n",
       "  <thead>\n",
       "    <tr style=\"text-align: right;\">\n",
       "      <th></th>\n",
       "      <th>台積電</th>\n",
       "      <th>聯電</th>\n",
       "      <th>聯發科</th>\n",
       "      <th>鴻海</th>\n",
       "    </tr>\n",
       "    <tr>\n",
       "      <th>Date</th>\n",
       "      <th></th>\n",
       "      <th></th>\n",
       "      <th></th>\n",
       "      <th></th>\n",
       "    </tr>\n",
       "  </thead>\n",
       "  <tbody>\n",
       "    <tr>\n",
       "      <th>2024-01-02</th>\n",
       "      <td>593.0</td>\n",
       "      <td>51.900002</td>\n",
       "      <td>915.833191</td>\n",
       "      <td>102.375000</td>\n",
       "    </tr>\n",
       "    <tr>\n",
       "      <th>2024-01-03</th>\n",
       "      <td>578.0</td>\n",
       "      <td>50.599998</td>\n",
       "      <td>889.693176</td>\n",
       "      <td>101.887505</td>\n",
       "    </tr>\n",
       "    <tr>\n",
       "      <th>2024-01-04</th>\n",
       "      <td>580.0</td>\n",
       "      <td>50.799999</td>\n",
       "      <td>889.309814</td>\n",
       "      <td>101.400002</td>\n",
       "    </tr>\n",
       "    <tr>\n",
       "      <th>2024-01-05</th>\n",
       "      <td>576.0</td>\n",
       "      <td>50.799999</td>\n",
       "      <td>882.601746</td>\n",
       "      <td>101.400002</td>\n",
       "    </tr>\n",
       "    <tr>\n",
       "      <th>2024-01-08</th>\n",
       "      <td>583.0</td>\n",
       "      <td>50.500000</td>\n",
       "      <td>881.643433</td>\n",
       "      <td>98.962502</td>\n",
       "    </tr>\n",
       "    <tr>\n",
       "      <th>...</th>\n",
       "      <td>...</td>\n",
       "      <td>...</td>\n",
       "      <td>...</td>\n",
       "      <td>...</td>\n",
       "    </tr>\n",
       "    <tr>\n",
       "      <th>2024-05-27</th>\n",
       "      <td>869.0</td>\n",
       "      <td>56.599998</td>\n",
       "      <td>1231.425781</td>\n",
       "      <td>180.375000</td>\n",
       "    </tr>\n",
       "    <tr>\n",
       "      <th>2024-05-28</th>\n",
       "      <td>865.0</td>\n",
       "      <td>56.400002</td>\n",
       "      <td>1255.383545</td>\n",
       "      <td>180.862503</td>\n",
       "    </tr>\n",
       "    <tr>\n",
       "      <th>2024-05-29</th>\n",
       "      <td>857.0</td>\n",
       "      <td>55.900002</td>\n",
       "      <td>1236.217407</td>\n",
       "      <td>175.987503</td>\n",
       "    </tr>\n",
       "    <tr>\n",
       "      <th>2024-05-30</th>\n",
       "      <td>838.0</td>\n",
       "      <td>55.799999</td>\n",
       "      <td>1236.217407</td>\n",
       "      <td>172.087509</td>\n",
       "    </tr>\n",
       "    <tr>\n",
       "      <th>2024-05-31</th>\n",
       "      <td>821.0</td>\n",
       "      <td>55.000000</td>\n",
       "      <td>1183.510498</td>\n",
       "      <td>167.699997</td>\n",
       "    </tr>\n",
       "  </tbody>\n",
       "</table>\n",
       "<p>98 rows × 4 columns</p>\n",
       "</div>"
      ],
      "text/plain": [
       "              台積電         聯電          聯發科          鴻海\n",
       "Date                                                 \n",
       "2024-01-02  593.0  51.900002   915.833191  102.375000\n",
       "2024-01-03  578.0  50.599998   889.693176  101.887505\n",
       "2024-01-04  580.0  50.799999   889.309814  101.400002\n",
       "2024-01-05  576.0  50.799999   882.601746  101.400002\n",
       "2024-01-08  583.0  50.500000   881.643433   98.962502\n",
       "...           ...        ...          ...         ...\n",
       "2024-05-27  869.0  56.599998  1231.425781  180.375000\n",
       "2024-05-28  865.0  56.400002  1255.383545  180.862503\n",
       "2024-05-29  857.0  55.900002  1236.217407  175.987503\n",
       "2024-05-30  838.0  55.799999  1236.217407  172.087509\n",
       "2024-05-31  821.0  55.000000  1183.510498  167.699997\n",
       "\n",
       "[98 rows x 4 columns]"
      ]
     },
     "execution_count": 12,
     "metadata": {},
     "output_type": "execute_result"
    }
   ],
   "source": [
    "tw2330_s = tw2330['Close']['2330.TW']\n",
    "tw2303_s = tw2303['Close']['2303.TW']\n",
    "tw2454_s = tw2454['Close']['2454.TW']\n",
    "tw2317_s = tw2317['Close']['2317.TW']\n",
    "\n",
    "pd.DataFrame({\"台積電\":tw2330_s,\"聯電\":tw2303_s,\"聯發科\":tw2454_s,\"鴻海\":tw2317_s})"
   ]
  }
 ],
 "metadata": {
  "kernelspec": {
   "display_name": "base",
   "language": "python",
   "name": "python3"
  },
  "language_info": {
   "codemirror_mode": {
    "name": "ipython",
    "version": 3
   },
   "file_extension": ".py",
   "mimetype": "text/x-python",
   "name": "python",
   "nbconvert_exporter": "python",
   "pygments_lexer": "ipython3",
   "version": "3.13.2"
  }
 },
 "nbformat": 4,
 "nbformat_minor": 5
}
