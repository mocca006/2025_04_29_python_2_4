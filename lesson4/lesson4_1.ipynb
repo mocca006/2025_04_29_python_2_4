{
 "cells": [
  {
   "cell_type": "markdown",
   "id": "42aaee28",
   "metadata": {},
   "source": [
    "### 流程控制\n",
    "-- 判斷 (if)\n",
    "   -- 單項選擇\n",
    "       -- if bool:\n",
    "   -- 雙項選擇\n",
    "      -- if bool:\n",
    "          else:\n",
    "   --- 多項選擇\n",
    "--- 迴圈"
   ]
  },
  {
   "cell_type": "code",
   "execution_count": 4,
   "id": "985c76ce",
   "metadata": {},
   "outputs": [
    {
     "name": "stdout",
     "output_type": "stream",
     "text": [
      "這是True的區塊\n",
      "True\n",
      "應用程式結束\n",
      "這是False的區塊\n",
      "False\n",
      "應用程式結束\n"
     ]
    }
   ],
   "source": [
    "if True: #這邊選擇執行區塊\n",
    "    print(\"這是True的區塊\") \n",
    "    print(\"True\")      \n",
    "else:\n",
    "    print(\"這是False的區塊\") \n",
    "    print(\"False\")  \n",
    "print(\"應用程式結束\")\n",
    "\n",
    "if False: #這邊選擇執行區塊\n",
    "    print(\"這是True的區塊\") \n",
    "    print(\"True\")      \n",
    "else:\n",
    "    print(\"這是False的區塊\") \n",
    "    print(\"False\")  \n",
    "print(\"應用程式結束\")"
   ]
  }
 ],
 "metadata": {
  "kernelspec": {
   "display_name": "base",
   "language": "python",
   "name": "python3"
  },
  "language_info": {
   "codemirror_mode": {
    "name": "ipython",
    "version": 3
   },
   "file_extension": ".py",
   "mimetype": "text/x-python",
   "name": "python",
   "nbconvert_exporter": "python",
   "pygments_lexer": "ipython3",
   "version": "3.12.9"
  }
 },
 "nbformat": 4,
 "nbformat_minor": 5
}
