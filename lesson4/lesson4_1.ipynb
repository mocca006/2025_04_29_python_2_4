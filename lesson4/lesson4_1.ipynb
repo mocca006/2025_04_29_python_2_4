{
 "cells": [
  {
   "cell_type": "markdown",
   "id": "42aaee28",
   "metadata": {},
   "source": [
    "### 流程控制\n",
    "- 判斷 (if)\n",
    "   - 單項選擇\n",
    "       - if bool:\n",
    "   - 雙項選擇\n",
    "      - if bool:\n",
    "          else:\n",
    "   - 多項選擇\n",
    "   \n",
    "-迴圈"
   ]
  },
  {
   "cell_type": "code",
   "execution_count": 5,
   "id": "985c76ce",
   "metadata": {},
   "outputs": [
    {
     "name": "stdout",
     "output_type": "stream",
     "text": [
      "這是True的區塊\n",
      "True\n",
      "應用程式結束\n",
      "\n",
      "這是False的區塊\n",
      "False\n",
      "應用程式結束\n"
     ]
    }
   ],
   "source": [
    "if True: #這邊選擇執行區塊\n",
    "    print(\"這是True的區塊\") \n",
    "    print(\"True\")      \n",
    "else:\n",
    "    print(\"這是False的區塊\") \n",
    "    print(\"False\")  \n",
    "print(\"應用程式結束\")\n",
    "\n",
    "print()\n",
    "\n",
    "if False: #這邊選擇執行區塊\n",
    "    print(\"這是True的區塊\") \n",
    "    print(\"True\")      \n",
    "else:\n",
    "    print(\"這是False的區塊\") \n",
    "    print(\"False\")  \n",
    "print(\"應用程式結束\")"
   ]
  },
  {
   "cell_type": "markdown",
   "id": "eb105d1b",
   "metadata": {},
   "source": [
    "### 如何產生布林值\n",
    "- 關係運算子會產生布林值\n",
    "  - <\n",
    "  - <=\n",
    "  - \\>\n",
    "  - \\>=\n",
    "  - ==\n",
    "  - !="
   ]
  },
  {
   "cell_type": "code",
   "execution_count": null,
   "id": "f1349412",
   "metadata": {},
   "outputs": [
    {
     "name": "stdout",
     "output_type": "stream",
     "text": [
      "可以考駕照\n"
     ]
    }
   ],
   "source": [
    "# age = int(input(\"請輸入年紀:\")) #整數\n",
    "# 或是以下寫法\n",
    "#age:int = int(input(\"請輸入年紀:\")) #age:int 表示右邊輸入的是整數型別\n",
    "if age >= 18: #一定要有:\n",
    "    print(\"可以考駕照\")\n",
    "else:\n",
    "    print(\"不可以考駕照\")"
   ]
  },
  {
   "cell_type": "code",
   "execution_count": null,
   "id": "9fe1f7b9",
   "metadata": {},
   "outputs": [],
   "source": [
    "#總分為300分\n",
    "#依照y/n選擇是否可以加5%\n",
    "\n",
    "scores:int = int(input (\"輸入分數:\")) # int 將輸入字串轉成整數 # 左邊:int 表示右邊輸入的是整數型別\n",
    "is_add:str = input(\"是否可以加分? y / n\") # 左邊:str 表示右邊輸入的是字串型別\n",
    "\n",
    "if (is_add == \"y\"):\n",
    "    scores *= 1.05 # 加5%\n",
    "    if scores > 300 : #巢狀判斷避免總分超過300分\n",
    "        scores = 300\n",
    "print (\"分數:\", round (scores)) # round 是4捨5入 #字串後面用逗號,才能印數值"
   ]
  },
  {
   "cell_type": "code",
   "execution_count": null,
   "id": "5a03e28c",
   "metadata": {},
   "outputs": [
    {
     "name": "stdout",
     "output_type": "stream",
     "text": [
      "分數: 116\n"
     ]
    }
   ],
   "source": [
    "#try:\n",
    "#except:\n",
    "#如果有例外錯誤就執行except\n",
    "\n",
    "#總分為300分\n",
    "#依照y/n選擇是否可以加5%\n",
    "\n",
    "try:\n",
    "    scores:int = int(input (\"輸入分數:\")) # int 將輸入字串轉成整數 # 左邊:int 表示右邊輸入的是整數型別\n",
    "    is_add:str = input(\"是否可以加分? y / n\") # 左邊:str 表示右邊輸入的是字串型別\n",
    "\n",
    "    if (is_add == \"y\"):\n",
    "        scores *= 1.05 # 加5%\n",
    "        if scores > 300 : #巢狀判斷避免總分超過300分\n",
    "            scores = 300\n",
    "    # print (\"分數:\", round (scores)) #放這邊才對\n",
    "except:\n",
    "    print(\"輸入錯誤! 請重新輸入\")\n",
    "\n",
    "print (\"分數:\", round (scores)) "
   ]
  },
  {
   "cell_type": "code",
   "execution_count": null,
   "id": "b144409c",
   "metadata": {},
   "outputs": [
    {
     "name": "stdout",
     "output_type": "stream",
     "text": [
      "分數超過300分\n",
      "應用程式結束\n"
     ]
    }
   ],
   "source": [
    "#try:\n",
    "#except:\n",
    "#如果有例外錯誤就執行except\n",
    "\n",
    "#總分為300分\n",
    "#依照y/n選擇是否可以加5%\n",
    "\n",
    "try:\n",
    "    scores:int = int(input (\"輸入分數:\")) # int 將輸入字串轉成整數 # 左邊:int 表示右邊輸入的是整數型別\n",
    "    if scores > 300:\n",
    "        raise Exception(\"分數超過300分\") #自己建立raise檢查錯誤\n",
    "       \n",
    "    is_add:str = input(\"是否可以加分? y / n\") # 左邊:str 表示右邊輸入的是字串型別\n",
    "\n",
    "    if (is_add == \"y\"):\n",
    "        scores *= 1.05 # 加5%\n",
    "        if scores > 300 : #巢狀判斷避免總分超過300分\n",
    "            scores = 300\n",
    "    # print (\"分數:\", round (scores)) #放這邊才對\n",
    "except ValueError: #ValueError 輸入不是整數,例如27A\n",
    "    print(\"輸入錯誤! 請重新輸入\")\n",
    "except Exception as e: #將其他錯誤表示出來 raise Exception(\"分數超過300分\")\n",
    "    print(e)\n",
    "else:\n",
    "    print (\"分數:\", round (scores)) \n",
    "print (\"應用程式結束\")"
   ]
  },
  {
   "cell_type": "code",
   "execution_count": null,
   "id": "9cc18ab2",
   "metadata": {},
   "outputs": [],
   "source": [
    "#抓取一個數值區段\n",
    "#使用巢狀判斷\n",
    "\n",
    "value:int=int(input(\"輸入數值:\"))\n",
    "if value >=120:\n",
    "    if value <= 220:\n",
    "        print(\"數值在120~220\")\n",
    "\n"
   ]
  },
  {
   "cell_type": "code",
   "execution_count": 38,
   "id": "8d7c869e",
   "metadata": {},
   "outputs": [
    {
     "name": "stdout",
     "output_type": "stream",
     "text": [
      "數值在120~220\n"
     ]
    }
   ],
   "source": [
    "#用邏輯運算子判斷\n",
    "\n",
    "value:int=int(input(\"輸入數值:\"))\n",
    "if value >=120 and value <= 220:\n",
    "    print(\"數值在120~220\")\n"
   ]
  },
  {
   "cell_type": "code",
   "execution_count": 41,
   "id": "9bbf2cd8",
   "metadata": {},
   "outputs": [
    {
     "name": "stdout",
     "output_type": "stream",
     "text": [
      "輸入數值小於120或者大於220\n"
     ]
    }
   ],
   "source": [
    "#用邏輯運算子判斷\n",
    "\n",
    "value:int=int(input(\"輸入數值:\"))\n",
    "if value <120 or value >220:\n",
    "    print(\"輸入數值小於120或者大於220\")"
   ]
  },
  {
   "cell_type": "code",
   "execution_count": 42,
   "id": "8707bf7d",
   "metadata": {},
   "outputs": [
    {
     "name": "stdout",
     "output_type": "stream",
     "text": [
      "不及格\n"
     ]
    }
   ],
   "source": [
    "#成績\n",
    "\n",
    "scores:int=int (input(\"輸入成績:\"))\n",
    "if scores >=80:\n",
    "    print(\"優\")\n",
    "elif scores >=60: # else 和 if 整合成elif\n",
    "    print(\"甲\")\n",
    "else:\n",
    "    print(\"不及格\")"
   ]
  }
 ],
 "metadata": {
  "kernelspec": {
   "display_name": "base",
   "language": "python",
   "name": "python3"
  },
  "language_info": {
   "codemirror_mode": {
    "name": "ipython",
    "version": 3
   },
   "file_extension": ".py",
   "mimetype": "text/x-python",
   "name": "python",
   "nbconvert_exporter": "python",
   "pygments_lexer": "ipython3",
   "version": "3.12.9"
  }
 },
 "nbformat": 4,
 "nbformat_minor": 5
}
