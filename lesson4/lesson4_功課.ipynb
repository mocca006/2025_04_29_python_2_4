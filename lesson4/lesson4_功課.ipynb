{
 "cells": [
  {
   "cell_type": "code",
   "execution_count": null,
   "id": "145821c7",
   "metadata": {},
   "outputs": [
    {
     "name": "stdout",
     "output_type": "stream",
     "text": [
      "身高輸入:300 超過120cm ~220cm 範圍\n",
      "輸入超過範圍~應用程式結束\n",
      "身高(公分): 300\n",
      "體重(公斤): 42\n",
      "BMI數值: 4.67\n",
      "BMI數值計算完成\n"
     ]
    }
   ],
   "source": [
    "#計算BMI數值\n",
    "#BMI公式=體重(公斤)/身高(公尺)平方\n",
    "\n",
    "try:\n",
    "    height:int = int(input('請輸入身高(公分):'))\n",
    "    if height < 100 or height >220:  \n",
    "        raise Exception(f\"身高輸入:{height} 超過120cm ~220cm 範圍\") #自己建立raise檢查錯誤     \n",
    "   \n",
    "    weight:int = int(input('請輸入體重(公斤):'))\n",
    "    if weight <30 or weight >200:       \n",
    "        raise Exception(f\"體重輸入:{weight} 超過30Kg ~200Kg 範圍\") #自己建立raise檢查錯誤 \n",
    "         \n",
    "except ValueError: #ValueError 輸入不是整數,例如27A\n",
    "    print(\"輸入錯誤! 應用程式結束\")\n",
    "\n",
    "except Exception as e: #將其他錯誤表示出來 raise Exception(\"輸入超過範圍\")\n",
    "    print(e)\n",
    "\n",
    "#print (\"*\",8)\n",
    "\n",
    "bmi = weight / (height/100)**2   \n",
    "\n",
    "print (f'身高(公分): {height}')\n",
    "print (f'體重(公斤): {weight}')\n",
    "print (f'BMI數值:{bmi: .2f}')\n",
    "\n",
    "print (\"BMI數值計算完成\")\n"
   ]
  }
 ],
 "metadata": {
  "kernelspec": {
   "display_name": "base",
   "language": "python",
   "name": "python3"
  },
  "language_info": {
   "codemirror_mode": {
    "name": "ipython",
    "version": 3
   },
   "file_extension": ".py",
   "mimetype": "text/x-python",
   "name": "python",
   "nbconvert_exporter": "python",
   "pygments_lexer": "ipython3",
   "version": "3.12.9"
  }
 },
 "nbformat": 4,
 "nbformat_minor": 5
}
