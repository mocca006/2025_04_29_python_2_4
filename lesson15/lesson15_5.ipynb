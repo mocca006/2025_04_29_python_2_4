{
 "cells": [
  {
   "cell_type": "markdown",
   "id": "a08fdafd",
   "metadata": {},
   "source": []
  },
  {
   "cell_type": "markdown",
   "id": "c6cb083f",
   "metadata": {},
   "source": [
    "https://www.perplexity.ai/search/58cd595a-b8c3-46d6-b687-cc04dd624fb4"
   ]
  },
  {
   "cell_type": "code",
   "execution_count": null,
   "id": "bffc461e",
   "metadata": {},
   "outputs": [],
   "source": [
    "import pandas as pd\n",
    "\n",
    "df = pd.read_csv('個股日成交資訊.csv', encoding='utf-8')\n",
    "df"
   ]
  },
  {
   "cell_type": "code",
   "execution_count": null,
   "id": "83e97603",
   "metadata": {},
   "outputs": [],
   "source": [
    "df['證券名稱']"
   ]
  },
  {
   "cell_type": "code",
   "execution_count": null,
   "id": "5c13ed1c",
   "metadata": {},
   "outputs": [],
   "source": [
    "\n",
    "#使用mask,選取資料\n",
    "df[df['證券名稱'] == '富邦科技']"
   ]
  },
  {
   "cell_type": "code",
   "execution_count": null,
   "id": "8b7998df",
   "metadata": {},
   "outputs": [],
   "source": [
    "df.info()"
   ]
  },
  {
   "cell_type": "code",
   "execution_count": null,
   "id": "80987994",
   "metadata": {},
   "outputs": [],
   "source": [
    "import pandas as pd\n",
    "df = pd.read_csv('個股日成交資訊.csv',usecols=['證券代號','證券名稱','開盤價','收盤價','漲跌價差'],index_col='證券代號')\n",
    "#index_col='證券代號' 一定要放到usecols的後面，否則會報錯\n",
    "#index_col='證券代號' 一定要包含在usecols裡面\n",
    "df"
   ]
  },
  {
   "cell_type": "code",
   "execution_count": null,
   "id": "8eca3631",
   "metadata": {},
   "outputs": [],
   "source": [
    "df.info()"
   ]
  },
  {
   "cell_type": "code",
   "execution_count": null,
   "id": "1e326a29",
   "metadata": {},
   "outputs": [],
   "source": [
    "\n",
    "df.loc['0050'] # 使用loc選取特定行\n",
    "df.loc['0050':'0055'] # 使用loc選取特定行範圍\n",
    "df.iloc[:10] # 前10筆資料\n",
    "df.iloc[10:20] # 11-20筆資料"
   ]
  }
 ],
 "metadata": {
  "kernelspec": {
   "display_name": "base",
   "language": "python",
   "name": "python3"
  },
  "language_info": {
   "codemirror_mode": {
    "name": "ipython",
    "version": 3
   },
   "file_extension": ".py",
   "mimetype": "text/x-python",
   "name": "python",
   "nbconvert_exporter": "python",
   "pygments_lexer": "ipython3",
   "version": "3.13.2"
  }
 },
 "nbformat": 4,
 "nbformat_minor": 5
}
