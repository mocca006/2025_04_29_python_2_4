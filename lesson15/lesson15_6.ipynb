{
 "cells": [
  {
   "cell_type": "code",
   "execution_count": null,
   "id": "4b0b5bc3",
   "metadata": {},
   "outputs": [],
   "source": [
    "import pandas as pd\n",
    "\n",
    "all_data = pd.read_csv('world.csv')\n",
    "all_data.info()"
   ]
  },
  {
   "cell_type": "code",
   "execution_count": null,
   "id": "3d80f181",
   "metadata": {},
   "outputs": [],
   "source": [
    "all_data = pd.read_csv('world.csv',usecols=['國家','日期','總確診數','新增確診數','新增死亡數'])\n",
    "all_data"
   ]
  },
  {
   "cell_type": "code",
   "execution_count": null,
   "id": "0cc127fb",
   "metadata": {},
   "outputs": [],
   "source": [
    "#使用mask,透過值選取資料\n",
    "all_data[all_data['國家'] == '台灣']"
   ]
  },
  {
   "cell_type": "code",
   "execution_count": 1,
   "id": "094b6322",
   "metadata": {},
   "outputs": [
    {
     "ename": "NameError",
     "evalue": "name 'all_data' is not defined",
     "output_type": "error",
     "traceback": [
      "\u001b[31m---------------------------------------------------------------------------\u001b[39m",
      "\u001b[31mNameError\u001b[39m                                 Traceback (most recent call last)",
      "\u001b[36mCell\u001b[39m\u001b[36m \u001b[39m\u001b[32mIn[1]\u001b[39m\u001b[32m, line 3\u001b[39m\n\u001b[32m      1\u001b[39m \u001b[38;5;66;03m#使用query()實體方法\u001b[39;00m\n\u001b[32m----> \u001b[39m\u001b[32m3\u001b[39m taiwan = \u001b[43mall_data\u001b[49m.query(\u001b[33m'\u001b[39m\u001b[33m國家==\u001b[39m\u001b[33m\"\u001b[39m\u001b[33m台灣\u001b[39m\u001b[33m\"\u001b[39m\u001b[33m'\u001b[39m)\n\u001b[32m      4\u001b[39m taiwan\n",
      "\u001b[31mNameError\u001b[39m: name 'all_data' is not defined"
     ]
    }
   ],
   "source": [
    "#使用query()實體方法\n",
    "\n",
    "taiwan = all_data.query('國家==\"台灣\"')\n",
    "taiwan"
   ]
  },
  {
   "cell_type": "code",
   "execution_count": null,
   "id": "75df0a27",
   "metadata": {},
   "outputs": [],
   "source": [
    "\n",
    "taiwan_japan = all_data.query('國家==\"台灣\" or 國家==\"日本\"')"
   ]
  },
  {
   "cell_type": "code",
   "execution_count": null,
   "id": "1dd3001a",
   "metadata": {},
   "outputs": [],
   "source": [
    "taiwan.query('新增確診數 >= 10000')\n",
    "taiwan.query('新增確診數 >= 10000 and 新增死亡數 > 100')"
   ]
  }
 ],
 "metadata": {
  "kernelspec": {
   "display_name": "base",
   "language": "python",
   "name": "python3"
  },
  "language_info": {
   "codemirror_mode": {
    "name": "ipython",
    "version": 3
   },
   "file_extension": ".py",
   "mimetype": "text/x-python",
   "name": "python",
   "nbconvert_exporter": "python",
   "pygments_lexer": "ipython3",
   "version": "3.13.2"
  }
 },
 "nbformat": 4,
 "nbformat_minor": 5
}
