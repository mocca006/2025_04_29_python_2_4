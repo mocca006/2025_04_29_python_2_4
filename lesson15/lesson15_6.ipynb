{
 "cells": [
  {
   "cell_type": "code",
   "execution_count": null,
   "id": "4b0b5bc3",
   "metadata": {},
   "outputs": [],
   "source": [
    "import pandas as pd\n",
    "\n",
    "all_data = pd.read_csv('world.csv')\n",
    "all_data.info()"
   ]
  },
  {
   "cell_type": "code",
   "execution_count": null,
   "id": "3d80f181",
   "metadata": {},
   "outputs": [],
   "source": [
    "all_data = pd.read_csv('world.csv',usecols=['國家','日期','總確診數','新增確診數','新增死亡數'])\n",
    "all_data"
   ]
  },
  {
   "cell_type": "code",
   "execution_count": null,
   "id": "0cc127fb",
   "metadata": {},
   "outputs": [],
   "source": [
    "#使用mask,透過值選取資料\n",
    "all_data[all_data['國家'] == '台灣']"
   ]
  },
  {
   "cell_type": "code",
   "execution_count": 8,
   "id": "094b6322",
   "metadata": {},
   "outputs": [
    {
     "data": {
      "text/html": [
       "<div>\n",
       "<style scoped>\n",
       "    .dataframe tbody tr th:only-of-type {\n",
       "        vertical-align: middle;\n",
       "    }\n",
       "\n",
       "    .dataframe tbody tr th {\n",
       "        vertical-align: top;\n",
       "    }\n",
       "\n",
       "    .dataframe thead th {\n",
       "        text-align: right;\n",
       "    }\n",
       "</style>\n",
       "<table border=\"1\" class=\"dataframe\">\n",
       "  <thead>\n",
       "    <tr style=\"text-align: right;\">\n",
       "      <th></th>\n",
       "      <th>國家</th>\n",
       "      <th>日期</th>\n",
       "      <th>總確診數</th>\n",
       "      <th>新增確診數</th>\n",
       "      <th>新增死亡數</th>\n",
       "    </tr>\n",
       "  </thead>\n",
       "  <tbody>\n",
       "    <tr>\n",
       "      <th>163986</th>\n",
       "      <td>台灣</td>\n",
       "      <td>2020-01-16</td>\n",
       "      <td>0</td>\n",
       "      <td>0</td>\n",
       "      <td>0</td>\n",
       "    </tr>\n",
       "    <tr>\n",
       "      <th>163987</th>\n",
       "      <td>台灣</td>\n",
       "      <td>2020-01-17</td>\n",
       "      <td>0</td>\n",
       "      <td>0</td>\n",
       "      <td>0</td>\n",
       "    </tr>\n",
       "    <tr>\n",
       "      <th>163988</th>\n",
       "      <td>台灣</td>\n",
       "      <td>2020-01-18</td>\n",
       "      <td>0</td>\n",
       "      <td>0</td>\n",
       "      <td>0</td>\n",
       "    </tr>\n",
       "    <tr>\n",
       "      <th>163989</th>\n",
       "      <td>台灣</td>\n",
       "      <td>2020-01-19</td>\n",
       "      <td>0</td>\n",
       "      <td>0</td>\n",
       "      <td>0</td>\n",
       "    </tr>\n",
       "    <tr>\n",
       "      <th>163990</th>\n",
       "      <td>台灣</td>\n",
       "      <td>2020-01-20</td>\n",
       "      <td>0</td>\n",
       "      <td>0</td>\n",
       "      <td>0</td>\n",
       "    </tr>\n",
       "    <tr>\n",
       "      <th>...</th>\n",
       "      <td>...</td>\n",
       "      <td>...</td>\n",
       "      <td>...</td>\n",
       "      <td>...</td>\n",
       "      <td>...</td>\n",
       "    </tr>\n",
       "    <tr>\n",
       "      <th>164884</th>\n",
       "      <td>台灣</td>\n",
       "      <td>2022-07-02</td>\n",
       "      <td>3837856</td>\n",
       "      <td>34807</td>\n",
       "      <td>96</td>\n",
       "    </tr>\n",
       "    <tr>\n",
       "      <th>164885</th>\n",
       "      <td>台灣</td>\n",
       "      <td>2022-07-03</td>\n",
       "      <td>3870528</td>\n",
       "      <td>32672</td>\n",
       "      <td>88</td>\n",
       "    </tr>\n",
       "    <tr>\n",
       "      <th>164886</th>\n",
       "      <td>台灣</td>\n",
       "      <td>2022-07-04</td>\n",
       "      <td>3893643</td>\n",
       "      <td>23115</td>\n",
       "      <td>69</td>\n",
       "    </tr>\n",
       "    <tr>\n",
       "      <th>164887</th>\n",
       "      <td>台灣</td>\n",
       "      <td>2022-07-05</td>\n",
       "      <td>3929627</td>\n",
       "      <td>35984</td>\n",
       "      <td>103</td>\n",
       "    </tr>\n",
       "    <tr>\n",
       "      <th>164888</th>\n",
       "      <td>台灣</td>\n",
       "      <td>2022-07-06</td>\n",
       "      <td>3964188</td>\n",
       "      <td>34561</td>\n",
       "      <td>95</td>\n",
       "    </tr>\n",
       "  </tbody>\n",
       "</table>\n",
       "<p>903 rows × 5 columns</p>\n",
       "</div>"
      ],
      "text/plain": [
       "        國家          日期     總確診數  新增確診數  新增死亡數\n",
       "163986  台灣  2020-01-16        0      0      0\n",
       "163987  台灣  2020-01-17        0      0      0\n",
       "163988  台灣  2020-01-18        0      0      0\n",
       "163989  台灣  2020-01-19        0      0      0\n",
       "163990  台灣  2020-01-20        0      0      0\n",
       "...     ..         ...      ...    ...    ...\n",
       "164884  台灣  2022-07-02  3837856  34807     96\n",
       "164885  台灣  2022-07-03  3870528  32672     88\n",
       "164886  台灣  2022-07-04  3893643  23115     69\n",
       "164887  台灣  2022-07-05  3929627  35984    103\n",
       "164888  台灣  2022-07-06  3964188  34561     95\n",
       "\n",
       "[903 rows x 5 columns]"
      ]
     },
     "execution_count": 8,
     "metadata": {},
     "output_type": "execute_result"
    }
   ],
   "source": [
    "#使用query()實體方法\n",
    "\n",
    "taiwan = all_data.query('國家==\"台灣\"')\n",
    "taiwan"
   ]
  },
  {
   "cell_type": "code",
   "execution_count": null,
   "id": "75df0a27",
   "metadata": {},
   "outputs": [],
   "source": [
    "\n",
    "taiwan_japan = all_data.query('國家==\"台灣\" or 國家==\"日本\"')"
   ]
  },
  {
   "cell_type": "code",
   "execution_count": null,
   "id": "1dd3001a",
   "metadata": {},
   "outputs": [],
   "source": [
    "taiwan.query('新增確診數 >= 10000')\n",
    "taiwan.query('新增確診數 >= 10000 and 新增死亡數 > 100')"
   ]
  }
 ],
 "metadata": {
  "kernelspec": {
   "display_name": "base",
   "language": "python",
   "name": "python3"
  },
  "language_info": {
   "codemirror_mode": {
    "name": "ipython",
    "version": 3
   },
   "file_extension": ".py",
   "mimetype": "text/x-python",
   "name": "python",
   "nbconvert_exporter": "python",
   "pygments_lexer": "ipython3",
   "version": "3.13.2"
  }
 },
 "nbformat": 4,
 "nbformat_minor": 5
}
