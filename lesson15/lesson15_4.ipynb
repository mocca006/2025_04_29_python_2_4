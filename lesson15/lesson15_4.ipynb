{
 "cells": [
  {
   "cell_type": "markdown",
   "id": "94977520",
   "metadata": {},
   "source": [
    "\n",
    "https://www.perplexity.ai/search/f9b40ada-565a-4ef9-aba5-3afd8763b3ca"
   ]
  },
  {
   "cell_type": "code",
   "execution_count": 19,
   "id": "5770abd2",
   "metadata": {},
   "outputs": [
    {
     "data": {
      "text/plain": [
       "0     50\n",
       "1     51\n",
       "2     52\n",
       "3     53\n",
       "4     54\n",
       "5     55\n",
       "6     56\n",
       "7     57\n",
       "8     58\n",
       "9     59\n",
       "10    60\n",
       "11    61\n",
       "12    62\n",
       "13    63\n",
       "14    64\n",
       "15    65\n",
       "16    66\n",
       "17    67\n",
       "18    68\n",
       "19    69\n",
       "dtype: int64"
      ]
     },
     "execution_count": 19,
     "metadata": {},
     "output_type": "execute_result"
    }
   ],
   "source": [
    "import numpy as np\n",
    "import pandas as pd\n",
    "\n",
    "s1 = pd.Series(np.arange(50,70))\n",
    "s1"
   ]
  },
  {
   "cell_type": "code",
   "execution_count": 20,
   "id": "06aba476",
   "metadata": {},
   "outputs": [
    {
     "data": {
      "text/plain": [
       "10    60\n",
       "11    61\n",
       "12    62\n",
       "13    63\n",
       "14    64\n",
       "15    65\n",
       "16    66\n",
       "17    67\n",
       "18    68\n",
       "19    69\n",
       "dtype: int64"
      ]
     },
     "execution_count": 20,
     "metadata": {},
     "output_type": "execute_result"
    }
   ],
   "source": [
    "\n",
    "#透過值的選取\n",
    "#值的搜尋\n",
    "#mask的技巧,要使用比較運算子得到boolean的資料\n",
    "mask = s1 >= 60\n",
    "mask\n",
    "s1[mask]"
   ]
  },
  {
   "cell_type": "code",
   "execution_count": 21,
   "id": "c5f3b9e2",
   "metadata": {},
   "outputs": [
    {
     "data": {
      "text/plain": [
       "0    50\n",
       "1    51\n",
       "2    52\n",
       "3    53\n",
       "4    54\n",
       "5    55\n",
       "6    56\n",
       "7    57\n",
       "8    58\n",
       "9    59\n",
       "dtype: int64"
      ]
     },
     "execution_count": 21,
     "metadata": {},
     "output_type": "execute_result"
    }
   ],
   "source": [
    "\n",
    "s1[s1 < 60]"
   ]
  },
  {
   "cell_type": "code",
   "execution_count": 22,
   "id": "7034d493",
   "metadata": {},
   "outputs": [
    {
     "data": {
      "text/html": [
       "<div>\n",
       "<style scoped>\n",
       "    .dataframe tbody tr th:only-of-type {\n",
       "        vertical-align: middle;\n",
       "    }\n",
       "\n",
       "    .dataframe tbody tr th {\n",
       "        vertical-align: top;\n",
       "    }\n",
       "\n",
       "    .dataframe thead th {\n",
       "        text-align: right;\n",
       "    }\n",
       "</style>\n",
       "<table border=\"1\" class=\"dataframe\">\n",
       "  <thead>\n",
       "    <tr style=\"text-align: right;\">\n",
       "      <th></th>\n",
       "      <th>國文</th>\n",
       "      <th>英文</th>\n",
       "      <th>數學</th>\n",
       "      <th>地理</th>\n",
       "      <th>歷史</th>\n",
       "    </tr>\n",
       "  </thead>\n",
       "  <tbody>\n",
       "    <tr>\n",
       "      <th>學生1</th>\n",
       "      <td>67</td>\n",
       "      <td>65</td>\n",
       "      <td>61</td>\n",
       "      <td>51</td>\n",
       "      <td>55</td>\n",
       "    </tr>\n",
       "    <tr>\n",
       "      <th>學生2</th>\n",
       "      <td>75</td>\n",
       "      <td>95</td>\n",
       "      <td>100</td>\n",
       "      <td>91</td>\n",
       "      <td>69</td>\n",
       "    </tr>\n",
       "    <tr>\n",
       "      <th>學生3</th>\n",
       "      <td>85</td>\n",
       "      <td>95</td>\n",
       "      <td>50</td>\n",
       "      <td>73</td>\n",
       "      <td>92</td>\n",
       "    </tr>\n",
       "    <tr>\n",
       "      <th>學生4</th>\n",
       "      <td>76</td>\n",
       "      <td>79</td>\n",
       "      <td>57</td>\n",
       "      <td>82</td>\n",
       "      <td>88</td>\n",
       "    </tr>\n",
       "    <tr>\n",
       "      <th>學生5</th>\n",
       "      <td>58</td>\n",
       "      <td>67</td>\n",
       "      <td>91</td>\n",
       "      <td>78</td>\n",
       "      <td>64</td>\n",
       "    </tr>\n",
       "  </tbody>\n",
       "</table>\n",
       "</div>"
      ],
      "text/plain": [
       "     國文  英文   數學  地理  歷史\n",
       "學生1  67  65   61  51  55\n",
       "學生2  75  95  100  91  69\n",
       "學生3  85  95   50  73  92\n",
       "學生4  76  79   57  82  88\n",
       "學生5  58  67   91  78  64"
      ]
     },
     "execution_count": 22,
     "metadata": {},
     "output_type": "execute_result"
    }
   ],
   "source": [
    "#dataframe的建立\n",
    "data = np.random.randint(50, 101,size=(5,5)) #隨機產生50~100的整數\n",
    "# 5x5的矩陣\n",
    "# 這裡的數字可以隨意調整\n",
    "# 例如：data = np.random.randint(50, 101,size=(3,4)) #3x4的矩陣\n",
    "df = pd.DataFrame(data,\n",
    "            index=[\"學生1\",\"學生2\",\"學生3\",\"學生4\",\"學生5\"],\n",
    "            columns=[\"國文\",\"英文\",\"數學\",\"地理\",\"歷史\"])\n",
    "df"
   ]
  },
  {
   "cell_type": "code",
   "execution_count": 23,
   "id": "23cd19e4",
   "metadata": {},
   "outputs": [
    {
     "data": {
      "text/html": [
       "<div>\n",
       "<style scoped>\n",
       "    .dataframe tbody tr th:only-of-type {\n",
       "        vertical-align: middle;\n",
       "    }\n",
       "\n",
       "    .dataframe tbody tr th {\n",
       "        vertical-align: top;\n",
       "    }\n",
       "\n",
       "    .dataframe thead th {\n",
       "        text-align: right;\n",
       "    }\n",
       "</style>\n",
       "<table border=\"1\" class=\"dataframe\">\n",
       "  <thead>\n",
       "    <tr style=\"text-align: right;\">\n",
       "      <th></th>\n",
       "      <th>國文</th>\n",
       "      <th>英文</th>\n",
       "      <th>數學</th>\n",
       "      <th>地理</th>\n",
       "      <th>歷史</th>\n",
       "    </tr>\n",
       "  </thead>\n",
       "  <tbody>\n",
       "    <tr>\n",
       "      <th>學生2</th>\n",
       "      <td>75</td>\n",
       "      <td>95</td>\n",
       "      <td>100</td>\n",
       "      <td>91</td>\n",
       "      <td>69</td>\n",
       "    </tr>\n",
       "    <tr>\n",
       "      <th>學生3</th>\n",
       "      <td>85</td>\n",
       "      <td>95</td>\n",
       "      <td>50</td>\n",
       "      <td>73</td>\n",
       "      <td>92</td>\n",
       "    </tr>\n",
       "    <tr>\n",
       "      <th>學生4</th>\n",
       "      <td>76</td>\n",
       "      <td>79</td>\n",
       "      <td>57</td>\n",
       "      <td>82</td>\n",
       "      <td>88</td>\n",
       "    </tr>\n",
       "    <tr>\n",
       "      <th>學生5</th>\n",
       "      <td>58</td>\n",
       "      <td>67</td>\n",
       "      <td>91</td>\n",
       "      <td>78</td>\n",
       "      <td>64</td>\n",
       "    </tr>\n",
       "  </tbody>\n",
       "</table>\n",
       "</div>"
      ],
      "text/plain": [
       "     國文  英文   數學  地理  歷史\n",
       "學生2  75  95  100  91  69\n",
       "學生3  85  95   50  73  92\n",
       "學生4  76  79   57  82  88\n",
       "學生5  58  67   91  78  64"
      ]
     },
     "execution_count": 23,
     "metadata": {},
     "output_type": "execute_result"
    }
   ],
   "source": [
    "df[df['歷史']>=60]  # 這裡的60是隨意設定的閾值，可以根據需要調整"
   ]
  },
  {
   "cell_type": "code",
   "execution_count": 24,
   "id": "4ad546aa",
   "metadata": {},
   "outputs": [
    {
     "data": {
      "text/html": [
       "<div>\n",
       "<style scoped>\n",
       "    .dataframe tbody tr th:only-of-type {\n",
       "        vertical-align: middle;\n",
       "    }\n",
       "\n",
       "    .dataframe tbody tr th {\n",
       "        vertical-align: top;\n",
       "    }\n",
       "\n",
       "    .dataframe thead th {\n",
       "        text-align: right;\n",
       "    }\n",
       "</style>\n",
       "<table border=\"1\" class=\"dataframe\">\n",
       "  <thead>\n",
       "    <tr style=\"text-align: right;\">\n",
       "      <th></th>\n",
       "      <th>國文</th>\n",
       "      <th>英文</th>\n",
       "      <th>數學</th>\n",
       "      <th>地理</th>\n",
       "      <th>歷史</th>\n",
       "    </tr>\n",
       "  </thead>\n",
       "  <tbody>\n",
       "    <tr>\n",
       "      <th>學生2</th>\n",
       "      <td>75</td>\n",
       "      <td>95</td>\n",
       "      <td>100</td>\n",
       "      <td>91</td>\n",
       "      <td>69</td>\n",
       "    </tr>\n",
       "    <tr>\n",
       "      <th>學生5</th>\n",
       "      <td>58</td>\n",
       "      <td>67</td>\n",
       "      <td>91</td>\n",
       "      <td>78</td>\n",
       "      <td>64</td>\n",
       "    </tr>\n",
       "  </tbody>\n",
       "</table>\n",
       "</div>"
      ],
      "text/plain": [
       "     國文  英文   數學  地理  歷史\n",
       "學生2  75  95  100  91  69\n",
       "學生5  58  67   91  78  64"
      ]
     },
     "execution_count": 24,
     "metadata": {},
     "output_type": "execute_result"
    }
   ],
   "source": [
    "#選取歷史>=60同時數學>=60\n",
    "#位元邏輯運算子\n",
    "df[(df['歷史'] >= 60) & (df['數學'] >= 60)]"
   ]
  }
 ],
 "metadata": {
  "kernelspec": {
   "display_name": "base",
   "language": "python",
   "name": "python3"
  },
  "language_info": {
   "codemirror_mode": {
    "name": "ipython",
    "version": 3
   },
   "file_extension": ".py",
   "mimetype": "text/x-python",
   "name": "python",
   "nbconvert_exporter": "python",
   "pygments_lexer": "ipython3",
   "version": "3.13.2"
  }
 },
 "nbformat": 4,
 "nbformat_minor": 5
}
