{
 "cells": [
  {
   "cell_type": "code",
   "execution_count": 2,
   "id": "53bedf21",
   "metadata": {},
   "outputs": [
    {
     "name": "stdout",
     "output_type": "stream",
     "text": [
      "  1.郭舜昇\n",
      "  2.簡國瑋\n",
      "  3.王怡君\n"
     ]
    }
   ],
   "source": [
    "#別人的\n",
    "import random\n",
    "\n",
    "file = open(\"names.txt\",encoding='utf-8')\n",
    "contents:list[str] = file.readlines()\n",
    "file.close()\n",
    "names:list[str] = [name.strip() for name in contents]\n",
    "pick = int(input(\"請輸入所需要的姓名數量:\"))\n",
    "\n",
    "for i in range(0, pick):\n",
    "    index = random.randint(0, len(names))\n",
    "    print(f\"{i+1:3d}.{names[index]}\")\n",
    "\n",
    "file.close()"
   ]
  },
  {
   "cell_type": "code",
   "execution_count": 3,
   "id": "2408f7e0",
   "metadata": {},
   "outputs": [
    {
     "name": "stdout",
     "output_type": "stream",
     "text": [
      "1.羅佩樺\n",
      "2.李進慧\n",
      "3.余宗儒\n"
     ]
    }
   ],
   "source": [
    "import random\n",
    "\n",
    "file = open(\"names.txt\",encoding='utf-8')\n",
    "contents:list[str] = file.readlines()\n",
    "file.close()\n",
    "names:list[str] = [name.strip() for name in contents]\n",
    "pick = int(input(\"請輸入所需要的姓名數量:\"))\n",
    "\n",
    "for idx, name in enumerate(random.sample(names, pick)):\n",
    "    print(f'{idx+1}.{name}') #idx預設是0"
   ]
  },
  {
   "cell_type": "code",
   "execution_count": 4,
   "id": "cc68ee3a",
   "metadata": {},
   "outputs": [
    {
     "data": {
      "text/plain": [
       "[{'姓名': '趙偉銘', '國文': 71, '英文': 61, '數學': 73},\n",
       " {'姓名': '林詠斌', '國文': 61, '英文': 68, '數學': 59},\n",
       " {'姓名': '周芷蓁', '國文': 92, '英文': 99, '數學': 77}]"
      ]
     },
     "execution_count": 4,
     "metadata": {},
     "output_type": "execute_result"
    }
   ],
   "source": [
    "#建立資料結構-表格在記憶體\n",
    "#[{}] list 包dict\n",
    "#https://www.perplexity.ai/search/25cc8901-662e-4b9d-826d-d25eac299855\n",
    "\n",
    "import random\n",
    "\n",
    "file = open(\"names.txt\",encoding='utf-8')\n",
    "contents:list[str] = file.readlines()\n",
    "file.close()\n",
    "names:list[str] = [name.strip() for name in contents]\n",
    "pick = int(input(\"請輸入所需要的姓名數量:\"))\n",
    "\n",
    "selected_names = random.sample(names, pick)\n",
    "students_data:list[dict] = [ #list是多筆資料\n",
    "    { #dict 是一筆相關聯資料\n",
    "        '姓名':name,\n",
    "        '國文':random.randint(50,100),\n",
    "        '英文':random.randint(50,100),\n",
    "        '數學':random.randint(50, 100) \n",
    "    }\n",
    "    for name in selected_names]\n",
    "students_data #印出三行\n",
    "\n",
    "#print(students_data)#印出一行"
   ]
  },
  {
   "cell_type": "code",
   "execution_count": 5,
   "id": "51d58761",
   "metadata": {},
   "outputs": [
    {
     "ename": "ValueError",
     "evalue": "invalid literal for int() with base 10: ''",
     "output_type": "error",
     "traceback": [
      "\u001b[31m---------------------------------------------------------------------------\u001b[39m",
      "\u001b[31mValueError\u001b[39m                                Traceback (most recent call last)",
      "\u001b[36mCell\u001b[39m\u001b[36m \u001b[39m\u001b[32mIn[5]\u001b[39m\u001b[32m, line 17\u001b[39m\n\u001b[32m     14\u001b[39m     contents:\u001b[38;5;28mlist\u001b[39m[\u001b[38;5;28mstr\u001b[39m] = file.readlines()\n\u001b[32m     16\u001b[39m names:\u001b[38;5;28mlist\u001b[39m[\u001b[38;5;28mstr\u001b[39m] = [name.strip() \u001b[38;5;28;01mfor\u001b[39;00m name \u001b[38;5;129;01min\u001b[39;00m contents]\n\u001b[32m---> \u001b[39m\u001b[32m17\u001b[39m pick = \u001b[38;5;28;43mint\u001b[39;49m\u001b[43m(\u001b[49m\u001b[38;5;28;43minput\u001b[39;49m\u001b[43m(\u001b[49m\u001b[33;43m\"\u001b[39;49m\u001b[33;43m請輸入所需要的姓名數量:\u001b[39;49m\u001b[33;43m\"\u001b[39;49m\u001b[43m)\u001b[49m\u001b[43m)\u001b[49m\n\u001b[32m     19\u001b[39m selected_names = random.sample(names, pick)\n\u001b[32m     20\u001b[39m students_data:\u001b[38;5;28mlist\u001b[39m[\u001b[38;5;28mdict\u001b[39m] = [\n\u001b[32m     21\u001b[39m     {\n\u001b[32m     22\u001b[39m         \u001b[33m'\u001b[39m\u001b[33m姓名\u001b[39m\u001b[33m'\u001b[39m:name,\n\u001b[32m   (...)\u001b[39m\u001b[32m     26\u001b[39m     }\n\u001b[32m     27\u001b[39m     \u001b[38;5;28;01mfor\u001b[39;00m name \u001b[38;5;129;01min\u001b[39;00m selected_names]\n",
      "\u001b[31mValueError\u001b[39m: invalid literal for int() with base 10: ''"
     ]
    }
   ],
   "source": [
    "# https://www.perplexity.ai/search/8a22aac5-dc37-4bbb-bb81-9edfdd6f0e53\n",
    "\n",
    "\n",
    "# with ... as 不用close file\n",
    "#更精簡的寫法\n",
    "'''\n",
    "with...as 是 Python 中用來管理資源的一種語法結構，主要用途是確保程式在使用完資源（如檔案、網路連線、資料庫連接等）後，\n",
    "能自動且正確地釋放該資源，即使程式執行過程中發生錯誤也能保證資源被清理。\n",
    "'''\n",
    "\n",
    "import random\n",
    "\n",
    "with open(\"names.txt\",encoding='utf-8') as file:\n",
    "    contents:list[str] = file.readlines()\n",
    "\n",
    "names:list[str] = [name.strip() for name in contents]\n",
    "pick = int(input(\"請輸入所需要的姓名數量:\"))\n",
    "\n",
    "selected_names = random.sample(names, pick)\n",
    "students_data:list[dict] = [\n",
    "    {\n",
    "        '姓名':name,\n",
    "        '國文':random.randint(50,100),\n",
    "        '英文':random.randint(50,100),\n",
    "        '數學':random.randint(50, 100) \n",
    "    }\n",
    "    for name in selected_names]\n",
    "students_data"
   ]
  },
  {
   "cell_type": "code",
   "execution_count": null,
   "id": "3a311128",
   "metadata": {},
   "outputs": [
    {
     "name": "stdout",
     "output_type": "stream",
     "text": [
      "dict_keys(['姓名', '國文', '英文', '數學'])\n"
     ]
    }
   ],
   "source": [
    "# 指定欄位名稱（欄位順序）\n",
    "\n",
    "fieldnames = students_data[0].keys()\n",
    "print(fieldnames)"
   ]
  },
  {
   "cell_type": "code",
   "execution_count": 8,
   "id": "40b969ad",
   "metadata": {},
   "outputs": [
    {
     "name": "stdout",
     "output_type": "stream",
     "text": [
      "寫入成功\n"
     ]
    }
   ],
   "source": [
    "# 指定欄位名稱（欄位順序）\n",
    "import csv\n",
    "\n",
    "filednames = students_data[0].keys()\n",
    "\n",
    "with open('students.csv','w',newline='',encoding='utf-8') as csvfile:\n",
    "    writer = csv.DictWriter(csvfile,fieldnames=filednames)\n",
    "    # 寫入欄位標題\n",
    "    writer.writeheader()\n",
    "    \n",
    "    # 寫入多筆資料\n",
    "    writer.writerows(students_data)\n",
    "print(\"寫入成功\")"
   ]
  }
 ],
 "metadata": {
  "kernelspec": {
   "display_name": "base",
   "language": "python",
   "name": "python3"
  },
  "language_info": {
   "codemirror_mode": {
    "name": "ipython",
    "version": 3
   },
   "file_extension": ".py",
   "mimetype": "text/x-python",
   "name": "python",
   "nbconvert_exporter": "python",
   "pygments_lexer": "ipython3",
   "version": "3.12.9"
  }
 },
 "nbformat": 4,
 "nbformat_minor": 5
}
