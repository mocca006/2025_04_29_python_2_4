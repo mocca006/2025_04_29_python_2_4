{
 "cells": [
  {
   "cell_type": "markdown",
   "id": "30d54ec3",
   "metadata": {},
   "source": [
    "讀取csv檔\n",
    "[說明文件](https://www.perplexity.ai/search/8a22aac5-dc37-4bbb-bb81-9edfdd6f0e53)"
   ]
  },
  {
   "cell_type": "code",
   "execution_count": null,
   "id": "07a6a67c",
   "metadata": {},
   "outputs": [],
   "source": [
    "import csv\n",
    "\n",
    "with open('students.csv',encoding='utf-8',newline='') as csvfile:\n",
    "    reader = csv.DictReader(csvfile)\n",
    "    content:list[dict] = [row for row in reader]\n",
    "\n",
    "content"
   ]
  },
  {
   "cell_type": "code",
   "execution_count": null,
   "id": "151b628f",
   "metadata": {},
   "outputs": [],
   "source": [
    "import csv\n",
    "\n",
    "with open('students.csv',encoding='utf-8',newline='') as csvfile:\n",
    "    reader = csv.DictReader(csvfile)\n",
    "    content:list[dict] = [row for row in reader]\n",
    "\n",
    "content\n",
    "\n",
    "# 假設有一個學生資料的 list，每個元素是 dict，包含國文成績\n",
    "\n",
    "\n",
    "# 篩選出國文不及格（<60）的學生\n",
    "\n",
    "fail_chinese = [item for item in content if int(item['國文']) < 60]\n",
    "#fail_chinese = [item for item in content if int(item['國文']) < 60 or int(item['英文']) < 60 or int(item['數學']) < 60]\n",
    "fail_chinese\n",
    "\n"
   ]
  },
  {
   "cell_type": "code",
   "execution_count": null,
   "id": "07c40187",
   "metadata": {},
   "outputs": [],
   "source": [
    "'''\n",
    "requests 是一個非常流行的 Python 套件，用於發送 HTTP 請求。它的設計目的是使 HTTP 請求變得簡單易用。\n",
    "\n",
    "在終端機安裝\n",
    "pip install requests\n",
    "\n",
    "'''\n",
    "\n",
    "import requests\n",
    "\n"
   ]
  }
 ],
 "metadata": {
  "kernelspec": {
   "display_name": "base",
   "language": "python",
   "name": "python3"
  },
  "language_info": {
   "codemirror_mode": {
    "name": "ipython",
    "version": 3
   },
   "file_extension": ".py",
   "mimetype": "text/x-python",
   "name": "python",
   "nbconvert_exporter": "python",
   "pygments_lexer": "ipython3",
   "version": "3.12.9"
  }
 },
 "nbformat": 4,
 "nbformat_minor": 5
}
