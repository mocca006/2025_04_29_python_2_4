{
 "cells": [
  {
   "cell_type": "code",
   "execution_count": 2,
   "id": "fcb65a9b",
   "metadata": {},
   "outputs": [
    {
     "name": "stdout",
     "output_type": "stream",
     "text": [
      "100\n",
      "test\n",
      "(100, 'test')\n"
     ]
    }
   ],
   "source": [
    "#變數可以儲存各種資料\n",
    "a=100\n",
    "print(a)\n",
    "\n",
    "#b=\"100\"\n",
    "b=\"test\"\n",
    "print(b)\n",
    "\n",
    "c=100,\"test\"\n",
    "print(c)"
   ]
  },
  {
   "cell_type": "code",
   "execution_count": 10,
   "id": "5e1ae87c",
   "metadata": {},
   "outputs": [
    {
     "name": "stdout",
     "output_type": "stream",
     "text": [
      "<class 'int'>\n",
      "<class 'str'>\n",
      "<class 'str'>\n",
      "<class 'float'>\n",
      "<class 'tuple'>\n",
      "<class 'tuple'>\n",
      "test\n"
     ]
    }
   ],
   "source": [
    "a=100\n",
    "print(a.__class__) # .__class__ 秀出資料的類型\n",
    "\n",
    "b=\"test\"\n",
    "print(type(b)) #檢視資料的類型\n",
    "\n",
    "c=\"100\"\n",
    "print(type(c))\n",
    "\n",
    "d=12.4\n",
    "print(type(d))\n",
    "\n",
    "e=100,\"test\"\n",
    "print(type(e))\n",
    "print(e.__class__)\n",
    "\n",
    "x=50\n",
    "x=\"test\"\n",
    "print(x)"
   ]
  }
 ],
 "metadata": {
  "kernelspec": {
   "display_name": "base",
   "language": "python",
   "name": "python3"
  },
  "language_info": {
   "codemirror_mode": {
    "name": "ipython",
    "version": 3
   },
   "file_extension": ".py",
   "mimetype": "text/x-python",
   "name": "python",
   "nbconvert_exporter": "python",
   "pygments_lexer": "ipython3",
   "version": "3.12.9"
  }
 },
 "nbformat": 4,
 "nbformat_minor": 5
}
