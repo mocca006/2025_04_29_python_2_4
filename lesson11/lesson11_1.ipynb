{
 "cells": [
  {
   "cell_type": "code",
   "execution_count": null,
   "id": "7de3f2a3",
   "metadata": {},
   "outputs": [],
   "source": [
    "# requirements.txt 說明安裝的外部module\n",
    "\n",
    "# pip list 檢查安裝的外部module\n",
    "# pip show requests 顯示單一module資訊\n",
    "\n",
    "import requests\n",
    "\n"
   ]
  },
  {
   "cell_type": "code",
   "execution_count": 2,
   "id": "a6206a8c",
   "metadata": {},
   "outputs": [
    {
     "name": "stdout",
     "output_type": "stream",
     "text": [
      "下載成功\n"
     ]
    }
   ],
   "source": [
    "import requests\n",
    "from requests import Response\n",
    "\n",
    "\n",
    "url:str = 'https://raw.githubusercontent.com/roberthsu2003/__2025_04_29_python_2_4/refs/heads/main/lesson10/students.csv'\n",
    "\n",
    "# 1. 發送 GET 請求並取得網頁內容\n",
    "response:Response = requests.get(url)\n",
    "\n",
    "## 印出狀態碼，200 表示成功\n",
    "if response.status_code == 200:\n",
    "    print(\"下載成功\")\n",
    "    content:str = response.text"
   ]
  },
  {
   "cell_type": "code",
   "execution_count": null,
   "id": "d69d320c",
   "metadata": {},
   "outputs": [],
   "source": [
    "print(content)"
   ]
  }
 ],
 "metadata": {
  "kernelspec": {
   "display_name": "base",
   "language": "python",
   "name": "python3"
  },
  "language_info": {
   "codemirror_mode": {
    "name": "ipython",
    "version": 3
   },
   "file_extension": ".py",
   "mimetype": "text/x-python",
   "name": "python",
   "nbconvert_exporter": "python",
   "pygments_lexer": "ipython3",
   "version": "3.12.9"
  }
 },
 "nbformat": 4,
 "nbformat_minor": 5
}
