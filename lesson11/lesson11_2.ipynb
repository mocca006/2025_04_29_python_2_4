{
 "cells": [
  {
   "cell_type": "code",
   "execution_count": null,
   "id": "2dd1338b",
   "metadata": {},
   "outputs": [
    {
     "name": "stdout",
     "output_type": "stream",
     "text": [
      "下載成功\n"
     ]
    },
    {
     "data": {
      "text/plain": [
       "'年份,太陽光電(百萬度),風力發電(百萬度),慣常水力發電(百萬度),生質能發電(百萬度),地熱發電(百萬度),廢棄物(百萬度),合計(百萬度)\\r\\n98年,9.1,786.6,3748.3,229.3,-,3036.1,7809.5\\r\\n99年,21.7,1026.3,4194.1,270,-,3127.6,8639.8\\r\\n100年,61.6,1492.7,3999.7,236.1,-,3196.9,8987.1\\r\\n101年,159.9,1413.5,5669.6,241.5,-,3177.7,10662.1\\r\\n102年,321.1,1640,5422.9,225.6,-,3245.7,10855.2\\r\\n103年,528.8,1500.5,4317.9,249.8,-,3325.5,9922.4\\r\\n104年,850.3,1525.2,4470.1,246.2,-,3384.2,10476\\r\\n105年,1109,1457.1,6562,205.4,-,3396.6,12730.1\\r\\n106年,1667.5,1722.5,5446.8,187.7,-,3341,12365.4\\r\\n107年,2703.7,1709.5,4481.6,185.3,-,3566.6,12646.6\\r\\n108年,4015.9,1892.2,5544.8,169.8,0.8,3634.9,15258.4\\r\\n109年,6074.7,2308.9,3019.2,204.7,1.9,3569.7,15179.1\\r\\n110年,7970.2,2257.5,3474.7,195.8,9.1,3604.5,17511.7\\r\\n111年,10677,3543.1,5836.5,158.2,25,3605.1,23844.9\\r\\n'"
      ]
     },
     "execution_count": 1,
     "metadata": {},
     "output_type": "execute_result"
    }
   ],
   "source": [
    "\n",
    "import requests\n",
    "from requests import Response\n",
    "\n",
    "url:str = 'https://www.moeaea.gov.tw/ECW/populace/opendata/wHandOpenData_File.ashx?set_id=252'\n",
    "\n",
    "#加一段dictionary,簡寫dict{} 內容是網頁瀏覽器去存取網頁資料\n",
    "\n",
    "headers = {\n",
    "    'User-Agent': 'Mozilla/5.0 (Macintosh; Intel Mac OS X 10_15_7) AppleWebKit/537.36 (KHTML, like Gecko) Chrome/137.0.0.0 Safari/537.36'\n",
    "}\n",
    "\n",
    "response:Response = requests.get(url,headers=headers)\n",
    "if response.status_code == 200:\n",
    "    print(\"下載成功\")\n",
    "    content:str = response.text\n",
    "content"
   ]
  }
 ],
 "metadata": {
  "kernelspec": {
   "display_name": "base",
   "language": "python",
   "name": "python3"
  },
  "language_info": {
   "codemirror_mode": {
    "name": "ipython",
    "version": 3
   },
   "file_extension": ".py",
   "mimetype": "text/x-python",
   "name": "python",
   "nbconvert_exporter": "python",
   "pygments_lexer": "ipython3",
   "version": "3.12.9"
  }
 },
 "nbformat": 4,
 "nbformat_minor": 5
}
