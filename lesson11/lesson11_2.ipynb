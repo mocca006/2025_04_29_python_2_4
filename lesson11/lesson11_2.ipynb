{
 "cells": [
  {
   "cell_type": "code",
   "execution_count": null,
   "id": "2dd1338b",
   "metadata": {},
   "outputs": [],
   "source": [
    "\n",
    "import requests\n",
    "from requests import Response\n",
    "\n",
    "url:str = 'https://www.moeaea.gov.tw/ECW/populace/opendata/wHandOpenData_File.ashx?set_id=252'\n",
    "\n",
    "#加一段dictionary,簡寫dict{} 標示是網頁瀏覽器去存取網頁資料\n",
    "\n",
    "headers = {\n",
    "    'User-Agent': 'Mozilla/5.0 (Macintosh; Intel Mac OS X 10_15_7) AppleWebKit/537.36 (KHTML, like Gecko) Chrome/137.0.0.0 Safari/537.36'\n",
    "}\n",
    "\n",
    "response:Response = requests.get(url,headers=headers)\n",
    "if response.status_code == 200:\n",
    "    print(\"下載成功\")\n",
    "    content:str = response.text\n",
    "content"
   ]
  },
  {
   "cell_type": "code",
   "execution_count": null,
   "id": "3dda0579",
   "metadata": {},
   "outputs": [],
   "source": [
    "# https://www.perplexity.ai/search/4b92f47b-e339-4968-a499-be2393ae9374\n",
    "\n",
    "\n",
    "import requests\n",
    "from requests import Response\n",
    "from requests import HTTPError,ConnectionError,Timeout,RequestException\n",
    "\n",
    "url:str = 'https://www.moeaea.gov.tw/ECW/populace/opendata/wHandOpenData_File.ashx?set_id=252'\n",
    "headers = {\n",
    "    'User-Agent': 'Mozilla/5.0 (Macintosh; Intel Mac OS X 10_15_7) AppleWebKit/537.36 (KHTML, like Gecko) Chrome/137.0.0.0 Safari/537.36'\n",
    "}\n",
    "\n",
    "try:\n",
    "    response:Response = requests.get(url,headers=headers)\n",
    "    response.raise_for_status() #錯誤狀態種類\n",
    "except HTTPError:\n",
    "    print(f\"警告：伺服器回應狀態碼為 {response.status_code}，請求未成功！\")\n",
    "except ConnectionError:\n",
    "    print(\"網路連線異常，請檢查網路設定。\")\n",
    "except Timeout:\n",
    "    print(\"請求逾時，請稍後再試。\")\n",
    "except RequestException as e:\n",
    "    print(f\"請求發生錯誤：{e}\")\n",
    "except Exception:\n",
    "    print(\"不知名的錯誤\")\n",
    "else:\n",
    "    print(\"下載成功\")\n",
    "    content:str = response.text"
   ]
  },
  {
   "cell_type": "code",
   "execution_count": null,
   "id": "3c0e60ab",
   "metadata": {},
   "outputs": [],
   "source": [
    "import io\n",
    "from io import StringIO\n",
    "import csv\n",
    "\n",
    "file:StringIO = io.StringIO(content)\n",
    "reader = csv.DictReader(file)\n",
    "power = [row for row in reader]\n",
    "file.close()\n",
    "power"
   ]
  }
 ],
 "metadata": {
  "kernelspec": {
   "display_name": "base",
   "language": "python",
   "name": "python3"
  },
  "language_info": {
   "codemirror_mode": {
    "name": "ipython",
    "version": 3
   },
   "file_extension": ".py",
   "mimetype": "text/x-python",
   "name": "python",
   "nbconvert_exporter": "python",
   "pygments_lexer": "ipython3",
   "version": "3.12.9"
  }
 },
 "nbformat": 4,
 "nbformat_minor": 5
}
