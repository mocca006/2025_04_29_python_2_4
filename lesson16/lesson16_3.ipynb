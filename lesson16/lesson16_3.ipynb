{
 "cells": [
  {
   "cell_type": "markdown",
   "id": "8d582575",
   "metadata": {},
   "source": [
    "https://www.perplexity.ai/search/9037605f-7d32-4bed-887a-66ffe09265ab"
   ]
  },
  {
   "cell_type": "code",
   "execution_count": null,
   "id": "f778249a",
   "metadata": {},
   "outputs": [],
   "source": [
    "import numpy as np\n",
    "import pandas as pd\n",
    "#建立50位學生5個分數,每個分數的值是50~100之間的隨機整數\n",
    "scores = np.random.randint(50,101,size=(50, 5))\n",
    "score_pd = pd.DataFrame(scores,\n",
    "             columns=['國文', '英文', '數學', '地理', '歷史'],\n",
    "             index=[f'學生{index}' for index in range(1,51)])\n",
    "type(score_pd.index)\n",
    "score_pd.columns.name = '科目'\n",
    "score_pd.index.name = '學號'\n",
    "score_pd.to_excel('3年5班.xlsx',index=True) #將資料寫入Excel檔案"
   ]
  },
  {
   "cell_type": "code",
   "execution_count": null,
   "id": "ded527d6",
   "metadata": {},
   "outputs": [],
   "source": [
    "import os\n",
    "import pandas as pd\n",
    "\n",
    "def rank(filepath:str):\n",
    "    df = pd.read_excel(filepath,index_col='學號')\n",
    "    display(df) #顯示原始資料\n",
    "\n",
    "script_path = os.path.realpath(__name__) #  獲取腳本的完整路徑\n",
    "print(script_path) #顯示腳本的完整路徑\n",
    "script_root = os.path.dirname(script_path) # 獲取腳本所在的目錄\n",
    "print(script_root) #顯示腳本所在的目錄\n",
    "excel_folder = os.path.join(script_root,\"excel\") # 獲取excel資料夾的路徑\n",
    "print(excel_folder) #顯示excel資料夾的路徑\n",
    "if not os.path.exists(excel_folder):\n",
    "    os.makedirs(excel_folder)  # 如果資料夾不存在，則創建它\n",
    "# 將生成的DataFrame寫入Excel檔案\n",
    "score_pd.to_excel(os.path.join(excel_folder, '3年5班.xlsx'), index=True)\n",
    "\n",
    "for excel_name in os.listdir(excel_folder):\n",
    "    excel_path = os.path.join(excel_folder,excel_name)\n",
    "    rank(excel_path)"
   ]
  },
  {
   "cell_type": "code",
   "execution_count": null,
   "id": "39d264ff",
   "metadata": {},
   "outputs": [],
   "source": [
    "import os\n",
    "script_path = os.path.realpath(__name__)\n",
    "script_root = os.path.dirname(script_path)\n",
    "excel_folder = os.path.join(script_root,\"excel\")\n",
    "for excel_name in os.listdir(excel_folder):\n",
    "    print(excel_name)"
   ]
  },
  {
   "cell_type": "code",
   "execution_count": null,
   "id": "479006e9",
   "metadata": {},
   "outputs": [],
   "source": [
    "\n",
    "import os\n",
    "import pandas as pd\n",
    "\n",
    "def rank(filepath:str):\n",
    "    df = pd.read_excel(filepath,index_col='學號')\n",
    "    sum_series = np.sum(df, axis=1)\n",
    "    mean_series = df.mean(axis=1)\n",
    "    df['總分'] = sum_series\n",
    "    df['平均'] = mean_series\n",
    "    sorted_pd = df.sort_values(by='總分',ascending=False)\n",
    "    rand_series = sorted_pd['總分'].rank(ascending=False,method='min')\n",
    "    sorted_pd['名次'] = rand_series\n",
    "    script_path = os.path.realpath(__name__)\n",
    "    script_root = os.path.dirname(script_path)\n",
    "    finished_folder = os.path.join(script_root,\"excel_finished\")\n",
    "    filename = os.path.basename(filepath)\n",
    "    save_path = os.path.join(finished_folder, filename)\n",
    "    sorted_pd.to_excel(save_path,sheet_name=filename)\n",
    "    print(f'{filename}存檔完成')\n",
    "    \n",
    "script_path = os.path.realpath(__name__)\n",
    "script_root = os.path.dirname(script_path)\n",
    "excel_folder = os.path.join(script_root,\"excel\")\n",
    "for excel_name in os.listdir(excel_folder):\n",
    "    excel_path = os.path.join(excel_folder,excel_name)\n",
    "    rank(excel_path)"
   ]
  }
 ],
 "metadata": {
  "kernelspec": {
   "display_name": "base",
   "language": "python",
   "name": "python3"
  },
  "language_info": {
   "codemirror_mode": {
    "name": "ipython",
    "version": 3
   },
   "file_extension": ".py",
   "mimetype": "text/x-python",
   "name": "python",
   "nbconvert_exporter": "python",
   "pygments_lexer": "ipython3",
   "version": "3.13.2"
  }
 },
 "nbformat": 4,
 "nbformat_minor": 5
}
