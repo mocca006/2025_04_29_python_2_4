{
 "cells": [
  {
   "cell_type": "markdown",
   "id": "22c4b984",
   "metadata": {},
   "source": [
    "https://www.perplexity.ai/search/8906abee-eea5-4924-8e07-f2f2029af740"
   ]
  },
  {
   "cell_type": "code",
   "execution_count": null,
   "id": "ad1e67f3",
   "metadata": {},
   "outputs": [],
   "source": [
    "\n",
    "import numpy as np\n",
    "import pandas as pd\n",
    "#建立50位學生5個分數,每個分數的值是50~100之間的隨機整數\n",
    "scores = np.random.randint(50,101,size=(50, 5))\n",
    "score_pd = pd.DataFrame(scores,\n",
    "             columns=['國文', '英文', '數學', '地理', '歷史'],\n",
    "             index=[f'學生{index}' for index in range(1,51)])\n",
    "type(score_pd.index)\n",
    "score_pd.columns.name = '科目'\n",
    "score_pd.index.name = '學號'\n",
    "score_pd\n",
    "#將分數轉換為百分制\n",
    "score_pd = score_pd / 100\n"
   ]
  },
  {
   "cell_type": "code",
   "execution_count": null,
   "id": "ac03ba52",
   "metadata": {},
   "outputs": [],
   "source": [
    "\n",
    "import numpy as np\n",
    "import pandas as pd\n",
    "#建立50位學生5個分數,每個分數的值是50~100之間的隨機整數\n",
    "scores = np.random.randint(50,101,size=(50, 5))\n",
    "score_pd = pd.DataFrame(scores,\n",
    "             columns=['國文', '英文', '數學', '地理', '歷史'],\n",
    "             index=[f'學生{index}' for index in range(1,51)])\n",
    "type(score_pd.index)\n",
    "score_pd.columns.name = '科目' #設定columns的名稱\n",
    "score_pd.index.name = '學號' #設定index的名稱\n",
    "sum_series = np.sum(score_pd, axis=1)\n",
    "mean_series = score_pd.mean(axis=1)\n",
    "score_pd['總分'] = sum_series #將總分加入到DataFrame中\n",
    "score_pd['平均'] = mean_series #將平均加入到DataFrame中"
   ]
  },
  {
   "cell_type": "code",
   "execution_count": null,
   "id": "3f1b6d65",
   "metadata": {},
   "outputs": [],
   "source": [
    "\n",
    "score_pd.sort_values(by='總分', ascending=False) #依照總分由高到低排序"
   ]
  },
  {
   "cell_type": "code",
   "execution_count": null,
   "id": "90fd0795",
   "metadata": {},
   "outputs": [],
   "source": [
    "score_pd.sort_values(by='總分', ascending=True) #將總分由小到大排序"
   ]
  },
  {
   "cell_type": "code",
   "execution_count": null,
   "id": "755c616d",
   "metadata": {},
   "outputs": [],
   "source": [
    "sorted_pd = score_pd.sort_values(by='總分',ascending=False)\n",
    "rand_series = sorted_pd['總分'].rank(ascending=False,method='min') #計算名次，ascending=False表示總分高的名次小\n",
    "sorted_pd['名次'] = rand_series #將名次加入到DataFrame中\n",
    "\n",
    "sorted_pd"
   ]
  },
  {
   "cell_type": "code",
   "execution_count": null,
   "id": "e2f26a6f",
   "metadata": {},
   "outputs": [],
   "source": []
  }
 ],
 "metadata": {
  "kernelspec": {
   "display_name": "base",
   "language": "python",
   "name": "python3"
  },
  "language_info": {
   "codemirror_mode": {
    "name": "ipython",
    "version": 3
   },
   "file_extension": ".py",
   "mimetype": "text/x-python",
   "name": "python",
   "nbconvert_exporter": "python",
   "pygments_lexer": "ipython3",
   "version": "3.13.2"
  }
 },
 "nbformat": 4,
 "nbformat_minor": 5
}
