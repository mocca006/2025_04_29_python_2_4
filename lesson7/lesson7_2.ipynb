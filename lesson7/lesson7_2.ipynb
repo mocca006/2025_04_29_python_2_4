{
 "cells": [
  {
   "cell_type": "code",
   "execution_count": 2,
   "id": "22c9b81d",
   "metadata": {},
   "outputs": [
    {
     "name": "stdout",
     "output_type": "stream",
     "text": [
      "1 3 5 a b c結束\n",
      "1-3-5-a-b-c結束\n"
     ]
    }
   ],
   "source": [
    "\n",
    "# print(*objects, sep=' ', end='\\n', file=None, flush=False)\n",
    "# sep =' ' 空一格\n",
    "# end = '\\n' 換行\n",
    "\n",
    "print(1, 3, 5, 'a', 'b', 'c',end='結束\\n') #end='可以自由填寫'\n",
    "\n",
    "print(1, 3, 5, 'a', 'b', 'c',end='結束\\n',sep='-')\n"
   ]
  },
  {
   "cell_type": "code",
   "execution_count": null,
   "id": "15c366e1",
   "metadata": {},
   "outputs": [],
   "source": []
  }
 ],
 "metadata": {
  "kernelspec": {
   "display_name": "base",
   "language": "python",
   "name": "python3"
  },
  "language_info": {
   "codemirror_mode": {
    "name": "ipython",
    "version": 3
   },
   "file_extension": ".py",
   "mimetype": "text/x-python",
   "name": "python",
   "nbconvert_exporter": "python",
   "pygments_lexer": "ipython3",
   "version": "3.12.9"
  }
 },
 "nbformat": 4,
 "nbformat_minor": 5
}
