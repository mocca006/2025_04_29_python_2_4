{
 "cells": [
  {
   "cell_type": "code",
   "execution_count": 4,
   "id": "e029c8e2",
   "metadata": {},
   "outputs": [
    {
     "name": "stdout",
     "output_type": "stream",
     "text": [
      "星期一\n",
      "星期二\n",
      "星期三\n",
      "星期四\n",
      "星期五\n",
      "星期六\n",
      "星期日\n"
     ]
    }
   ],
   "source": [
    "#1個班級,50個學生,1個學生有5個分數\n",
    "\n",
    "\n",
    "#tuple\n",
    "#不可變變數(immutable)\n",
    "#串列資料(Sequence)->有順序的資料\n",
    "#由符號建立(xxx, xxx, xxxx)\n",
    "weekdays:tuple[str] = ('星期一', '星期二', '星期三', '星期四', '星期五', '星期六', '星期日')\n",
    "weekdays\n",
    "\n",
    "#透過索引編號取得元素\n",
    "weekdays[0]\n",
    "weekdays[1]\n",
    "weekdays[6]\n",
    "\n",
    "for day in weekdays:\n",
    "    print(day)\n",
    "\n",
    "    "
   ]
  },
  {
   "cell_type": "code",
   "execution_count": 3,
   "id": "67f06c7f",
   "metadata": {},
   "outputs": [
    {
     "data": {
      "text/plain": [
       "('robert', 35, 345)"
      ]
     },
     "execution_count": 3,
     "metadata": {},
     "output_type": "execute_result"
    }
   ],
   "source": [
    "#將tuple拆解給變數\n",
    "(name, age, scores) = ('robert', 35, 345)\n",
    "name\n",
    "age\n",
    "scores\n",
    "\n",
    "\n",
    "#小括號可以省略\n",
    "name, age, scores = 'robert', 35, 345\n",
    "\n",
    "#快速顯示多個變數\n",
    "name, age, scores\n"
   ]
  }
 ],
 "metadata": {
  "kernelspec": {
   "display_name": "base",
   "language": "python",
   "name": "python3"
  },
  "language_info": {
   "codemirror_mode": {
    "name": "ipython",
    "version": 3
   },
   "file_extension": ".py",
   "mimetype": "text/x-python",
   "name": "python",
   "nbconvert_exporter": "python",
   "pygments_lexer": "ipython3",
   "version": "3.12.9"
  }
 },
 "nbformat": 4,
 "nbformat_minor": 5
}
