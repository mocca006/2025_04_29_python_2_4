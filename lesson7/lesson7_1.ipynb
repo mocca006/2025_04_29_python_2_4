{
 "cells": [
  {
   "cell_type": "code",
   "execution_count": 2,
   "id": "7ca2b67f",
   "metadata": {},
   "outputs": [],
   "source": [
    "def menu(wine, entree, dessert):\n",
    "    print(f\"前酒:{wine}\")\n",
    "    print(f\"主餐:{entree}\")\n",
    "    print(f'甜點:{dessert}')\n",
    "\n",
    "    "
   ]
  },
  {
   "cell_type": "code",
   "execution_count": 1,
   "id": "19ae92dd",
   "metadata": {},
   "outputs": [],
   "source": [
    "# ### 引數名稱的呼叫\n",
    "# - 使用參數的名稱當作引數名稱\n",
    "# - 可以不依照參數的順序\n",
    "\n",
    "def menu(wine, entree, dessert):\n",
    "    print(f\"前酒:{wine}\")\n",
    "    print(f\"主餐:{entree}\")\n",
    "    print(f'甜點:{dessert}')\n"
   ]
  },
  {
   "cell_type": "code",
   "execution_count": 3,
   "id": "47228b7f",
   "metadata": {},
   "outputs": [
    {
     "name": "stdout",
     "output_type": "stream",
     "text": [
      "前酒:白酒\n",
      "主餐:牛排\n",
      "甜點:蛋糕\n"
     ]
    }
   ],
   "source": [
    "menu(wine='白酒',entree='牛排',dessert='蛋糕')"
   ]
  },
  {
   "cell_type": "code",
   "execution_count": null,
   "id": "c00acec9",
   "metadata": {},
   "outputs": [],
   "source": [
    "\n",
    "def menu(wine, entree, dessert):\n",
    "    print(f\"前酒:{wine}\")\n",
    "    print(f\"主餐:{entree}\")\n",
    "    print(f'甜點:{dessert}')\n",
    "\n",
    "\n",
    "#引數值的呼叫\n",
    "menu('白酒', '牛排', '蛋糕')\n",
    "\n",
    "# 引數名稱的呼叫\n",
    "# 使用參數的名稱當作引數名稱\n",
    "# 可以不依照參數的順序\n",
    "\n",
    "menu(wine='白酒',entree='牛排',dessert='蛋糕')"
   ]
  }
 ],
 "metadata": {
  "kernelspec": {
   "display_name": "base",
   "language": "python",
   "name": "python3"
  },
  "language_info": {
   "codemirror_mode": {
    "name": "ipython",
    "version": 3
   },
   "file_extension": ".py",
   "mimetype": "text/x-python",
   "name": "python",
   "nbconvert_exporter": "python",
   "pygments_lexer": "ipython3",
   "version": "3.12.9"
  }
 },
 "nbformat": 4,
 "nbformat_minor": 5
}
