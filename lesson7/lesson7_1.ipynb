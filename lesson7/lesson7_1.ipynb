{
 "cells": [
  {
   "cell_type": "code",
   "execution_count": 2,
   "id": "7ca2b67f",
   "metadata": {},
   "outputs": [],
   "source": [
    "def menu(wine, entree, dessert):\n",
    "    print(f\"前酒:{wine}\")\n",
    "    print(f\"主餐:{entree}\")\n",
    "    print(f'甜點:{dessert}')\n",
    "\n",
    "    "
   ]
  },
  {
   "cell_type": "code",
   "execution_count": 1,
   "id": "19ae92dd",
   "metadata": {},
   "outputs": [],
   "source": [
    "# ### 引數名稱的呼叫\n",
    "# - 使用參數的名稱當作引數名稱\n",
    "# - 可以不依照參數的順序\n",
    "\n",
    "def menu(wine, entree, dessert):\n",
    "    print(f\"前酒:{wine}\")\n",
    "    print(f\"主餐:{entree}\")\n",
    "    print(f'甜點:{dessert}')\n"
   ]
  },
  {
   "cell_type": "code",
   "execution_count": 3,
   "id": "47228b7f",
   "metadata": {},
   "outputs": [
    {
     "name": "stdout",
     "output_type": "stream",
     "text": [
      "前酒:白酒\n",
      "主餐:牛排\n",
      "甜點:蛋糕\n"
     ]
    }
   ],
   "source": [
    "menu(wine='白酒',entree='牛排',dessert='蛋糕')"
   ]
  },
  {
   "cell_type": "code",
   "execution_count": null,
   "id": "c00acec9",
   "metadata": {},
   "outputs": [],
   "source": [
    "# 自訂function\n",
    "def menu(wine, entree, dessert):\n",
    "    print(f\"前酒:{wine}\")\n",
    "    print(f\"主餐:{entree}\")\n",
    "    print(f'甜點:{dessert}')\n",
    "\n",
    "\n",
    "#引數值的呼叫\n",
    "menu('白酒', '牛排', '蛋糕')\n",
    "\n",
    "# 引數名稱的呼叫\n",
    "# 使用參數的名稱當作引數名稱\n",
    "# 可以不依照參數的順序\n",
    "\n",
    "menu(wine='白酒',entree='牛排',dessert='蛋糕')"
   ]
  },
  {
   "cell_type": "code",
   "execution_count": null,
   "id": "b85aba71",
   "metadata": {},
   "outputs": [
    {
     "name": "stdout",
     "output_type": "stream",
     "text": [
      "前酒:紅酒\n",
      "主餐:牛排\n",
      "甜點:奶昔\n",
      "前酒:紅酒\n",
      "主餐:牛排\n",
      "甜點:蛋糕\n"
     ]
    }
   ],
   "source": [
    "\n",
    "\n",
    "def menu(wine, entree, dessert='奶昔'): #預設值一定要在最後面\n",
    "    print(f\"前酒:{wine}\")\n",
    "    print(f\"主餐:{entree}\")\n",
    "    print(f'甜點:{dessert}')\n",
    "\n",
    "menu('紅酒','牛排') #引數值呼叫\n",
    "\n",
    "menu('紅酒','牛排',dessert='蛋糕')"
   ]
  },
  {
   "cell_type": "code",
   "execution_count": null,
   "id": "ab3aab61",
   "metadata": {},
   "outputs": [
    {
     "name": "stdout",
     "output_type": "stream",
     "text": [
      "('a', 'b', 'c', 1, 2, 3, True, False)\n"
     ]
    }
   ],
   "source": [
    "# *參數名稱\n",
    "# 1個*是引數值呼叫\n",
    "\n",
    "#沒有限定數量的引數值的呼叫,也可以0個引數值\n",
    "#大部份有前面\n",
    "#參數名稱可以任意名稱\n",
    "\n",
    "def print_args(*args):\n",
    "    #args is tuple\n",
    "    #tuple是把一組數值包在一起,使用小括號()\n",
    "    print (args)\n",
    "\n",
    "print_args('a', 'b', 'c', 1, 2, 3,True,False)"
   ]
  },
  {
   "cell_type": "code",
   "execution_count": null,
   "id": "53ee43b7",
   "metadata": {},
   "outputs": [
    {
     "name": "stdout",
     "output_type": "stream",
     "text": [
      "{'one': 1, 'two': 2, 'three': 3, 'four': 4, 'five': 5}\n"
     ]
    }
   ],
   "source": [
    "# **參數名稱\n",
    "# 2個**是引數名稱呼叫\n",
    "#大部份放在最後面\n",
    "#沒有限定數量的引數名稱呼叫,沒有限定數量代表可以0個\n",
    "#參數名稱可以任意名稱\n",
    "\n",
    "def print_kwargs(**kwargs):\n",
    "    #kwargs is dictionary\n",
    "    print(kwargs)\n",
    "\n",
    "print_kwargs(one=1,two=2,three=3,four=4,five=5)\n"
   ]
  },
  {
   "cell_type": "code",
   "execution_count": null,
   "id": "c75f0e5e",
   "metadata": {},
   "outputs": [
    {
     "name": "stdout",
     "output_type": "stream",
     "text": [
      "('a', 'b', 1, 2, True, False)\n",
      "{'one': 1, 'two': 2, 'three': 3, 'four': 4}\n"
     ]
    }
   ],
   "source": [
    "# 混合*args **kwargs\n",
    "\n",
    "def print_mixed(*args,**kwargs):\n",
    "    print(args)\n",
    "    print(kwargs)\n",
    "\n",
    "print_mixed('a', 'b', 1, 2, True, False,\n",
    "            one=1,\n",
    "            two=2,\n",
    "            three=3,\n",
    "            four=4) #有逗號可以換行增加可閱讀性"
   ]
  }
 ],
 "metadata": {
  "kernelspec": {
   "display_name": "base",
   "language": "python",
   "name": "python3"
  },
  "language_info": {
   "codemirror_mode": {
    "name": "ipython",
    "version": 3
   },
   "file_extension": ".py",
   "mimetype": "text/x-python",
   "name": "python",
   "nbconvert_exporter": "python",
   "pygments_lexer": "ipython3",
   "version": "3.12.9"
  }
 },
 "nbformat": 4,
 "nbformat_minor": 5
}
