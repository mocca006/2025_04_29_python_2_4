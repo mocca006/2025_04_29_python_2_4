{
 "cells": [
  {
   "cell_type": "markdown",
   "id": "f8ec9c6b",
   "metadata": {},
   "source": [
    "https://www.perplexity.ai/search/82b3cc0b-e583-48fc-9136-5a616ef6a6fc"
   ]
  },
  {
   "cell_type": "code",
   "execution_count": null,
   "id": "d24f08e2",
   "metadata": {},
   "outputs": [],
   "source": [
    "import numpy as np\n",
    "import pandas as pd \n",
    "\n",
    "#美國球賽門票收入\n",
    "tips_df = pd.read_csv('./data/tips.csv')\n",
    "#將欄位名稱轉換為中文\n",
    "tips_df.columns = ['總票價', '小費', '吸煙者', '日期', '時間', '大小']\n",
    "tips_df"
   ]
  },
  {
   "cell_type": "code",
   "execution_count": null,
   "id": "ee4876ce",
   "metadata": {},
   "outputs": [],
   "source": [
    "tips_df.info()"
   ]
  },
  {
   "cell_type": "code",
   "execution_count": null,
   "id": "20d4a07e",
   "metadata": {},
   "outputs": [],
   "source": [
    "tips_df['小費比例'] = tips_df['小費'] / tips_df['總票價']\n",
    "tips_df"
   ]
  },
  {
   "cell_type": "code",
   "execution_count": null,
   "id": "ca29f1a0",
   "metadata": {},
   "outputs": [],
   "source": [
    "grouped = tips_df.groupby(by=['日期','吸煙者'])\n",
    "# 使用agg方法進行多重聚合\n",
    "# 這裡我們計算平均小費、加總小費\n",
    "grouped['小費'].agg([('平均小費','mean'),('加總','sum')])"
   ]
  },
  {
   "cell_type": "code",
   "execution_count": null,
   "id": "05ca3b9a",
   "metadata": {},
   "outputs": [],
   "source": [
    "grouped = tips_df.groupby(by=['日期','吸煙者'])\n",
    "# 使用agg方法進行多重聚合\n",
    "# 這裡我們計算平均小費、加總小費和標準差\n",
    "grouped['小費'].agg([('平均小費','mean'),('加總','sum'),('標準差','std')])"
   ]
  },
  {
   "cell_type": "code",
   "execution_count": null,
   "id": "68509afe",
   "metadata": {},
   "outputs": [],
   "source": [
    "# 自定義函數計算最大值和最小值之間的差\n",
    "# 這個函數將用於聚合操作中\n",
    "def peak_to_peak(arr):\n",
    "    return arr.max() - arr.min()\n",
    "\n",
    "grouped = tips_df.groupby(by=['日期','吸煙者'])\n",
    "grouped['小費'].agg([('平均小費','mean'),('加總','sum'),('標準差','std'),('最多和最少的差',peak_to_peak)])"
   ]
  },
  {
   "cell_type": "code",
   "execution_count": null,
   "id": "a1599b76",
   "metadata": {},
   "outputs": [],
   "source": [
    "# 自定義函數計算最大值和最小值之間的差\n",
    "# 這個函數將用於聚合操作中\n",
    "def peak_to_peak(arr):\n",
    "    return arr.max() - arr.min()\n",
    "\n",
    "grouped = tips_df.groupby(by=['日期','吸煙者'])\n",
    "tips_df2 = grouped['小費'].agg([('平均小費','mean'),('加總','sum'),('標準差','std'),('最多和最少的差',peak_to_peak)])\n",
    "tips_df2.columns.name='統計'\n",
    "tips_df2"
   ]
  },
  {
   "cell_type": "code",
   "execution_count": null,
   "id": "c58551fb",
   "metadata": {},
   "outputs": [],
   "source": [
    "tips_df2.unstack(level='日期')"
   ]
  },
  {
   "cell_type": "code",
   "execution_count": null,
   "id": "11cfdef4",
   "metadata": {},
   "outputs": [],
   "source": [
    "\n",
    "tips_df2.T"
   ]
  },
  {
   "cell_type": "code",
   "execution_count": null,
   "id": "e12db17e",
   "metadata": {},
   "outputs": [],
   "source": [
    "grouped = tips_df.groupby(by=['吸煙者','日期'])\n",
    "functions = [('數量','count'),('平均','mean'),('最大值','max')]\n",
    "# 使用agg方法進行多重聚合\n",
    "# 這裡我們計算小費的數量、平均值和最大值\n",
    "tips_df3 = grouped[['小費','總票價']].agg(functions)\n",
    "tips_df3"
   ]
  },
  {
   "cell_type": "code",
   "execution_count": null,
   "id": "4233a101",
   "metadata": {},
   "outputs": [],
   "source": [
    "tips_df3['小費'] #\n"
   ]
  },
  {
   "cell_type": "code",
   "execution_count": null,
   "id": "3398e5e5",
   "metadata": {},
   "outputs": [],
   "source": [
    "\n",
    "tips_df3['小費'][['數量','平均']]"
   ]
  }
 ],
 "metadata": {
  "kernelspec": {
   "display_name": "base",
   "language": "python",
   "name": "python3"
  },
  "language_info": {
   "codemirror_mode": {
    "name": "ipython",
    "version": 3
   },
   "file_extension": ".py",
   "mimetype": "text/x-python",
   "name": "python",
   "nbconvert_exporter": "python",
   "pygments_lexer": "ipython3",
   "version": "3.13.2"
  }
 },
 "nbformat": 4,
 "nbformat_minor": 5
}
