{
 "cells": [
  {
   "cell_type": "markdown",
   "id": "49af8413",
   "metadata": {},
   "source": [
    "https://www.perplexity.ai/search/11c131c7-b2f1-44c7-bbcc-080db58fe95e"
   ]
  },
  {
   "cell_type": "code",
   "execution_count": null,
   "id": "3c1b8d63",
   "metadata": {},
   "outputs": [],
   "source": [
    "#多階層的Series\n",
    "import numpy as np\n",
    "import pandas as pd\n",
    "\n",
    "data = pd.Series(np.random.randn(9),\n",
    "                index=[['a', 'a', 'a', 'b', 'b', 'c', 'c', 'd', 'd'],\n",
    "                       [1, 2, 3, 1, 2, 3, 1, 2, 3]])\n",
    "data.index.names = ('key1','key2')\n",
    "data"
   ]
  },
  {
   "cell_type": "code",
   "execution_count": null,
   "id": "c026f188",
   "metadata": {},
   "outputs": [],
   "source": [
    "data.unstack()"
   ]
  },
  {
   "cell_type": "code",
   "execution_count": null,
   "id": "84bc1bf5",
   "metadata": {},
   "outputs": [],
   "source": [
    "\n",
    "data.unstack(level='key1')"
   ]
  },
  {
   "cell_type": "code",
   "execution_count": null,
   "id": "ada5ca4a",
   "metadata": {},
   "outputs": [],
   "source": [
    "data.unstack(level='key2')"
   ]
  },
  {
   "cell_type": "code",
   "execution_count": null,
   "id": "48bb8a93",
   "metadata": {},
   "outputs": [],
   "source": [
    "data.unstack(level='key1',fill_value=0)\n"
   ]
  },
  {
   "cell_type": "code",
   "execution_count": null,
   "id": "473734f4",
   "metadata": {},
   "outputs": [],
   "source": [
    "#多階層的DataFrame\n",
    "#樞紐分析的結果通常是多階層的DataFrame\n",
    "#這裡的DataFrame有兩個索引層級，兩個欄位層級\n",
    "#索引層級為key1和key2，欄位層級     \n",
    "#為縣市和顏色\n",
    "#索引層級的名稱為key1和key2，欄位層級的名稱為縣市和顏色 \n",
    "\n",
    "import numpy as np\n",
    "import pandas as pd\n",
    "\n",
    "df = pd.DataFrame(np.arange(12).reshape((4,3)),\n",
    "                  index=[['a','a','b','b'],[1, 2, 1, 2]],\n",
    "                  columns=[['台北','台北','台中'],['Green','Red','Green']])\n",
    "df.index.names=['key1','key2']\n",
    "df.columns.names = ['縣市',\"顏色\"]\n",
    "df"
   ]
  },
  {
   "cell_type": "code",
   "execution_count": null,
   "id": "0a91ee5d",
   "metadata": {},
   "outputs": [],
   "source": [
    "df1 = df.stack(level=['縣市','顏色'],future_stack=True)\n",
    "df1"
   ]
  },
  {
   "cell_type": "code",
   "execution_count": null,
   "id": "14181120",
   "metadata": {},
   "outputs": [],
   "source": [
    "\n",
    "df1.unstack(level=['key1','縣市'],fill_value=0)"
   ]
  },
  {
   "cell_type": "code",
   "execution_count": null,
   "id": "44523b54",
   "metadata": {},
   "outputs": [],
   "source": [
    "\n",
    "df1.unstack(level=['key1','縣市','key2'],fill_value=0)"
   ]
  },
  {
   "cell_type": "code",
   "execution_count": null,
   "id": "c667e268",
   "metadata": {},
   "outputs": [],
   "source": [
    "import os\n",
    "import pandas as pd\n",
    "current_dir = os.path.dirname(os.path.abspath(__name__))\n",
    "data_dir = os.path.join(current_dir,'data')\n",
    "csv_filename = '台鐵車站資訊.csv'\n",
    "csv_path = os.path.join(data_dir,csv_filename)\n",
    "station_info = pd.read_csv(csv_path)\n",
    "csv1_filename = '每日各站進出站人數2020.csv'\n",
    "csv1_path = os.path.join(data_dir, csv1_filename)\n",
    "inOut2020_df = pd.read_csv(csv1_path)\n",
    "inOut2020_merge = pd.merge(inOut2020_df, station_info,how='left',left_on=\"staCode\",right_on=\"stationCode\")\n",
    "#清理資料\n",
    "df1 = inOut2020_merge.reindex(columns=['trnOpDate','gateInComingCnt','gateOutGoingCnt','stationName'])\n",
    "df1.columns = ['日期','進站人數','出站人數','站名']\n",
    "df1['日期'] = pd.to_datetime(df1['日期'].astype(str))\n",
    "df2 = df1.set_index('日期')\n",
    "df2"
   ]
  },
  {
   "cell_type": "code",
   "execution_count": null,
   "id": "3c063b1c",
   "metadata": {},
   "outputs": [],
   "source": [
    "#將站名作為索引，並將進站人數和出站人數進行分組求和\n",
    "df2 = df2.groupby(by='站名').sum()\n",
    "\n",
    "#將索引轉換為列，並將進站人數和出站人數進行分組求和\n",
    "df3 = df2.reset_index() \n",
    "\n",
    "df2.groupby(by='站名').sum().T # 轉置後的DataFrame"
   ]
  },
  {
   "cell_type": "code",
   "execution_count": null,
   "id": "696e206f",
   "metadata": {},
   "outputs": [],
   "source": []
  }
 ],
 "metadata": {
  "kernelspec": {
   "display_name": "base",
   "language": "python",
   "name": "python3"
  },
  "language_info": {
   "codemirror_mode": {
    "name": "ipython",
    "version": 3
   },
   "file_extension": ".py",
   "mimetype": "text/x-python",
   "name": "python",
   "nbconvert_exporter": "python",
   "pygments_lexer": "ipython3",
   "version": "3.13.2"
  }
 },
 "nbformat": 4,
 "nbformat_minor": 5
}
