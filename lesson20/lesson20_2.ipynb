{
 "cells": [
  {
   "cell_type": "code",
   "execution_count": null,
   "id": "4e061f39",
   "metadata": {},
   "outputs": [],
   "source": [
    "import numpy as np\n",
    "import pandas as pd\n",
    "\n",
    "df = pd.DataFrame({'key1':['a', 'a', 'b', 'b', 'a'],\n",
    "                  'key2':['one', 'two', 'one', 'two', 'one'],\n",
    "                  'data1': np.random.randn(5),\n",
    "                  'data2':np.random.randn(5)})\n",
    "df"
   ]
  },
  {
   "cell_type": "code",
   "execution_count": null,
   "id": "c2d1de58",
   "metadata": {},
   "outputs": [],
   "source": [
    "df.groupby(by=\"key1\")[['data1','data2']].sum()"
   ]
  },
  {
   "cell_type": "code",
   "execution_count": null,
   "id": "aff4a6db",
   "metadata": {},
   "outputs": [],
   "source": [
    "df1 = df.groupby(by=['key1','key2']).sum()\n",
    "df1.columns.name = \"data\"\n",
    "df1"
   ]
  },
  {
   "cell_type": "code",
   "execution_count": null,
   "id": "c7950086",
   "metadata": {},
   "outputs": [],
   "source": [
    "\n",
    "df1.stack().unstack(level=['key2','data'])"
   ]
  },
  {
   "cell_type": "code",
   "execution_count": null,
   "id": "84c529b0",
   "metadata": {},
   "outputs": [],
   "source": [
    "df1 = df.groupby(by=['key1','key2']).agg([(\"加總\",\"sum\")])\n",
    "df1"
   ]
  },
  {
   "cell_type": "code",
   "execution_count": null,
   "id": "fda2188f",
   "metadata": {},
   "outputs": [],
   "source": [
    "df1 = df.groupby(by=['key1','key2']).agg([(\"加總\",\"sum\"),(\"平均\",\"mean\")])\n",
    "df1"
   ]
  }
 ],
 "metadata": {
  "kernelspec": {
   "display_name": "base",
   "language": "python",
   "name": "python3"
  },
  "language_info": {
   "codemirror_mode": {
    "name": "ipython",
    "version": 3
   },
   "file_extension": ".py",
   "mimetype": "text/x-python",
   "name": "python",
   "nbconvert_exporter": "python",
   "pygments_lexer": "ipython3",
   "version": "3.13.2"
  }
 },
 "nbformat": 4,
 "nbformat_minor": 5
}
