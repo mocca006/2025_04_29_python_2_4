{
 "cells": [
  {
   "cell_type": "code",
   "execution_count": null,
   "id": "8d12ca6a",
   "metadata": {},
   "outputs": [
    {
     "name": "stdout",
     "output_type": "stream",
     "text": [
      "1\n",
      "2\n",
      "3\n",
      "4\n",
      "5\n",
      "6\n",
      "7\n",
      "8\n",
      "9\n",
      "10\n"
     ]
    }
   ],
   "source": [
    "\"\"\"\n",
    "list_comprehension(快速建立list)\n",
    "[ expression for item in iterable ] #運算式 for 變數 in \n",
    "iterable應該是一種可以迭代的東西\n",
    "\"\"\"\n",
    "\n",
    "for i in range(1,11): #10個元素\n",
    "    print(i)"
   ]
  },
  {
   "cell_type": "code",
   "execution_count": 2,
   "id": "4c082283",
   "metadata": {},
   "outputs": [
    {
     "data": {
      "text/plain": [
       "[2, 4, 6, 8, 10, 12, 14, 16, 18, 20]"
      ]
     },
     "execution_count": 2,
     "metadata": {},
     "output_type": "execute_result"
    }
   ],
   "source": [
    "\n",
    "[i*2 for i in range(1, 11)]"
   ]
  },
  {
   "cell_type": "code",
   "execution_count": 3,
   "id": "05d026c4",
   "metadata": {},
   "outputs": [
    {
     "data": {
      "text/plain": [
       "[2, 6, 10, 14, 18]"
      ]
     },
     "execution_count": 3,
     "metadata": {},
     "output_type": "execute_result"
    }
   ],
   "source": [
    "# - [ expression for item in iterable if 條件式]\n",
    "# \n",
    "\n",
    "[i*2 for i in range(1, 11) if i % 2 == 1] # if 條件式成立才執行運算式"
   ]
  },
  {
   "cell_type": "code",
   "execution_count": null,
   "id": "a0cba80f",
   "metadata": {},
   "outputs": [
    {
     "data": {
      "text/plain": [
       "[{'姓名': '張xx', 'age': 35, 'score': 256},\n",
       " {'姓名': '王xx', 'age': 45, 'score': 278},\n",
       " {'姓名': '李xx', 'age': 37, 'score': 291}]"
      ]
     },
     "execution_count": 4,
     "metadata": {},
     "output_type": "execute_result"
    }
   ],
   "source": [
    "#list 是多筆相關資料\n",
    "#dictionary 是一筆相關資料\n",
    "\n",
    "#記憶體內的表格資料\n",
    "\n",
    "students = [{\"姓名\":\"張xx\",\"age\":35,\"score\":256}, \n",
    "            {\"姓名\":\"王xx\",\"age\":45,\"score\":278}, \n",
    "            {\"姓名\":\"李xx\",\"age\":37,\"score\":291}] #用[]把多筆資料組成list,用逗號分開增加可讀性\n",
    "students"
   ]
  },
  {
   "cell_type": "code",
   "execution_count": null,
   "id": "d43abffb",
   "metadata": {},
   "outputs": [
    {
     "name": "stdout",
     "output_type": "stream",
     "text": [
      "{'姓名': '張xx', 'age': 35, 'score': 256}\n",
      "{'姓名': '王xx', 'age': 45, 'score': 278}\n",
      "{'姓名': '李xx', 'age': 37, 'score': 291}\n"
     ]
    }
   ],
   "source": [
    "\n",
    "for student in students: #把students 資料表格放入student變數\n",
    "    print(student)"
   ]
  },
  {
   "cell_type": "code",
   "execution_count": null,
   "id": "f71f0964",
   "metadata": {},
   "outputs": [
    {
     "data": {
      "text/plain": [
       "[{'name': 'Alice', 'Chinese': 85, 'English': 92, 'Math': 78},\n",
       " {'name': 'Bob', 'Chinese': 75, 'English': 88, 'Math': 90},\n",
       " {'name': 'Charlie', 'Chinese': 90, 'English': 85, 'Math': 85},\n",
       " {'name': 'David', 'Chinese': 60, 'English': 70, 'Math': 80},\n",
       " {'name': 'Eva', 'Chinese': 95, 'English': 98, 'Math': 92},\n",
       " {'name': 'Frank', 'Chinese': 70, 'English': 75, 'Math': 68},\n",
       " {'name': 'Grace', 'Chinese': 88, 'English': 82, 'Math': 85},\n",
       " {'name': 'Helen', 'Chinese': 92, 'English': 90, 'Math': 94},\n",
       " {'name': 'Ian', 'Chinese': 78, 'English': 80, 'Math': 72},\n",
       " {'name': 'Jane', 'Chinese': 85, 'English': 87, 'Math': 89}]"
      ]
     },
     "execution_count": 8,
     "metadata": {},
     "output_type": "execute_result"
    }
   ],
   "source": [
    "\n",
    "students = [\n",
    "    {\"name\": \"Alice\", \"Chinese\": 85, \"English\": 92, \"Math\": 78},\n",
    "    {\"name\": \"Bob\", \"Chinese\": 75, \"English\": 88, \"Math\": 90},\n",
    "    {\"name\": \"Charlie\", \"Chinese\": 90, \"English\": 85, \"Math\": 85},\n",
    "    {\"name\": \"David\", \"Chinese\": 60, \"English\": 70, \"Math\": 80},\n",
    "    {\"name\": \"Eva\", \"Chinese\": 95, \"English\": 98, \"Math\": 92},\n",
    "    {\"name\": \"Frank\", \"Chinese\": 70, \"English\": 75, \"Math\": 68},\n",
    "    {\"name\": \"Grace\", \"Chinese\": 88, \"English\": 82, \"Math\": 85},\n",
    "    {\"name\": \"Helen\", \"Chinese\": 92, \"English\": 90, \"Math\": 94},\n",
    "    {\"name\": \"Ian\", \"Chinese\": 78, \"English\": 80, \"Math\": 72},\n",
    "    {\"name\": \"Jane\", \"Chinese\": 85, \"English\": 87, \"Math\": 89}\n",
    "]\n",
    "\n",
    "\n",
    "students #students 是 iterable\n"
   ]
  },
  {
   "cell_type": "code",
   "execution_count": 9,
   "id": "19018452",
   "metadata": {},
   "outputs": [
    {
     "name": "stdout",
     "output_type": "stream",
     "text": [
      "[{'name': 'Alice', 'Chinese': 85, 'English': 92, 'Math': 78}, {'name': 'Bob', 'Chinese': 75, 'English': 88, 'Math': 90}, {'name': 'Charlie', 'Chinese': 90, 'English': 85, 'Math': 85}, {'name': 'David', 'Chinese': 60, 'English': 70, 'Math': 80}, {'name': 'Eva', 'Chinese': 95, 'English': 98, 'Math': 92}, {'name': 'Frank', 'Chinese': 70, 'English': 75, 'Math': 68}, {'name': 'Grace', 'Chinese': 88, 'English': 82, 'Math': 85}, {'name': 'Helen', 'Chinese': 92, 'English': 90, 'Math': 94}, {'name': 'Ian', 'Chinese': 78, 'English': 80, 'Math': 72}, {'name': 'Jane', 'Chinese': 85, 'English': 87, 'Math': 89}]\n"
     ]
    }
   ],
   "source": [
    "print(students)"
   ]
  },
  {
   "cell_type": "code",
   "execution_count": 10,
   "id": "18256f9e",
   "metadata": {},
   "outputs": [
    {
     "name": "stdout",
     "output_type": "stream",
     "text": [
      "{'name': 'Alice', 'Chinese': 85, 'English': 92, 'Math': 78}\n",
      "{'name': 'Charlie', 'Chinese': 90, 'English': 85, 'Math': 85}\n",
      "{'name': 'Eva', 'Chinese': 95, 'English': 98, 'Math': 92}\n",
      "{'name': 'Grace', 'Chinese': 88, 'English': 82, 'Math': 85}\n",
      "{'name': 'Helen', 'Chinese': 92, 'English': 90, 'Math': 94}\n",
      "{'name': 'Jane', 'Chinese': 85, 'English': 87, 'Math': 89}\n"
     ]
    }
   ],
   "source": [
    "for student in students:\n",
    "    if student['Chinese'] >= 80:\n",
    "        print(student)"
   ]
  },
  {
   "cell_type": "code",
   "execution_count": null,
   "id": "9f85aa29",
   "metadata": {},
   "outputs": [],
   "source": [
    "#使用comprehension的技巧\n",
    "\n",
    "\n",
    "student_80 = [student for student in students if student['Chinese'] >= 80] #過濾,把過濾資料放到_80變數\n",
    "student_80"
   ]
  },
  {
   "cell_type": "markdown",
   "id": "6cedd083",
   "metadata": {},
   "source": [
    "使用filter()的技巧\n",
    "說明書\n",
    "filter(function, iterable)\n",
    "Python 中的 filter() 函式用來從一個可迭代物件（如列表、元組等）中篩選出符合條件的元素。其基本語法如下：\n",
    "\n",
    "filter(function, iterable)\n",
    "function：一個函式，用來判斷元素是否符合條件。此函式接受一個參數，回傳布林值 True 或 False。回傳 True 的元素會被保留。\n",
    "iterable：要篩選的可迭代物件。\n",
    "filter() 會回傳一個 filter 物件（可迭代），通常會搭配 list() 或其他容器轉換使用。\n",
    "\n",
    "範例說明\n",
    "# 篩選出列表中所有偶數\n",
    "numbers = [1, 2, 3, 4, 5, 6]\n",
    "\n",
    "def is_even(n):\n",
    "    return n % 2 == 0\n",
    "\n",
    "filtered_numbers = filter(is_even, numbers)\n",
    "print(list(filtered_numbers))  # 輸出: [2, 4, 6]\n",
    "也可以用匿名函式（lambda）簡化：\n",
    "\n",
    "filtered_numbers = filter(lambda x: x % 2 == 0, numbers)\n",
    "print(list(filtered_numbers))  # 輸出: [2, 4, 6]\n",
    "使用重點\n",
    "filter() 不會改變原始資料，而是回傳一個新的可迭代物件。\n",
    "如果 function 是 None，則會過濾掉所有布林值為 False 的元素（例如 False, 0, None, '' 等）。\n",
    "items = [\"apple\", \"\", \"banana\", None, \"cherry\"]\n",
    "filtered_items = filter(None, items)\n",
    "print(list(filtered_items))  # 輸出: ['apple', 'banana', 'cherry']"
   ]
  },
  {
   "cell_type": "code",
   "execution_count": null,
   "id": "86cebd98",
   "metadata": {},
   "outputs": [],
   "source": [
    "def chinese_greater_80(student):\n",
    "    if student['Chinese'] >= 80:\n",
    "        return student\n",
    "    \n",
    "\n",
    "list(filter(chinese_greater_80, students))"
   ]
  }
 ],
 "metadata": {
  "kernelspec": {
   "display_name": "base",
   "language": "python",
   "name": "python3"
  },
  "language_info": {
   "codemirror_mode": {
    "name": "ipython",
    "version": 3
   },
   "file_extension": ".py",
   "mimetype": "text/x-python",
   "name": "python",
   "nbconvert_exporter": "python",
   "pygments_lexer": "ipython3",
   "version": "3.12.9"
  }
 },
 "nbformat": 4,
 "nbformat_minor": 5
}
