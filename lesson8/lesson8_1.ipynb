{
 "cells": [
  {
   "cell_type": "code",
   "execution_count": 1,
   "id": "01637492",
   "metadata": {},
   "outputs": [
    {
     "name": "stdout",
     "output_type": "stream",
     "text": [
      "robert\n",
      "45\n"
     ]
    },
    {
     "data": {
      "text/plain": [
       "['星期一', '星期二', '星期三']"
      ]
     },
     "execution_count": 1,
     "metadata": {},
     "output_type": "execute_result"
    }
   ],
   "source": [
    "\"\"\"tuple\n",
    "immutable(不可變的變數)\n",
    "Sequence(串列資料)\n",
    "iterable(可重覆讀取)\n",
    "拆解法\n",
    "用括號符號()建立\n",
    "typehint(tuple)\n",
    "#拆解法\"\"\"\n",
    "\n",
    "name, age = \"robert\", 45\n",
    "print(name)\n",
    "print(age)\n",
    "\n",
    "\"\"\"\n",
    "list\n",
    "mutable(可變的變數)\n",
    "Sequence(串列資料)\n",
    "iterable(可重覆讀取)\n",
    "用中括號符號[]來建立\n",
    "typehint(list)\n",
    "#建立list\n",
    "\"\"\"\n",
    "weekdays = ['星期一', '星期二', '星期三', '星期四', '星期五', '星期六', '星期日'] \n",
    "type(weekdays)\n",
    "\n",
    "\"\"\"list\n",
    "#取出元素和修改元素\n",
    "#使用[index]\n",
    "\"\"\"\n",
    "weekdays[0]\n",
    "weekdays[1]\n",
    "weekdays[-2]\n",
    "weekdays[-1]\n",
    "\n",
    "\n",
    "\"\"\"\n",
    "#[slice]\n",
    "#[起始(包含):結束(不包含)]\n",
    "\"\"\"\n",
    "weekdays[0:3]\n",
    "weekdays[-3:-1]\n",
    "weekdays[-3:] #取最後3個\n",
    "weekdays[:3] #取前3個\n"
   ]
  },
  {
   "cell_type": "code",
   "execution_count": null,
   "id": "a328b4f5",
   "metadata": {},
   "outputs": [],
   "source": []
  }
 ],
 "metadata": {
  "kernelspec": {
   "display_name": "base",
   "language": "python",
   "name": "python3"
  },
  "language_info": {
   "codemirror_mode": {
    "name": "ipython",
    "version": 3
   },
   "file_extension": ".py",
   "mimetype": "text/x-python",
   "name": "python",
   "nbconvert_exporter": "python",
   "pygments_lexer": "ipython3",
   "version": "3.12.9"
  }
 },
 "nbformat": 4,
 "nbformat_minor": 5
}
