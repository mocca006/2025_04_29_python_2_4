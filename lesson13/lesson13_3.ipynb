{
 "cells": [
  {
   "cell_type": "code",
   "execution_count": null,
   "id": "94d4159c",
   "metadata": {},
   "outputs": [],
   "source": [
    "student1 = {'國文':78, '英文':80, '數學':92, '歷史':75, '探索':85}\n",
    "student2 = {'國文':90, '英文':75, '數學':98, '歷史':65, '探索':75}\n",
    "\n"
   ]
  }
 ],
 "metadata": {
  "kernelspec": {
   "display_name": "base",
   "language": "python",
   "name": "python3"
  },
  "language_info": {
   "name": "python",
   "version": "3.13.2"
  }
 },
 "nbformat": 4,
 "nbformat_minor": 5
}
