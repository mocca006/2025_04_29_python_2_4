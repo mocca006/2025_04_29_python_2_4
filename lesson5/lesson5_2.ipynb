{
 "cells": [
  {
   "cell_type": "code",
   "execution_count": null,
   "id": "d5835424",
   "metadata": {},
   "outputs": [
    {
     "name": "stdout",
     "output_type": "stream",
     "text": [
      "存了3個月,存款30000元\n"
     ]
    }
   ],
   "source": [
    "#while(條件式):\n",
    "\n",
    "\"\"\"\n",
    "建立變數\n",
    "while(使用變數建立條件)\n",
    "要有結束條件,才不會是無窮迴圈\n",
    "\"\"\"\n",
    "\n",
    "#小明想買機車, 每輛30000元, 輸入每個月存錢,達到目標就通知\n",
    "\n",
    "deposite=0\n",
    "month=0\n",
    "\n",
    "while(deposite<30000): #唯一跳出迴圈的條件\n",
    "    month +=1\n",
    "    input_value=int(input(f\"第{month}月份存款\"))\n",
    "    deposite +=input_value\n",
    "\n",
    "print(f\"存了{month}個月,存款{deposite}元\")"
   ]
  },
  {
   "cell_type": "code",
   "execution_count": 15,
   "id": "23868be0",
   "metadata": {},
   "outputs": [
    {
     "name": "stdout",
     "output_type": "stream",
     "text": [
      "7平方是 49\n",
      "應用程式結束\n"
     ]
    }
   ],
   "source": [
    "\"\"\"\n",
    "while\n",
    "break 馬上跳出迴圈\n",
    "continue 回到下一輪迴圈\n",
    "\"\"\"\n",
    "\n",
    "#奇數輸出平方\n",
    "#偶數不動作\n",
    "#'q'離開程式\n",
    "\n",
    "while(True):\n",
    "    value=input(\"輸入整數,q離開:\")\n",
    "    if value ==\"q\":\n",
    "        break\n",
    "    elif(int(value) % 2 == 0):\n",
    "        #print(f\"輸入{value}是偶數,請繼續輸入\")\n",
    "        continue\n",
    "    else:\n",
    "        print(f\"{value}平方是 {int(value)**2}\")\n",
    "        # print(f\"{value}的平方是{int(value)**2}\")\n",
    "\n",
    "print(\"應用程式結束\")"
   ]
  },
  {
   "cell_type": "code",
   "execution_count": 1,
   "id": "98a84320",
   "metadata": {},
   "outputs": [
    {
     "name": "stdout",
     "output_type": "stream",
     "text": [
      "9的平方是81\n",
      "應用程式結束\n"
     ]
    }
   ],
   "source": [
    "#奇數輸出平方\n",
    "#偶數不做任何動作\n",
    "#'q'要離開\n",
    "\n",
    "while(True):\n",
    "    value = input(\"請輸入整數,輸入[q]離開:\")\n",
    "    if value == \"q\":\n",
    "        break\n",
    "    elif(int(value) % 2 == 0):\n",
    "        continue\n",
    "    else:\n",
    "        print(f\"{value}的平方是{int(value)**2}\")\n",
    "print(\"應用程式結束\")"
   ]
  },
  {
   "cell_type": "code",
   "execution_count": null,
   "id": "4d2e21c0",
   "metadata": {},
   "outputs": [],
   "source": [
    "#random\n",
    "\n",
    "import random\n",
    "\n",
    "min = 1\n",
    "max = 99\n",
    "count = 0\n",
    "target = random.randint(min, max)\n",
    "#print(target)\n",
    "print(\"=============猜數字遊戲===========\\n\");\n",
    "while(True):\n",
    "    count += 1\n",
    "    keyin = int(input(f\"猜數字範圍{min}~{max}:\"))\n",
    "    if(keyin >= min and keyin <= max):\n",
    "        if(keyin == target):\n",
    "            print(f\"賓果!猜對了, 答案是:{target}\")\n",
    "            print(f\"您猜了{count}次\")\n",
    "            break\n",
    "        elif(keyin>target):\n",
    "            print(\"再小一點\")\n",
    "            max = keyin - 1\n",
    "        elif(keyin<target):\n",
    "            print(\"再大一點\")\n",
    "            min = keyin + 1\n",
    "        print(f\"您已經猜了{count}次\") \n",
    "    else:\n",
    "        print(\"請輸入提示範圍內的數字\")\n",
    "\n",
    "\n",
    "print(\"遊戲結束\")\n"
   ]
  }
 ],
 "metadata": {
  "kernelspec": {
   "display_name": "base",
   "language": "python",
   "name": "python3"
  },
  "language_info": {
   "codemirror_mode": {
    "name": "ipython",
    "version": 3
   },
   "file_extension": ".py",
   "mimetype": "text/x-python",
   "name": "python",
   "nbconvert_exporter": "python",
   "pygments_lexer": "ipython3",
   "version": "3.12.9"
  }
 },
 "nbformat": 4,
 "nbformat_minor": 5
}
