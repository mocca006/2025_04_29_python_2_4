{
 "cells": [
  {
   "cell_type": "code",
   "execution_count": null,
   "id": "c833e653",
   "metadata": {},
   "outputs": [
    {
     "name": "stdout",
     "output_type": "stream",
     "text": [
      "輸入身高(公分): 152 cm\n",
      "輸入體重(公斤): 42 Kg\n",
      "BMI計算數值: 18.18\n",
      "==============================\n",
      "BMI數值計算完成\n"
     ]
    }
   ],
   "source": [
    "#計算BMI數值\n",
    "#BMI公式=體重(公斤)/身高(公尺)平方\n",
    "\n",
    "\"\"\"\n",
    "BMI < 18.5 體重過輕\n",
    "18.5 <= BMI < 24 正常範圍\n",
    "24 <= BMI < 27 過重\n",
    "27 <= BMI <30 輕度肥胖\n",
    "30 <= BMI <35 中度肥胖\n",
    "35 >= BMI 過度肥胖\n",
    "\"\"\"\n",
    "\n",
    "\n",
    "try:\n",
    "    height:int = int(input('請輸入身高(公分):'))\n",
    "    if height < 100 or height >220:  \n",
    "        raise Exception(f\"身高輸入:{height} cm, 超出100cm ~220cm 範圍\") #自己建立raise檢查錯誤     \n",
    "   \n",
    "    weight:int = int(input('請輸入體重(公斤):'))\n",
    "    if weight <30 or weight >200:       \n",
    "        raise Exception(f\"體重輸入:{weight} Kg, 超出30Kg ~200Kg 範圍\") #自己建立raise檢查錯誤 \n",
    "    \n",
    "    bmi = weight / (height/100)**2   \n",
    "\n",
    "\n",
    "except ValueError: #輸入格式錯誤! #特定的except #只會執行1個\n",
    "    print(\"輸入格式錯誤!\")\n",
    "    print(\"應用程式結束~~~\")\n",
    "\n",
    "except Exception as e: #將其他錯誤表示出來 raise Exception(\"輸入超過範圍\") #執行所有except\n",
    "    print(e)\n",
    "    print (\"-\"*40)\n",
    "    print(\"應用程式結束~~~\")\n",
    "\n",
    "else: #try 區塊沒有except 就執行else區塊\n",
    "    print (f'輸入身高(公分): {height} cm')\n",
    "    print (f'輸入體重(公斤): {weight} Kg')\n",
    "    print (f'BMI計算數值:{bmi: .2f}')\n",
    "    print (\"=\"*30)\n",
    "    print (\"BMI數值計算完成\")"
   ]
  },
  {
   "cell_type": "code",
   "execution_count": null,
   "id": "9ae8d6ae",
   "metadata": {},
   "outputs": [
    {
     "name": "stdout",
     "output_type": "stream",
     "text": [
      "輸入身高(公分): 155 cm\n",
      "輸入體重(公斤): 50 Kg\n",
      "BMI計算數值: 20.81\n"
     ]
    },
    {
     "ename": "KeyboardInterrupt",
     "evalue": "",
     "output_type": "error",
     "traceback": [
      "\u001b[31m---------------------------------------------------------------------------\u001b[39m",
      "\u001b[31mKeyboardInterrupt\u001b[39m                         Traceback (most recent call last)",
      "\u001b[36mCell\u001b[39m\u001b[36m \u001b[39m\u001b[32mIn[16]\u001b[39m\u001b[32m, line 41\u001b[39m\n\u001b[32m     37\u001b[39m \u001b[38;5;28mprint\u001b[39m (\u001b[33mf\u001b[39m\u001b[33m'\u001b[39m\u001b[33mBMI計算數值:\u001b[39m\u001b[38;5;132;01m{\u001b[39;00mbmi\u001b[38;5;132;01m:\u001b[39;00m\u001b[33m .2f\u001b[39m\u001b[38;5;132;01m}\u001b[39;00m\u001b[33m'\u001b[39m)\n\u001b[32m     38\u001b[39m \u001b[38;5;66;03m#print (\"=\"*30)\u001b[39;00m\n\u001b[32m     39\u001b[39m \u001b[38;5;66;03m#print (\"BMI數值計算完成\")\u001b[39;00m\n\u001b[32m---> \u001b[39m\u001b[32m41\u001b[39m \u001b[38;5;28;01mwhile\u001b[39;00m(\u001b[38;5;28;01mTrue\u001b[39;00m):\n\u001b[32m     42\u001b[39m     \u001b[38;5;28;01mif\u001b[39;00m bmi < \u001b[32m18.5\u001b[39m:\n\u001b[32m     43\u001b[39m         \u001b[38;5;28mprint\u001b[39m(\u001b[33mf\u001b[39m\u001b[33m\"\u001b[39m\u001b[33mBMI : \u001b[39m\u001b[38;5;132;01m{\u001b[39;00mbmi\u001b[38;5;132;01m:\u001b[39;00m\u001b[33m .2f\u001b[39m\u001b[38;5;132;01m}\u001b[39;00m\u001b[33m\"\u001b[39m) \n",
      "\u001b[31mKeyboardInterrupt\u001b[39m: "
     ]
    }
   ],
   "source": [
    "#計算BMI數值\n",
    "#BMI公式=體重(公斤)/身高(公尺)平方\n",
    "\n",
    "\"\"\"\n",
    "BMI < 18.5 體重過輕\n",
    "18.5 <= BMI < 24 正常範圍\n",
    "24 <= BMI < 27 過重\n",
    "27 <= BMI <30 輕度肥胖\n",
    "30 <= BMI <35 中度肥胖\n",
    "35 >= BMI 過度肥胖\n",
    "\"\"\"\n",
    "\n",
    "\n",
    "try:\n",
    "    height:int = int(input('請輸入身高(公分):'))\n",
    "    if height < 100 or height >220:  \n",
    "        raise Exception(f\"身高輸入:{height} cm, 超出100cm ~220cm 範圍\") #自己建立raise檢查錯誤     \n",
    "   \n",
    "    weight:int = int(input('請輸入體重(公斤):'))\n",
    "    if weight <30 or weight >200:       \n",
    "        raise Exception(f\"體重輸入:{weight} Kg, 超出30Kg ~200Kg 範圍\") #自己建立raise檢查錯誤 \n",
    "    \n",
    "except ValueError: #輸入格式錯誤! #特定的except #只會執行1個\n",
    "    print(\"輸入格式錯誤!\")\n",
    "    print(\"應用程式結束~~~\")\n",
    "\n",
    "except Exception as e: #將其他錯誤表示出來 raise Exception(\"輸入超過範圍\") #執行所有except\n",
    "    print(e)\n",
    "    print (\"-\"*40)\n",
    "    print(\"應用程式結束~~~\")\n",
    "\n",
    "else: #try 區塊沒有except 就執行else區塊\n",
    "    bmi = weight / (height/100)**2   \n",
    "    \n",
    "    print (f'輸入身高(公分): {height} cm')\n",
    "    print (f'輸入體重(公斤): {weight} Kg')\n",
    "    print (f'BMI計算數值:{bmi: .2f}')\n",
    "    #print (\"=\"*30)\n",
    "    #print (\"BMI數值計算完成\")\n",
    "\n",
    "\n",
    "    if bmi < 18.5:\n",
    "            print(f\"BMI : {bmi: .2f}\") \n",
    "            print(\"BMI < 18.5 , 體重過輕\")\n",
    "            break\n",
    "    elif bmi <= 18.5 and bmi < 24 :\n",
    "            print (f\"BMI={bmi}, 正常範圍\")\n",
    "            \n",
    "       # else:\n",
    "       # print(\"=\"*30)\n",
    "    # print (\"BMI數值計算完成\")\n",
    "\n",
    "\n",
    "print ()\n",
    "print(\"應用程式結束~~~\")"
   ]
  },
  {
   "cell_type": "code",
   "execution_count": null,
   "id": "300588b0",
   "metadata": {},
   "outputs": [],
   "source": []
  }
 ],
 "metadata": {
  "kernelspec": {
   "display_name": "base",
   "language": "python",
   "name": "python3"
  },
  "language_info": {
   "codemirror_mode": {
    "name": "ipython",
    "version": 3
   },
   "file_extension": ".py",
   "mimetype": "text/x-python",
   "name": "python",
   "nbconvert_exporter": "python",
   "pygments_lexer": "ipython3",
   "version": "3.12.9"
  }
 },
 "nbformat": 4,
 "nbformat_minor": 5
}
