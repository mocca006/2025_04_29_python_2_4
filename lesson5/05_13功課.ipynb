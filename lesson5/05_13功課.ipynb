{
 "cells": [
  {
   "cell_type": "code",
   "execution_count": null,
   "id": "c833e653",
   "metadata": {},
   "outputs": [],
   "source": [
    "#計算BMI數值\n",
    "#BMI公式=體重(公斤)/身高(公尺)平方\n",
    "\n",
    "\"\"\"\n",
    "BMI < 18.5 體重過輕\n",
    "18.5 <= BMI < 24 正常範圍\n",
    "24 <= BMI < 27 過重\n",
    "27 <= BMI <30 輕度肥胖\n",
    "30 <= BMI <35 中度肥胖\n",
    "35 >= BMI 過度肥胖\n",
    "\"\"\"\n",
    "\n",
    "\n",
    "try:\n",
    "    height:int = int(input('請輸入身高(公分):'))\n",
    "    if height < 100 or height >220:  \n",
    "        raise Exception(f\"身高輸入:{height} cm, 超過120cm ~220cm 範圍\") #自己建立raise檢查錯誤     \n",
    "   \n",
    "    weight:int = int(input('請輸入體重(公斤):'))\n",
    "    if weight <30 or weight >200:       \n",
    "        raise Exception(f\"體重輸入:{weight} Kg, 超過30Kg ~200Kg 範圍\") #自己建立raise檢查錯誤 \n",
    "        \n",
    "    bmi = weight / (height/100)**2   \n",
    "\n",
    "\n",
    "except ValueError: #輸入格式錯誤! #特定的except #只會執行1個\n",
    "    print(\"輸入格式錯誤!\")\n",
    "    print(\"應用程式結束~~~\")\n",
    "\n",
    "except Exception as e: #將其他錯誤表示出來 raise Exception(\"輸入超過範圍\") #執行所有except\n",
    "    print(e)\n",
    "    print (\"-\"*40)\n",
    "    print(\"應用程式結束~~~\")\n",
    "\n",
    "else: #try 區塊沒有except 就執行else區塊\n",
    "    print (f'輸入身高(公分): {height} cm')\n",
    "    print (f'輸入體重(公斤): {weight} Kg')\n",
    "    print (f'BMI計算數值:{bmi: .2f}')\n",
    "    print (\"=\"*30)\n",
    "    print (\"BMI數值計算完成\")"
   ]
  }
 ],
 "metadata": {
  "kernelspec": {
   "display_name": "base",
   "language": "python",
   "name": "python3"
  },
  "language_info": {
   "codemirror_mode": {
    "name": "ipython",
    "version": 3
   },
   "file_extension": ".py",
   "mimetype": "text/x-python",
   "name": "python",
   "nbconvert_exporter": "python",
   "pygments_lexer": "ipython3",
   "version": "3.12.9"
  }
 },
 "nbformat": 4,
 "nbformat_minor": 5
}
