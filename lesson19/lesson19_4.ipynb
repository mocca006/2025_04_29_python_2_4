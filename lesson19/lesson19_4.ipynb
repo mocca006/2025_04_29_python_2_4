{
 "cells": [
  {
   "cell_type": "markdown",
   "id": "8e87986d",
   "metadata": {},
   "source": [
    "\n",
    "https://www.perplexity.ai/search/9e65c056-41ac-4275-abf3-718ccc0e498d"
   ]
  },
  {
   "cell_type": "code",
   "execution_count": null,
   "id": "95abed6b",
   "metadata": {},
   "outputs": [],
   "source": [
    "import pandas as pd\n",
    "\n",
    "#檔案:相對路徑的寫法\n",
    "pd.read_csv('./data/台鐵車站資訊.csv')"
   ]
  },
  {
   "cell_type": "code",
   "execution_count": null,
   "id": "3f3d3f17",
   "metadata": {},
   "outputs": [],
   "source": [
    "\n",
    "# #檔案:絕對目錄的寫法\n",
    "# import os\n",
    "# os.path.dirname(os.path.abspath(__name__))\n",
    "# os.path.join(current_dir,'data')\n",
    "# # csv_filename = '台鐵車站資訊.csv'\n",
    "# # csv_path = os.path.join(data_dir,csv_filename)\n",
    "# # pd.read_csv(csv_path)"
   ]
  },
  {
   "cell_type": "code",
   "execution_count": null,
   "id": "49ca1c52",
   "metadata": {},
   "outputs": [],
   "source": [
    "\n",
    "#檔案:絕對目錄的寫法\n",
    "import os\n",
    "current_dir = os.path.dirname(os.path.abspath(__name__))\n",
    "data_dir = os.path.join(current_dir,'data')\n",
    "csv_filename = '台鐵車站資訊.csv'\n",
    "csv_path = os.path.join(data_dir,csv_filename)\n",
    "station_info = pd.read_csv(csv_path)"
   ]
  },
  {
   "cell_type": "code",
   "execution_count": null,
   "id": "7ebe7193",
   "metadata": {},
   "outputs": [],
   "source": [
    "csv1_filename = '每日各站進出站人數2020.csv'\n",
    "csv1_path = os.path.join(data_dir, csv1_filename)\n",
    "inOut2020_df = pd.read_csv(csv1_path)\n",
    "inOut2020_df"
   ]
  },
  {
   "cell_type": "code",
   "execution_count": null,
   "id": "7ac27f29",
   "metadata": {},
   "outputs": [],
   "source": [
    "inOut2020_merge = pd.merge(inOut2020_df,station_info,how='left',left_on=\"staCode\",right_on=\"stationCode\")\n",
    "inOut2020_merge"
   ]
  },
  {
   "cell_type": "code",
   "execution_count": null,
   "id": "88a2b23f",
   "metadata": {},
   "outputs": [],
   "source": [
    "inOut2020_merge = pd.merge(inOut2020_df, station_info,how='left',left_on=\"staCode\",right_on=\"stationCode\")\n",
    "#清理資料\n",
    "df1 = inOut2020_merge.reindex(columns=['trnOpDate','gateInComingCnt','gateOutGoingCnt','stationName'])\n",
    "df1.columns = ['日期','進站人數','出站人數','站名']\n",
    "df1"
   ]
  },
  {
   "cell_type": "code",
   "execution_count": null,
   "id": "78b0c4cd",
   "metadata": {},
   "outputs": [],
   "source": [
    "df1.info()\n"
   ]
  },
  {
   "cell_type": "code",
   "execution_count": null,
   "id": "a787aa8e",
   "metadata": {},
   "outputs": [],
   "source": [
    "df1['日期'] = pd.to_datetime(df1['日期'].astype(str)) #轉換為日期格式\n",
    "df1.info()"
   ]
  },
  {
   "cell_type": "code",
   "execution_count": null,
   "id": "5f2c3329",
   "metadata": {},
   "outputs": [],
   "source": [
    "df2 = df1.set_index('日期') # 將日期設為索引\n",
    "df2"
   ]
  },
  {
   "cell_type": "code",
   "execution_count": null,
   "id": "fb45b34b",
   "metadata": {},
   "outputs": [],
   "source": [
    "\n",
    "##依據值的搜尋\n",
    "##mask\n",
    "df2[df2['站名'] == \"基隆\"]"
   ]
  },
  {
   "cell_type": "code",
   "execution_count": null,
   "id": "64205db2",
   "metadata": {},
   "outputs": [],
   "source": [
    "\n",
    "##依據值的搜尋\n",
    "##query()\n",
    "df2.query('進站人數>=10000')"
   ]
  },
  {
   "cell_type": "code",
   "execution_count": null,
   "id": "6b548d9e",
   "metadata": {},
   "outputs": [],
   "source": [
    "\n",
    "df2.groupby(by='站名').sum()"
   ]
  },
  {
   "cell_type": "code",
   "execution_count": 18,
   "id": "92846168",
   "metadata": {},
   "outputs": [
    {
     "data": {
      "text/html": [
       "<div>\n",
       "<style scoped>\n",
       "    .dataframe tbody tr th:only-of-type {\n",
       "        vertical-align: middle;\n",
       "    }\n",
       "\n",
       "    .dataframe tbody tr th {\n",
       "        vertical-align: top;\n",
       "    }\n",
       "\n",
       "    .dataframe thead th {\n",
       "        text-align: right;\n",
       "    }\n",
       "</style>\n",
       "<table border=\"1\" class=\"dataframe\">\n",
       "  <thead>\n",
       "    <tr style=\"text-align: right;\">\n",
       "      <th></th>\n",
       "      <th>進站人數</th>\n",
       "      <th>出站人數</th>\n",
       "    </tr>\n",
       "    <tr>\n",
       "      <th>日期</th>\n",
       "      <th></th>\n",
       "      <th></th>\n",
       "    </tr>\n",
       "  </thead>\n",
       "  <tbody>\n",
       "    <tr>\n",
       "      <th>2020-01-31</th>\n",
       "      <td>19993675</td>\n",
       "      <td>19993675</td>\n",
       "    </tr>\n",
       "    <tr>\n",
       "      <th>2020-02-29</th>\n",
       "      <td>15671872</td>\n",
       "      <td>15671872</td>\n",
       "    </tr>\n",
       "    <tr>\n",
       "      <th>2020-03-31</th>\n",
       "      <td>15315217</td>\n",
       "      <td>15315217</td>\n",
       "    </tr>\n",
       "    <tr>\n",
       "      <th>2020-04-30</th>\n",
       "      <td>13113386</td>\n",
       "      <td>13113386</td>\n",
       "    </tr>\n",
       "    <tr>\n",
       "      <th>2020-05-31</th>\n",
       "      <td>15326842</td>\n",
       "      <td>15326842</td>\n",
       "    </tr>\n",
       "    <tr>\n",
       "      <th>2020-06-30</th>\n",
       "      <td>16976704</td>\n",
       "      <td>16976704</td>\n",
       "    </tr>\n",
       "    <tr>\n",
       "      <th>2020-07-31</th>\n",
       "      <td>18298257</td>\n",
       "      <td>18298257</td>\n",
       "    </tr>\n",
       "    <tr>\n",
       "      <th>2020-08-31</th>\n",
       "      <td>18518554</td>\n",
       "      <td>18518554</td>\n",
       "    </tr>\n",
       "    <tr>\n",
       "      <th>2020-09-30</th>\n",
       "      <td>17698221</td>\n",
       "      <td>17698221</td>\n",
       "    </tr>\n",
       "    <tr>\n",
       "      <th>2020-10-31</th>\n",
       "      <td>19477695</td>\n",
       "      <td>19477695</td>\n",
       "    </tr>\n",
       "    <tr>\n",
       "      <th>2020-11-30</th>\n",
       "      <td>18711859</td>\n",
       "      <td>18711859</td>\n",
       "    </tr>\n",
       "    <tr>\n",
       "      <th>2020-12-31</th>\n",
       "      <td>19177729</td>\n",
       "      <td>19177729</td>\n",
       "    </tr>\n",
       "  </tbody>\n",
       "</table>\n",
       "</div>"
      ],
      "text/plain": [
       "                進站人數      出站人數\n",
       "日期                            \n",
       "2020-01-31  19993675  19993675\n",
       "2020-02-29  15671872  15671872\n",
       "2020-03-31  15315217  15315217\n",
       "2020-04-30  13113386  13113386\n",
       "2020-05-31  15326842  15326842\n",
       "2020-06-30  16976704  16976704\n",
       "2020-07-31  18298257  18298257\n",
       "2020-08-31  18518554  18518554\n",
       "2020-09-30  17698221  17698221\n",
       "2020-10-31  19477695  19477695\n",
       "2020-11-30  18711859  18711859\n",
       "2020-12-31  19177729  19177729"
      ]
     },
     "execution_count": 18,
     "metadata": {},
     "output_type": "execute_result"
    }
   ],
   "source": [
    "df2[['進站人數','出站人數']].resample('ME').sum()"
   ]
  }
 ],
 "metadata": {
  "kernelspec": {
   "display_name": "base",
   "language": "python",
   "name": "python3"
  },
  "language_info": {
   "codemirror_mode": {
    "name": "ipython",
    "version": 3
   },
   "file_extension": ".py",
   "mimetype": "text/x-python",
   "name": "python",
   "nbconvert_exporter": "python",
   "pygments_lexer": "ipython3",
   "version": "3.13.2"
  }
 },
 "nbformat": 4,
 "nbformat_minor": 5
}
