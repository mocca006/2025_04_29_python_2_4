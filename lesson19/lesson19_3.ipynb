{
 "cells": [
  {
   "cell_type": "markdown",
   "id": "8e87986d",
   "metadata": {},
   "source": [
    "\n",
    "https://www.perplexity.ai/search/9e65c056-41ac-4275-abf3-718ccc0e498d"
   ]
  },
  {
   "cell_type": "code",
   "execution_count": null,
   "id": "95abed6b",
   "metadata": {},
   "outputs": [],
   "source": [
    "import pandas as pd\n",
    "\n",
    "#檔案:相對路徑的寫法\n",
    "pd.read_csv('./data/台鐵車站資訊.csv')"
   ]
  },
  {
   "cell_type": "code",
   "execution_count": null,
   "id": "3f3d3f17",
   "metadata": {},
   "outputs": [],
   "source": [
    "\n",
    "#檔案:絕對目錄的寫法\n",
    "import os\n",
    "os.path.dirname(os.path.abspath(__name__))\n",
    "os.path.join(current_dir,'data')\n",
    "# csv_filename = '台鐵車站資訊.csv'\n",
    "# csv_path = os.path.join(data_dir,csv_filename)\n",
    "# pd.read_csv(csv_path)"
   ]
  },
  {
   "cell_type": "code",
   "execution_count": null,
   "id": "49ca1c52",
   "metadata": {},
   "outputs": [],
   "source": [
    "\n",
    "#檔案:絕對目錄的寫法\n",
    "import os\n",
    "current_dir = os.path.dirname(os.path.abspath(__name__))\n",
    "data_dir = os.path.join(current_dir,'data')\n",
    "csv_filename = '台鐵車站資訊.csv'\n",
    "csv_path = os.path.join(data_dir,csv_filename)\n",
    "station_info = pd.read_csv(csv_path)"
   ]
  },
  {
   "cell_type": "code",
   "execution_count": null,
   "id": "7ebe7193",
   "metadata": {},
   "outputs": [],
   "source": [
    "csv1_filename = '每日各站進出站人數2020.csv'\n",
    "csv1_path = os.path.join(data_dir, csv1_filename)\n",
    "inOut2020_df = pd.read_csv(csv1_path)\n",
    "inOut2020_df"
   ]
  },
  {
   "cell_type": "code",
   "execution_count": null,
   "id": "7ac27f29",
   "metadata": {},
   "outputs": [],
   "source": [
    "inOut2020_merge = pd.merge(inOut2020_df,station_info,how='left',left_on=\"staCode\",right_on=\"stationCode\")\n",
    "inOut2020_merge"
   ]
  },
  {
   "cell_type": "code",
   "execution_count": null,
   "id": "88a2b23f",
   "metadata": {},
   "outputs": [],
   "source": [
    "inOut2020_merge = pd.merge(inOut2020_df, station_info,how='left',left_on=\"staCode\",right_on=\"stationCode\")\n",
    "#清理資料\n",
    "df1 = inOut2020_merge.reindex(columns=['trnOpDate','gateInComingCnt','gateOutGoingCnt','stationName'])\n",
    "df1.columns = ['日期','進站人數','出站人數','站名']\n",
    "df1"
   ]
  },
  {
   "cell_type": "code",
   "execution_count": null,
   "id": "78b0c4cd",
   "metadata": {},
   "outputs": [],
   "source": []
  }
 ],
 "metadata": {
  "kernelspec": {
   "display_name": "Python 3",
   "language": "python",
   "name": "python3"
  },
  "language_info": {
   "codemirror_mode": {
    "name": "ipython",
    "version": 3
   },
   "file_extension": ".py",
   "mimetype": "text/x-python",
   "name": "python",
   "nbconvert_exporter": "python",
   "pygments_lexer": "ipython3",
   "version": "3.13.2"
  }
 },
 "nbformat": 4,
 "nbformat_minor": 5
}
