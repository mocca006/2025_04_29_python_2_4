{
 "cells": [
  {
   "cell_type": "code",
   "execution_count": 1,
   "id": "e2e9be62",
   "metadata": {},
   "outputs": [],
   "source": [
    "# 自訂class\n",
    "\n",
    "class Student:\n",
    "    def __init__(self,name:str,chinese:int,english:int,math:int):\n",
    "        self.name = name\n",
    "        self.chinese = chinese\n",
    "        self.english = english\n",
    "        self.math = math\n",
    "\n",
    "    @property\n",
    "    def total(self)->int:\n",
    "        return self.chinese + self.english + self.math\n",
    "\n",
    "    def average(self)->float:\n",
    "        return round(self.total / 3.0,ndigits=2)\n",
    "\n",
    "    def __repr__(self)->str: # \n",
    "        return f'{self.name}的相關資料'"
   ]
  },
  {
   "cell_type": "code",
   "execution_count": null,
   "id": "1d940490",
   "metadata": {},
   "outputs": [
    {
     "name": "stdout",
     "output_type": "stream",
     "text": [
      "<class '__main__.Student'>\n",
      "robert 89 78 92\n",
      "259\n",
      "86.33\n",
      "robert的相關資料\n"
     ]
    }
   ],
   "source": [
    "stu1 = Student(name='robert',chinese=89, english=78, math=92)\n",
    "print(type(stu1))\n",
    "print(stu1.name, stu1.chinese, stu1.english, stu1.math)\n",
    "print(stu1.total)\n",
    "print(stu1.average()) \n",
    "print(stu1)"
   ]
  },
  {
   "cell_type": "code",
   "execution_count": 3,
   "id": "31f67e4b",
   "metadata": {},
   "outputs": [
    {
     "name": "stdout",
     "output_type": "stream",
     "text": [
      "<class '__main__.Student'>\n",
      "jenny 76 87 89\n",
      "252\n",
      "84.0\n",
      "jenny的相關資料\n"
     ]
    }
   ],
   "source": [
    "stu2 = Student(name='jenny',chinese=76, english=87, math=89)\n",
    "print(type(stu2))\n",
    "print(stu2.name, stu2.chinese, stu2.english, stu2.math)\n",
    "print(stu2.total)\n",
    "print(stu2.average())\n",
    "print(stu2)"
   ]
  }
 ],
 "metadata": {
  "kernelspec": {
   "display_name": "base",
   "language": "python",
   "name": "python3"
  },
  "language_info": {
   "codemirror_mode": {
    "name": "ipython",
    "version": 3
   },
   "file_extension": ".py",
   "mimetype": "text/x-python",
   "name": "python",
   "nbconvert_exporter": "python",
   "pygments_lexer": "ipython3",
   "version": "3.12.9"
  }
 },
 "nbformat": 4,
 "nbformat_minor": 5
}
