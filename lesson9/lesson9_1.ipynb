{
 "cells": [
  {
   "cell_type": "code",
   "execution_count": null,
   "id": "ad30741e",
   "metadata": {},
   "outputs": [],
   "source": [
    "#使用內建class\n",
    "#內建class 名稱是dataclass\n",
    "\n",
    "from dataclasses import dataclass\n",
    "\n",
    "@dataclass\n",
    "class Student:\n",
    "    name:str #屬性名稱 後面要有type hint ex.str ex.int\n",
    "    chinese:int\n",
    "    english:int\n",
    "    math:int\n",
    "\n",
    "    @property\n",
    "    def total(self) ->int: #定義 property 名稱total\n",
    "        return self.chinese + self.english + self.math \n",
    "\n",
    "    def average(self) ->float: #實體方法 \n",
    "        return round(self.total / 3.0,ndigits=2) #浮點數2個"
   ]
  },
  {
   "cell_type": "code",
   "execution_count": 8,
   "id": "c9a9ec7c",
   "metadata": {},
   "outputs": [
    {
     "name": "stdout",
     "output_type": "stream",
     "text": [
      "<class '__main__.Student'>\n",
      "robert 89 78 92\n",
      "259\n",
      "86.33\n"
     ]
    }
   ],
   "source": [
    "#透過class Student建立實體\n",
    "\n",
    "stu1 = Student(name='robert',chinese=89, english=78, math=92)\n",
    "print(type(stu1))\n",
    "print(stu1.name, stu1.chinese, stu1.english, stu1.math)\n",
    "\n",
    "print(stu1.total)\n",
    "print(stu1.average()) #實體方法一定要有()"
   ]
  },
  {
   "cell_type": "code",
   "execution_count": null,
   "id": "856b8d55",
   "metadata": {},
   "outputs": [
    {
     "name": "stdout",
     "output_type": "stream",
     "text": [
      "<class '__main__.Student'>\n",
      "jenny 76 87 89\n",
      "252\n",
      "84.0\n"
     ]
    }
   ],
   "source": [
    "stu2 = Student(name='jenny',chinese=76, english=87, math=89)\n",
    "print(type(stu2))\n",
    "print(stu2.name, stu2.chinese, stu2.english, stu2.math)\n",
    "print(stu2.total)\n",
    "print(stu2.average()) #實體方法一定要有()"
   ]
  },
  {
   "cell_type": "code",
   "execution_count": null,
   "id": "fb830997",
   "metadata": {},
   "outputs": [],
   "source": []
  }
 ],
 "metadata": {
  "kernelspec": {
   "display_name": "base",
   "language": "python",
   "name": "python3"
  },
  "language_info": {
   "codemirror_mode": {
    "name": "ipython",
    "version": 3
   },
   "file_extension": ".py",
   "mimetype": "text/x-python",
   "name": "python",
   "nbconvert_exporter": "python",
   "pygments_lexer": "ipython3",
   "version": "3.12.9"
  }
 },
 "nbformat": 4,
 "nbformat_minor": 5
}
