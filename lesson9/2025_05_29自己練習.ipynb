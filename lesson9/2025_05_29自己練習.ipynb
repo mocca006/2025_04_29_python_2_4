{
 "cells": [
  {
   "cell_type": "code",
   "execution_count": null,
   "id": "3a21066d",
   "metadata": {},
   "outputs": [],
   "source": [
    "#lesson5\n",
    "\n",
    "def func_sum(a,b):\n",
    "    c=a+b\n",
    "    print(c)\n",
    "    return()\n",
    "print(\"1\")\n",
    "\n",
    "func_sum(3,4)\n",
    "print(\"2\")"
   ]
  },
  {
   "cell_type": "code",
   "execution_count": null,
   "id": "65e86c15",
   "metadata": {},
   "outputs": [],
   "source": [
    "#lesson5\n",
    "\n",
    "def func_sum(a,b):\n",
    "    c=a+b\n",
    "    print(c)\n",
    "    return()\n",
    "print(\"1\")\n",
    "\n",
    "func_sum('3','4')\n",
    "print(\"2\")\n",
    "\n",
    "func_sum('x','y')"
   ]
  },
  {
   "cell_type": "code",
   "execution_count": null,
   "id": "febbebfe",
   "metadata": {},
   "outputs": [],
   "source": [
    "#lesson5\n",
    "\n",
    "def func_sum(a,b):\n",
    "    c=a+b\n",
    "\n",
    "    return(c)\n",
    "\n",
    "z=func_sum(10,15)\n",
    "print(z)"
   ]
  },
  {
   "cell_type": "code",
   "execution_count": null,
   "id": "1b9495f5",
   "metadata": {},
   "outputs": [],
   "source": [
    "#lesson5\n",
    "\n",
    "def func_sum(a,b):\n",
    "    c=a+b\n",
    "    print(c)\n",
    "    return(a*c)\n",
    "\n",
    "#print('b')\n",
    "\n",
    "x=func_sum(3,4)\n",
    "print(x)"
   ]
  },
  {
   "cell_type": "code",
   "execution_count": null,
   "id": "0628a481",
   "metadata": {},
   "outputs": [],
   "source": [
    "def manyvalue(a,b):\n",
    "    c=a+b\n",
    "    return(a,b,c)\n",
    "print('多個變數接收')\n",
    "\n",
    "x,y,z=manyvalue(1,2)\n",
    "print(x,y,z)\n",
    "\n",
    "x,y,z=manyvalue(1,2)\n",
    "print(x,y)\n",
    "\n",
    "x,y,z,w=manyvalue(1,2)\n",
    "print(x,y,z,w)"
   ]
  },
  {
   "cell_type": "code",
   "execution_count": null,
   "id": "a2786bc8",
   "metadata": {},
   "outputs": [],
   "source": [
    "1"
   ]
  }
 ],
 "metadata": {
  "kernelspec": {
   "display_name": "base",
   "language": "python",
   "name": "python3"
  },
  "language_info": {
   "codemirror_mode": {
    "name": "ipython",
    "version": 3
   },
   "file_extension": ".py",
   "mimetype": "text/x-python",
   "name": "python",
   "nbconvert_exporter": "python",
   "pygments_lexer": "ipython3",
   "version": "3.12.9"
  }
 },
 "nbformat": 4,
 "nbformat_minor": 5
}
