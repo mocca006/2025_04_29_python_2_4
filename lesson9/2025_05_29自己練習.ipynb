{
 "cells": [
  {
   "cell_type": "code",
   "execution_count": 2,
   "id": "3a21066d",
   "metadata": {},
   "outputs": [
    {
     "name": "stdout",
     "output_type": "stream",
     "text": [
      "1\n",
      "7\n",
      "2\n"
     ]
    }
   ],
   "source": [
    "#lesson5\n",
    "\n",
    "def func_sum(a,b):\n",
    "    c=a+b\n",
    "    print(c)\n",
    "    return()\n",
    "print(\"1\")\n",
    "\n",
    "func_sum(3,4)\n",
    "print(\"2\")"
   ]
  },
  {
   "cell_type": "code",
   "execution_count": 3,
   "id": "65e86c15",
   "metadata": {},
   "outputs": [
    {
     "name": "stdout",
     "output_type": "stream",
     "text": [
      "1\n",
      "34\n",
      "2\n",
      "xy\n"
     ]
    },
    {
     "data": {
      "text/plain": [
       "()"
      ]
     },
     "execution_count": 3,
     "metadata": {},
     "output_type": "execute_result"
    }
   ],
   "source": [
    "#lesson5\n",
    "\n",
    "def func_sum(a,b):\n",
    "    c=a+b\n",
    "    print(c)\n",
    "    return()\n",
    "print(\"1\")\n",
    "\n",
    "func_sum('3','4')\n",
    "print(\"2\")\n",
    "\n",
    "func_sum('x','y')"
   ]
  },
  {
   "cell_type": "code",
   "execution_count": 4,
   "id": "febbebfe",
   "metadata": {},
   "outputs": [
    {
     "name": "stdout",
     "output_type": "stream",
     "text": [
      "25\n"
     ]
    }
   ],
   "source": [
    "#lesson5\n",
    "\n",
    "def func_sum(a,b):\n",
    "    c=a+b\n",
    "\n",
    "    return(c)\n",
    "\n",
    "z=func_sum(10,15)\n",
    "print(z)"
   ]
  },
  {
   "cell_type": "code",
   "execution_count": 8,
   "id": "1b9495f5",
   "metadata": {},
   "outputs": [
    {
     "name": "stdout",
     "output_type": "stream",
     "text": [
      "7\n",
      "21\n"
     ]
    }
   ],
   "source": [
    "#lesson5\n",
    "\n",
    "def func_sum(a,b):\n",
    "    c=a+b\n",
    "    print(c)\n",
    "    return(a*c)\n",
    "\n",
    "#print('b')\n",
    "\n",
    "x=func_sum(3,4)\n",
    "print(x)"
   ]
  },
  {
   "cell_type": "code",
   "execution_count": 13,
   "id": "0628a481",
   "metadata": {},
   "outputs": [
    {
     "name": "stdout",
     "output_type": "stream",
     "text": [
      "多個變數接收\n",
      "1 2 3\n",
      "1 2\n"
     ]
    },
    {
     "ename": "ValueError",
     "evalue": "not enough values to unpack (expected 4, got 3)",
     "output_type": "error",
     "traceback": [
      "\u001b[31m---------------------------------------------------------------------------\u001b[39m",
      "\u001b[31mValueError\u001b[39m                                Traceback (most recent call last)",
      "\u001b[36mCell\u001b[39m\u001b[36m \u001b[39m\u001b[32mIn[13]\u001b[39m\u001b[32m, line 12\u001b[39m\n\u001b[32m      9\u001b[39m x,y,z=manyvalue(\u001b[32m1\u001b[39m,\u001b[32m2\u001b[39m)\n\u001b[32m     10\u001b[39m \u001b[38;5;28mprint\u001b[39m(x,y)\n\u001b[32m---> \u001b[39m\u001b[32m12\u001b[39m x,y,z,w=manyvalue(\u001b[32m1\u001b[39m,\u001b[32m2\u001b[39m)\n\u001b[32m     13\u001b[39m \u001b[38;5;28mprint\u001b[39m(x,y,z,w)\n",
      "\u001b[31mValueError\u001b[39m: not enough values to unpack (expected 4, got 3)"
     ]
    }
   ],
   "source": [
    "def manyvalue(a,b):\n",
    "    c=a+b\n",
    "    return(a,b,c)\n",
    "print('多個變數接收')\n",
    "\n",
    "x,y,z=manyvalue(1,2)\n",
    "print(x,y,z)\n",
    "\n",
    "x,y,z=manyvalue(1,2)\n",
    "print(x,y)\n",
    "\n",
    "x,y,z,w=manyvalue(1,2)\n",
    "print(x,y,z,w)"
   ]
  },
  {
   "cell_type": "code",
   "execution_count": null,
   "id": "a2786bc8",
   "metadata": {},
   "outputs": [],
   "source": [
    "1"
   ]
  }
 ],
 "metadata": {
  "kernelspec": {
   "display_name": "base",
   "language": "python",
   "name": "python3"
  },
  "language_info": {
   "codemirror_mode": {
    "name": "ipython",
    "version": 3
   },
   "file_extension": ".py",
   "mimetype": "text/x-python",
   "name": "python",
   "nbconvert_exporter": "python",
   "pygments_lexer": "ipython3",
   "version": "3.12.9"
  }
 },
 "nbformat": 4,
 "nbformat_minor": 5
}
