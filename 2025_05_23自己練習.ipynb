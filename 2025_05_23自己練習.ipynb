{
 "cells": [
  {
   "cell_type": "code",
   "execution_count": 21,
   "id": "a81541d6",
   "metadata": {},
   "outputs": [
    {
     "name": "stdout",
     "output_type": "stream",
     "text": [
      "參數\n",
      "0\n",
      "1\n",
      "2\n",
      "3\n",
      "1離開後的i 3\n"
     ]
    }
   ],
   "source": [
    "#eppy16it6_lesson3\n",
    "\n",
    "print (\"參數\")\n",
    "\n",
    "for i in range(4):\n",
    "    print(i)\n",
    "print(\"1離開後的i\",i)\n"
   ]
  },
  {
   "cell_type": "code",
   "execution_count": 22,
   "id": "c8fa5229",
   "metadata": {},
   "outputs": [
    {
     "name": "stdout",
     "output_type": "stream",
     "text": [
      "參數\n",
      "0\n",
      "1\n",
      "2\n",
      "3\n",
      "1離開後的i 3\n",
      "2離開後的i 3\n"
     ]
    }
   ],
   "source": [
    "#eppy16it6_lesson3\n",
    "\n",
    "print (\"參數\")\n",
    "\n",
    "for i in range(4):\n",
    "    print(i)\n",
    "print(\"1離開後的i\",i)\n",
    "\n",
    "for i in range(-4):\n",
    "    print(i)\n",
    "print(\"2離開後的i\",i)\n",
    "\n"
   ]
  },
  {
   "cell_type": "code",
   "execution_count": 23,
   "id": "f8e2ead1",
   "metadata": {},
   "outputs": [
    {
     "name": "stdout",
     "output_type": "stream",
     "text": [
      "2個參數\n",
      "4\n",
      "5\n",
      "6\n",
      "7\n",
      "1離開後的i 7\n",
      "2離開後的i 7\n",
      "3離開後的i 7\n"
     ]
    }
   ],
   "source": [
    "#eppy16it6_lesson3\n",
    "\n",
    "print (\"2個參數\")\n",
    "\n",
    "for i in range(4,8):\n",
    "    print(i)\n",
    "print(\"1離開後的i\",i)\n",
    "\n",
    "for i in range(-4,-8):\n",
    "    print(i)\n",
    "print(\"2離開後的i\",i)\n",
    "\n",
    "for i in range(8,4):\n",
    "    print(i)\n",
    "print(\"3離開後的i\",i)"
   ]
  },
  {
   "cell_type": "code",
   "execution_count": 24,
   "id": "aab715f4",
   "metadata": {},
   "outputs": [
    {
     "name": "stdout",
     "output_type": "stream",
     "text": [
      "range(0, 10)\n",
      "<class 'range'>\n",
      "[0, 1, 2, 3, 4, 5, 6, 7, 8, 9]\n",
      "******************************\n",
      "range(1, 10)\n",
      "<class 'range'>\n",
      "[1, 2, 3, 4, 5, 6, 7, 8, 9]\n",
      "------------------------------\n",
      "range(1, 10, 2)\n",
      "<class 'range'>\n",
      "[1, 3, 5, 7, 9]\n",
      "******************************\n",
      "range(10, 1, -2)\n",
      "<class 'range'>\n",
      "[10, 8, 6, 4, 2]\n",
      "------------------------------\n"
     ]
    }
   ],
   "source": [
    "list1=range(10)\n",
    "list2=range(1,10)\n",
    "list3=range(1,10,2)\n",
    "list4=range(10,1,-2)\n",
    "\n",
    "print(list1)\n",
    "print(type(list1))\n",
    "print(list(list1))\n",
    "\n",
    "print(\"*\"*30)\n",
    "\n",
    "print(list2)\n",
    "print(type(list2))\n",
    "print(list(list2))\n",
    "\n",
    "print(\"-\"*30)\n",
    "\n",
    "print(list3)\n",
    "print(type(list3))\n",
    "print(list(list3))\n",
    "\n",
    "print(\"*\"*30)\n",
    "\n",
    "print(list4)\n",
    "print(type(list4))\n",
    "print(list(list4))\n",
    "\n",
    "print(\"-\"*30)"
   ]
  },
  {
   "cell_type": "code",
   "execution_count": 25,
   "id": "06f481dd",
   "metadata": {},
   "outputs": [
    {
     "name": "stdout",
     "output_type": "stream",
     "text": [
      "1\n",
      "2\n",
      "3\n",
      "4\n",
      "hello\n",
      "******************************\n",
      "1\n",
      "2\n",
      "3\n",
      "4\n",
      "6\n",
      "7\n",
      "8\n",
      "9\n",
      "10\n",
      "hello\n"
     ]
    }
   ],
   "source": [
    "#for loop\n",
    "\n",
    "for i in range(1,11):\n",
    "    if i==5:\n",
    "        break\n",
    "    print(i)\n",
    "print(\"hello\")\n",
    "\n",
    "print(\"*\"*30)\n",
    "\n",
    "for i in range(1,11):\n",
    "    if i==5: #5被跳過\n",
    "        continue\n",
    "    print(i)\n",
    "print(\"hello\")"
   ]
  },
  {
   "cell_type": "code",
   "execution_count": null,
   "id": "65e89cf9",
   "metadata": {},
   "outputs": [],
   "source": []
  }
 ],
 "metadata": {
  "kernelspec": {
   "display_name": "base",
   "language": "python",
   "name": "python3"
  },
  "language_info": {
   "codemirror_mode": {
    "name": "ipython",
    "version": 3
   },
   "file_extension": ".py",
   "mimetype": "text/x-python",
   "name": "python",
   "nbconvert_exporter": "python",
   "pygments_lexer": "ipython3",
   "version": "3.12.9"
  }
 },
 "nbformat": 4,
 "nbformat_minor": 5
}
